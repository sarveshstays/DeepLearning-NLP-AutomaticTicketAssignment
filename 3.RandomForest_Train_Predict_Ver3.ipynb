{
 "cells": [
  {
   "cell_type": "markdown",
   "metadata": {
    "colab_type": "text",
    "id": "NfAJ7EqD1Rb3"
   },
   "source": [
    "### Import Libraries and Load Drive"
   ]
  },
  {
   "cell_type": "code",
   "execution_count": 1,
   "metadata": {
    "colab": {
     "base_uri": "https://localhost:8080/",
     "height": 34
    },
    "colab_type": "code",
    "id": "EomuhvI9hkBj",
    "outputId": "a6db1883-08b7-4a14-8ad2-febe28c51fc2"
   },
   "outputs": [
    {
     "name": "stderr",
     "output_type": "stream",
     "text": [
      "Using TensorFlow backend.\n"
     ]
    }
   ],
   "source": [
    "import pandas as pd\n",
    "import itertools\n",
    "import numpy as np\n",
    "from sklearn import pipeline,ensemble,preprocessing,feature_extraction,metrics\n",
    "from sklearn.model_selection import train_test_split\n",
    "from keras.utils import np_utils\n",
    "from sklearn.preprocessing import LabelEncoder\n",
    "from sklearn.model_selection import RepeatedStratifiedKFold\n",
    "from sklearn import model_selection\n",
    "from sklearn import metrics\n",
    "from sklearn.metrics import confusion_matrix, classification_report, accuracy_score, roc_auc_score\n",
    "from sklearn.metrics import precision_score, recall_score, roc_curve, auc\n",
    "from sklearn import svm\n",
    "from xgboost import XGBClassifier\n",
    "from sklearn.naive_bayes import MultinomialNB\n",
    "import seaborn as sns\n",
    "import pickle\n",
    "from joblib import dump, load\n",
    "import os\n",
    "\n",
    "from sklearn.model_selection import StratifiedShuffleSplit\n"
   ]
  },
  {
   "cell_type": "code",
   "execution_count": 2,
   "metadata": {
    "colab": {
     "base_uri": "https://localhost:8080/",
     "height": 34
    },
    "colab_type": "code",
    "id": "YSKJ2zR_ihea",
    "outputId": "0422cf21-1637-4251-bddb-a45fe2f6f73f"
   },
   "outputs": [
    {
     "name": "stdout",
     "output_type": "stream",
     "text": [
      "Drive already mounted at /content/drive; to attempt to forcibly remount, call drive.mount(\"/content/drive\", force_remount=True).\n"
     ]
    }
   ],
   "source": [
    "from google.colab import drive\n",
    "drive.mount('/content/drive')"
   ]
  },
  {
   "cell_type": "code",
   "execution_count": 0,
   "metadata": {
    "colab": {},
    "colab_type": "code",
    "id": "QWoG2C3EilOu"
   },
   "outputs": [],
   "source": [
    "#Set your project path \n",
    "project_path =  '/content/drive/My Drive/Colab Notebooks/DataSets'\n",
    "\n",
    "# set the google drive directory path to read and save all files there\n",
    "os.chdir(project_path)"
   ]
  },
  {
   "cell_type": "markdown",
   "metadata": {
    "colab_type": "text",
    "id": "DznMdj8U1Z9o"
   },
   "source": [
    "### Read File Stored After EDA"
   ]
  },
  {
   "cell_type": "code",
   "execution_count": 0,
   "metadata": {
    "colab": {},
    "colab_type": "code",
    "id": "yWxaIqQGiugB"
   },
   "outputs": [],
   "source": [
    "# df = pd.read_excel('EDA_Processed_Cleaned_TicketData.xlsx')\n",
    "df = pd.read_excel('EDA_Processed_Cleaned_TicketData_OverSample.xlsx')\n",
    "dfModelBuilding = df[['LemmaString','NewAssignmentGroup']]"
   ]
  },
  {
   "cell_type": "code",
   "execution_count": 5,
   "metadata": {
    "colab": {
     "base_uri": "https://localhost:8080/",
     "height": 289
    },
    "colab_type": "code",
    "id": "o9Vrafinj5BZ",
    "outputId": "c1d7705c-ec7c-46f5-8ba1-c348e7f10f66"
   },
   "outputs": [
    {
     "data": {
      "text/plain": [
       "GRP_0     3266\n",
       "GRP_12    1440\n",
       "GRP_2     1440\n",
       "GRP_19    1170\n",
       "GRP_3     1146\n",
       "GRP_9     1038\n",
       "GRP_24    1014\n",
       "GRP_13     966\n",
       "GRP_8      911\n",
       "GRP_10     840\n",
       "GRP_98     799\n",
       "GRP_14     791\n",
       "GRP_25     763\n",
       "GRP_5      728\n",
       "GRP_99     659\n",
       "Name: NewAssignmentGroup, dtype: int64"
      ]
     },
     "execution_count": 5,
     "metadata": {
      "tags": []
     },
     "output_type": "execute_result"
    }
   ],
   "source": [
    "dfModelBuilding['NewAssignmentGroup'].value_counts()"
   ]
  },
  {
   "cell_type": "markdown",
   "metadata": {
    "colab_type": "text",
    "id": "0uDmvqG81iu_"
   },
   "source": [
    "### Define Groups For L12 and L3"
   ]
  },
  {
   "cell_type": "code",
   "execution_count": 0,
   "metadata": {
    "colab": {},
    "colab_type": "code",
    "id": "HNkZQDLyi3rH"
   },
   "outputs": [],
   "source": [
    "Grp1 = ['GRP_0', 'GRP_8', 'GRP_2', 'GRP_12', 'GRP_19',  'GRP_3', 'GRP_9', 'GRP_24']\n",
    "Grp2 = ['GRP_10', 'GRP_13', 'GRP_14','GRP_5', 'GRP_25','GRP_98','GRP_99']"
   ]
  },
  {
   "cell_type": "code",
   "execution_count": 0,
   "metadata": {
    "colab": {},
    "colab_type": "code",
    "id": "U4jWbY2gi46Q"
   },
   "outputs": [],
   "source": [
    "def SetGrp(text):\n",
    "    if text in Grp1:\n",
    "        return 0\n",
    "    if text in Grp2:\n",
    "        return 1"
   ]
  },
  {
   "cell_type": "code",
   "execution_count": 8,
   "metadata": {
    "colab": {
     "base_uri": "https://localhost:8080/",
     "height": 119
    },
    "colab_type": "code",
    "id": "ATReBdEnjQGc",
    "outputId": "5160c14a-a057-456e-ec66-6513f52f473a"
   },
   "outputs": [
    {
     "name": "stderr",
     "output_type": "stream",
     "text": [
      "/usr/local/lib/python3.6/dist-packages/ipykernel_launcher.py:1: SettingWithCopyWarning: \n",
      "A value is trying to be set on a copy of a slice from a DataFrame.\n",
      "Try using .loc[row_indexer,col_indexer] = value instead\n",
      "\n",
      "See the caveats in the documentation: http://pandas.pydata.org/pandas-docs/stable/user_guide/indexing.html#returning-a-view-versus-a-copy\n",
      "  \"\"\"Entry point for launching an IPython kernel.\n"
     ]
    }
   ],
   "source": [
    "dfModelBuilding['Level1Grp'] = dfModelBuilding['NewAssignmentGroup'].apply(lambda x : SetGrp(x))"
   ]
  },
  {
   "cell_type": "code",
   "execution_count": 9,
   "metadata": {
    "colab": {
     "base_uri": "https://localhost:8080/",
     "height": 204
    },
    "colab_type": "code",
    "id": "SzQ3Parlk8zF",
    "outputId": "08b5fc3b-2248-45c0-dfa8-5feb2836b2ab"
   },
   "outputs": [
    {
     "data": {
      "text/html": [
       "<div>\n",
       "<style scoped>\n",
       "    .dataframe tbody tr th:only-of-type {\n",
       "        vertical-align: middle;\n",
       "    }\n",
       "\n",
       "    .dataframe tbody tr th {\n",
       "        vertical-align: top;\n",
       "    }\n",
       "\n",
       "    .dataframe thead th {\n",
       "        text-align: right;\n",
       "    }\n",
       "</style>\n",
       "<table border=\"1\" class=\"dataframe\">\n",
       "  <thead>\n",
       "    <tr style=\"text-align: right;\">\n",
       "      <th></th>\n",
       "      <th>LemmaString</th>\n",
       "      <th>NewAssignmentGroup</th>\n",
       "      <th>Level1Grp</th>\n",
       "    </tr>\n",
       "  </thead>\n",
       "  <tbody>\n",
       "    <tr>\n",
       "      <th>0</th>\n",
       "      <td>login issue verify user detail employee manage...</td>\n",
       "      <td>GRP_0</td>\n",
       "      <td>0</td>\n",
       "    </tr>\n",
       "    <tr>\n",
       "      <th>1</th>\n",
       "      <td>outlook team meeting skype not appear calendar...</td>\n",
       "      <td>GRP_0</td>\n",
       "      <td>0</td>\n",
       "    </tr>\n",
       "    <tr>\n",
       "      <th>2</th>\n",
       "      <td>ca not log vpn can not</td>\n",
       "      <td>GRP_0</td>\n",
       "      <td>0</td>\n",
       "    </tr>\n",
       "    <tr>\n",
       "      <th>3</th>\n",
       "      <td>unable access hr tool</td>\n",
       "      <td>GRP_0</td>\n",
       "      <td>0</td>\n",
       "    </tr>\n",
       "    <tr>\n",
       "      <th>4</th>\n",
       "      <td>unable log engineer tool skype</td>\n",
       "      <td>GRP_0</td>\n",
       "      <td>0</td>\n",
       "    </tr>\n",
       "  </tbody>\n",
       "</table>\n",
       "</div>"
      ],
      "text/plain": [
       "                                         LemmaString  ... Level1Grp\n",
       "0  login issue verify user detail employee manage...  ...         0\n",
       "1  outlook team meeting skype not appear calendar...  ...         0\n",
       "2                             ca not log vpn can not  ...         0\n",
       "3                              unable access hr tool  ...         0\n",
       "4                     unable log engineer tool skype  ...         0\n",
       "\n",
       "[5 rows x 3 columns]"
      ]
     },
     "execution_count": 9,
     "metadata": {
      "tags": []
     },
     "output_type": "execute_result"
    }
   ],
   "source": [
    "dfModelBuilding.head()"
   ]
  },
  {
   "cell_type": "code",
   "execution_count": 10,
   "metadata": {
    "colab": {
     "base_uri": "https://localhost:8080/",
     "height": 85
    },
    "colab_type": "code",
    "id": "5eGmIcrRlUz2",
    "outputId": "d3a1ba8f-7ccb-4afb-ab25-a5dc7678d4fc"
   },
   "outputs": [
    {
     "data": {
      "text/plain": [
       "Level1Grp\n",
       "0    11425\n",
       "1     5546\n",
       "dtype: int64"
      ]
     },
     "execution_count": 10,
     "metadata": {
      "tags": []
     },
     "output_type": "execute_result"
    }
   ],
   "source": [
    "dfModelBuilding.groupby('Level1Grp').size().sort_values(ascending=False)"
   ]
  },
  {
   "cell_type": "markdown",
   "metadata": {
    "colab_type": "text",
    "id": "mtqah8lg1v6V"
   },
   "source": [
    "## Model Execution"
   ]
  },
  {
   "cell_type": "markdown",
   "metadata": {
    "colab_type": "text",
    "id": "tSoZRe0bNoeh"
   },
   "source": [
    "### Score Functions"
   ]
  },
  {
   "cell_type": "code",
   "execution_count": 0,
   "metadata": {
    "colab": {},
    "colab_type": "code",
    "id": "4sWeIwxc2xTb"
   },
   "outputs": [],
   "source": [
    "# def print_scores(y_test,y_pred,y_pred_prob):\n",
    "def print_scores(y_test,y_pred):\n",
    "    print(\"Accuracy score: \\n\", accuracy_score(y_test,y_pred))\n",
    "    print('Test-set confusion matrix:\\n', confusion_matrix(y_test,y_pred))\n",
    "    cm = confusion_matrix(y_test,y_pred)\n",
    "    sns.heatmap(cm, annot=True, fmt='g')\n",
    "    print(\"Classification report:\" \"\\n\", classification_report(y_test,y_pred))\n",
    "    # print(\"ROC AUC: {}\".format(roc_auc_score(y_test, y_pred_prob[:,1])))"
   ]
  },
  {
   "cell_type": "code",
   "execution_count": 0,
   "metadata": {
    "colab": {},
    "colab_type": "code",
    "id": "wUQXp5EbQPOT"
   },
   "outputs": [],
   "source": [
    "def multiclass_roc_auc_score(y_test, y_pred, average=\"macro\"):\n",
    "  lb = preprocessing.LabelBinarizer()\n",
    "  lb.fit(y_test)\n",
    "  y_test = lb.transform(y_test)\n",
    "  y_pred = lb.transform(y_pred)\n",
    "  return roc_auc_score(y_test, y_pred, average=average)"
   ]
  },
  {
   "cell_type": "code",
   "execution_count": 0,
   "metadata": {
    "colab": {},
    "colab_type": "code",
    "id": "uoN9xofo5wgW"
   },
   "outputs": [],
   "source": []
  },
  {
   "cell_type": "markdown",
   "metadata": {
    "colab_type": "text",
    "id": "p0BD1zEU1ptu"
   },
   "source": [
    "### Random Forest - Create Pipeline (**Level-1 Groups**)"
   ]
  },
  {
   "cell_type": "code",
   "execution_count": 0,
   "metadata": {
    "colab": {},
    "colab_type": "code",
    "id": "sRPMUTgxk-cg"
   },
   "outputs": [],
   "source": [
    "# the below pipeline is for the level1 group identification and another pipeline to second level\n",
    "\n",
    "clf=pipeline.Pipeline([\n",
    "        ('tfidf_vectorizer', feature_extraction.text.TfidfVectorizer(lowercase=True)),\n",
    "        ('rf_classifier', ensemble.RandomForestClassifier(n_estimators=500,verbose=1,n_jobs=-1))\n",
    "    ])"
   ]
  },
  {
   "cell_type": "code",
   "execution_count": 0,
   "metadata": {
    "colab": {},
    "colab_type": "code",
    "id": "vPSRmaqA8f1o"
   },
   "outputs": [],
   "source": [
    "X_train, X_test, y_train, y_test = train_test_split(dfModelBuilding['LemmaString'], dfModelBuilding['Level1Grp'], test_size=0.2)"
   ]
  },
  {
   "cell_type": "code",
   "execution_count": 15,
   "metadata": {
    "colab": {
     "base_uri": "https://localhost:8080/",
     "height": 221
    },
    "colab_type": "code",
    "id": "t0Z_3yQ085Ub",
    "outputId": "98820980-c8a5-4363-833e-3ccfa1dd4533"
   },
   "outputs": [
    {
     "data": {
      "text/plain": [
       "2049                    unable connect vpn update password\n",
       "10805    security incident repeat outbound connection t...\n",
       "12010    account activation morning reactivate colleagu...\n",
       "2911                       job fail scheduler monitor tool\n",
       "9007              monitor will not display video no signal\n",
       "                               ...                        \n",
       "8498     qualys scan require server completion hostname...\n",
       "5006     sysetem remote access dear sir system ca not awyw\n",
       "16529         hostname rfcserver exe process count service\n",
       "2942     uacyltoe hxgaycze email neerthyu agrtywal not ...\n",
       "16940    error customer morning include datum dana manu...\n",
       "Name: LemmaString, Length: 3395, dtype: object"
      ]
     },
     "execution_count": 15,
     "metadata": {
      "tags": []
     },
     "output_type": "execute_result"
    }
   ],
   "source": [
    "X_test"
   ]
  },
  {
   "cell_type": "code",
   "execution_count": 16,
   "metadata": {
    "colab": {
     "base_uri": "https://localhost:8080/",
     "height": 102
    },
    "colab_type": "code",
    "id": "F-0BWpp-mPvi",
    "outputId": "0d5225bb-61e7-4350-b0ce-2aebbf586ede"
   },
   "outputs": [
    {
     "name": "stderr",
     "output_type": "stream",
     "text": [
      "[Parallel(n_jobs=-1)]: Using backend ThreadingBackend with 2 concurrent workers.\n",
      "[Parallel(n_jobs=-1)]: Done  46 tasks      | elapsed:    2.1s\n",
      "[Parallel(n_jobs=-1)]: Done 196 tasks      | elapsed:    8.9s\n",
      "[Parallel(n_jobs=-1)]: Done 446 tasks      | elapsed:   20.2s\n",
      "[Parallel(n_jobs=-1)]: Done 500 out of 500 | elapsed:   22.6s finished\n"
     ]
    }
   ],
   "source": [
    "model = clf.fit(X_train,y_train)\n",
    "#clf.fit(dfModelBuilding['LemmaString'],dfModelBuilding['Level1Grp'])"
   ]
  },
  {
   "cell_type": "code",
   "execution_count": 0,
   "metadata": {
    "colab": {},
    "colab_type": "code",
    "id": "Ki1kmMCcyth3"
   },
   "outputs": [],
   "source": [
    "rf_model = model.steps[1][1]\n",
    "import pickle\n",
    "with open('model_RandomForestFirstLevel.pickle', 'wb') as f:\n",
    "    pickle.dump(rf_model, f)"
   ]
  },
  {
   "cell_type": "code",
   "execution_count": 0,
   "metadata": {
    "colab": {},
    "colab_type": "code",
    "id": "0BlzE6qj7Ce9"
   },
   "outputs": [],
   "source": [
    "with open('model_RandomForestFirstLevel.pickle', 'rb') as f:\n",
    "    firstlevel_model = pickle.load(f, encoding='iso-8859-1')"
   ]
  },
  {
   "cell_type": "code",
   "execution_count": 21,
   "metadata": {
    "colab": {
     "base_uri": "https://localhost:8080/",
     "height": 34
    },
    "colab_type": "code",
    "id": "oyuW_GDcBjmD",
    "outputId": "47e882fb-8bd5-4409-d290-a2207bbf4eb3"
   },
   "outputs": [
    {
     "data": {
      "text/plain": [
       "['model_RandomForestFirstLevel.model']"
      ]
     },
     "execution_count": 21,
     "metadata": {
      "tags": []
     },
     "output_type": "execute_result"
    }
   ],
   "source": [
    "from sklearn.externals import joblib\n",
    "joblib.dump(model, 'model_RandomForestFirstLevel.model')"
   ]
  },
  {
   "cell_type": "code",
   "execution_count": 0,
   "metadata": {
    "colab": {},
    "colab_type": "code",
    "id": "lrXR1B1kB9-k"
   },
   "outputs": [],
   "source": [
    "fittedModel = joblib.load('model_RandomForestFirstLevel.model')"
   ]
  },
  {
   "cell_type": "code",
   "execution_count": 0,
   "metadata": {
    "colab": {},
    "colab_type": "code",
    "id": "naAERJ5wFEEW"
   },
   "outputs": [],
   "source": [
    "labels = ['L12','L3']"
   ]
  },
  {
   "cell_type": "code",
   "execution_count": 24,
   "metadata": {
    "colab": {
     "base_uri": "https://localhost:8080/",
     "height": 119
    },
    "colab_type": "code",
    "id": "N_fm2BpiCHPF",
    "outputId": "799d4d52-3cf7-436b-8dc0-33a8084c6de2"
   },
   "outputs": [
    {
     "name": "stderr",
     "output_type": "stream",
     "text": [
      "[Parallel(n_jobs=2)]: Using backend ThreadingBackend with 2 concurrent workers.\n",
      "[Parallel(n_jobs=2)]: Done  46 tasks      | elapsed:    0.0s\n",
      "[Parallel(n_jobs=2)]: Done 196 tasks      | elapsed:    0.0s\n",
      "[Parallel(n_jobs=2)]: Done 446 tasks      | elapsed:    0.1s\n",
      "[Parallel(n_jobs=2)]: Done 500 out of 500 | elapsed:    0.1s finished\n"
     ]
    },
    {
     "data": {
      "text/plain": [
       "'L12'"
      ]
     },
     "execution_count": 24,
     "metadata": {
      "tags": []
     },
     "output_type": "execute_result"
    }
   ],
   "source": [
    "X_new = ['need vpn access employee laptop emzlw']\n",
    "pred = fittedModel.predict(X_new) \n",
    "level = labels[pred[0]]\n",
    "level"
   ]
  },
  {
   "cell_type": "code",
   "execution_count": 0,
   "metadata": {
    "colab": {},
    "colab_type": "code",
    "id": "5XsJ6vTK7Gif"
   },
   "outputs": [],
   "source": [
    "texts = 'skype business extend access external partner contractor she arrange conference call party work critical payroll project germany involve significant vendor contact her permission should set same'"
   ]
  },
  {
   "cell_type": "code",
   "execution_count": 0,
   "metadata": {
    "colab": {},
    "colab_type": "code",
    "id": "A_aicrtC7H8i"
   },
   "outputs": [],
   "source": [
    "from keras.preprocessing.text import Tokenizer\n",
    "from keras.preprocessing.sequence import pad_sequences\n",
    "tk = Tokenizer()\n",
    "tk.fit_on_texts(texts)\n",
    "index_list = tk.texts_to_sequences(texts)\n",
    "x_train = pad_sequences(index_list, maxlen=8794, padding='post', truncating='post')"
   ]
  },
  {
   "cell_type": "code",
   "execution_count": 27,
   "metadata": {
    "colab": {
     "base_uri": "https://localhost:8080/",
     "height": 34
    },
    "colab_type": "code",
    "id": "hOIR95H57RCH",
    "outputId": "fb4e2ae3-c780-4a06-c615-88ee84ead896"
   },
   "outputs": [
    {
     "data": {
      "text/plain": [
       "False"
      ]
     },
     "execution_count": 27,
     "metadata": {
      "tags": []
     },
     "output_type": "execute_result"
    }
   ],
   "source": [
    "firstlevel_model.warm_start"
   ]
  },
  {
   "cell_type": "code",
   "execution_count": 28,
   "metadata": {
    "colab": {
     "base_uri": "https://localhost:8080/",
     "height": 238
    },
    "colab_type": "code",
    "id": "IaDw_J3pmbqr",
    "outputId": "74739715-07ac-4695-83b1-ed2ca317d01c"
   },
   "outputs": [
    {
     "name": "stderr",
     "output_type": "stream",
     "text": [
      "[Parallel(n_jobs=2)]: Using backend ThreadingBackend with 2 concurrent workers.\n",
      "[Parallel(n_jobs=2)]: Done  46 tasks      | elapsed:    0.1s\n",
      "[Parallel(n_jobs=2)]: Done 196 tasks      | elapsed:    0.3s\n",
      "[Parallel(n_jobs=2)]: Done 446 tasks      | elapsed:    0.6s\n",
      "[Parallel(n_jobs=2)]: Done 500 out of 500 | elapsed:    0.6s finished\n",
      "[Parallel(n_jobs=2)]: Using backend ThreadingBackend with 2 concurrent workers.\n",
      "[Parallel(n_jobs=2)]: Done  46 tasks      | elapsed:    0.1s\n",
      "[Parallel(n_jobs=2)]: Done 196 tasks      | elapsed:    0.3s\n"
     ]
    },
    {
     "name": "stdout",
     "output_type": "stream",
     "text": [
      "[[2229   21]\n",
      " [ 162  983]]\n",
      "0.9460972017673048\n"
     ]
    },
    {
     "name": "stderr",
     "output_type": "stream",
     "text": [
      "[Parallel(n_jobs=2)]: Done 446 tasks      | elapsed:    0.6s\n",
      "[Parallel(n_jobs=2)]: Done 500 out of 500 | elapsed:    0.6s finished\n"
     ]
    }
   ],
   "source": [
    "#y_pred=clf.predict(dfModelBuilding['LemmaString'])\n",
    "#y_pred_prob = clf.predict_proba(dfModelBuilding['LemmaString'])\n",
    "#print(metrics.confusion_matrix(dfModelBuilding['Level1Grp'],y_pred))\n",
    "#print(metrics.accuracy_score(dfModelBuilding['Level1Grp'],y_pred))\n",
    "\n",
    "y_pred=clf.predict(X_test)\n",
    "y_pred_prob = clf.predict_proba(X_test)\n",
    "print(metrics.confusion_matrix(y_test,y_pred))\n",
    "print(metrics.accuracy_score(y_test,y_pred))"
   ]
  },
  {
   "cell_type": "code",
   "execution_count": 29,
   "metadata": {
    "colab": {
     "base_uri": "https://localhost:8080/",
     "height": 136
    },
    "colab_type": "code",
    "id": "FVeBCwBg8YE2",
    "outputId": "069ff537-7182-4756-b327-61267ae0f323"
   },
   "outputs": [
    {
     "data": {
      "text/plain": [
       "array([[0.998, 0.002],\n",
       "       [1.   , 0.   ],\n",
       "       [0.992, 0.008],\n",
       "       ...,\n",
       "       [0.014, 0.986],\n",
       "       [0.648, 0.352],\n",
       "       [0.   , 1.   ]])"
      ]
     },
     "execution_count": 29,
     "metadata": {
      "tags": []
     },
     "output_type": "execute_result"
    }
   ],
   "source": [
    "y_pred_prob"
   ]
  },
  {
   "cell_type": "code",
   "execution_count": 30,
   "metadata": {
    "colab": {
     "base_uri": "https://localhost:8080/",
     "height": 520
    },
    "colab_type": "code",
    "id": "WsntRIeSJnmx",
    "outputId": "40f95d2b-ded7-4423-9299-28288a5240f5"
   },
   "outputs": [
    {
     "name": "stdout",
     "output_type": "stream",
     "text": [
      "Accuracy score: \n",
      " 0.9460972017673048\n",
      "Test-set confusion matrix:\n",
      " [[2229   21]\n",
      " [ 162  983]]\n",
      "Classification report:\n",
      "               precision    recall  f1-score   support\n",
      "\n",
      "           0       0.93      0.99      0.96      2250\n",
      "           1       0.98      0.86      0.91      1145\n",
      "\n",
      "    accuracy                           0.95      3395\n",
      "   macro avg       0.96      0.92      0.94      3395\n",
      "weighted avg       0.95      0.95      0.95      3395\n",
      "\n"
     ]
    },
    {
     "data": {
      "image/png": "[encoded data removed]",
      "text/plain": [
       "<Figure size 432x288 with 2 Axes>"
      ]
     },
     "metadata": {
      "tags": []
     },
     "output_type": "display_data"
    }
   ],
   "source": [
    "#print_scores(dfModelBuilding['Level1Grp'],y_pred)\n",
    "print_scores(y_test,y_pred)"
   ]
  },
  {
   "cell_type": "markdown",
   "metadata": {
    "colab_type": "text",
    "id": "k4iuQV_8wy9M"
   },
   "source": [
    "####Analysis\n",
    "- For Class 0, higher recall indicates low false negative rate.\n",
    "- For Class 1, higher precision indicates low false positive rate."
   ]
  },
  {
   "cell_type": "code",
   "execution_count": 0,
   "metadata": {
    "colab": {},
    "colab_type": "code",
    "id": "zRL38kV72uYj"
   },
   "outputs": [],
   "source": [
    "# cm = confusion_matrix(dfModelBuilding['Level1Grp'],y_pred)\n",
    "# sns.heatmap(cm, annot=True, fmt='g')\n",
    "# print(\"Classification report:\" \"\\n\", classification_report(dfModelBuilding['Level1Grp'],y_pred))"
   ]
  },
  {
   "cell_type": "code",
   "execution_count": 0,
   "metadata": {
    "colab": {},
    "colab_type": "code",
    "id": "KdCn-EEgmtWI"
   },
   "outputs": [],
   "source": [
    "clf2=pipeline.Pipeline([\n",
    "        ('tfidf_vectorizer', feature_extraction.text.TfidfVectorizer(lowercase=True)),\n",
    "        ('rf_classifier', ensemble.RandomForestClassifier(n_estimators=500,verbose=1,n_jobs=-1))\n",
    "    ])"
   ]
  },
  {
   "cell_type": "code",
   "execution_count": 0,
   "metadata": {
    "colab": {},
    "colab_type": "code",
    "id": "lsagJbqkmu48"
   },
   "outputs": [],
   "source": [
    "clf3=pipeline.Pipeline([\n",
    "        ('tfidf_vectorizer', feature_extraction.text.TfidfVectorizer(lowercase=True)),\n",
    "        ('rf_classifier', ensemble.RandomForestClassifier(n_estimators=500,verbose=1,n_jobs=-1))\n",
    "    ])"
   ]
  },
  {
   "cell_type": "code",
   "execution_count": 0,
   "metadata": {
    "colab": {},
    "colab_type": "code",
    "id": "vOAuJUgtmxvt"
   },
   "outputs": [],
   "source": [
    "partDfZero = dfModelBuilding.loc[dfModelBuilding['Level1Grp'] == 0]\n",
    "partDfOne = dfModelBuilding.loc[dfModelBuilding['Level1Grp'] == 1]"
   ]
  },
  {
   "cell_type": "code",
   "execution_count": 35,
   "metadata": {
    "colab": {
     "base_uri": "https://localhost:8080/",
     "height": 221
    },
    "colab_type": "code",
    "id": "iAdKJA-7nGSJ",
    "outputId": "abbbd581-0e6c-47ee-f685-7cd88e511451"
   },
   "outputs": [
    {
     "name": "stderr",
     "output_type": "stream",
     "text": [
      "/usr/local/lib/python3.6/dist-packages/ipykernel_launcher.py:4: SettingWithCopyWarning: \n",
      "A value is trying to be set on a copy of a slice from a DataFrame.\n",
      "Try using .loc[row_indexer,col_indexer] = value instead\n",
      "\n",
      "See the caveats in the documentation: http://pandas.pydata.org/pandas-docs/stable/user_guide/indexing.html#returning-a-view-versus-a-copy\n",
      "  after removing the cwd from sys.path.\n",
      "/usr/local/lib/python3.6/dist-packages/ipykernel_launcher.py:5: SettingWithCopyWarning: \n",
      "A value is trying to be set on a copy of a slice from a DataFrame.\n",
      "Try using .loc[row_indexer,col_indexer] = value instead\n",
      "\n",
      "See the caveats in the documentation: http://pandas.pydata.org/pandas-docs/stable/user_guide/indexing.html#returning-a-view-versus-a-copy\n",
      "  \"\"\"\n"
     ]
    }
   ],
   "source": [
    "le1 = LabelEncoder()\n",
    "le2 = LabelEncoder()\n",
    "\n",
    "partDfZero['AssignmentGroup'] = le1.fit_transform(partDfZero['NewAssignmentGroup'])\n",
    "partDfOne['AssignmentGroup'] = le2.fit_transform(partDfOne['NewAssignmentGroup'])"
   ]
  },
  {
   "cell_type": "code",
   "execution_count": 0,
   "metadata": {
    "colab": {},
    "colab_type": "code",
    "id": "_RfDCKh-z3Y6"
   },
   "outputs": [],
   "source": [
    "X_train, X_test, y_train, y_test = train_test_split(partDfZero['LemmaString'], partDfZero['AssignmentGroup'], test_size=0.2)"
   ]
  },
  {
   "cell_type": "code",
   "execution_count": 37,
   "metadata": {
    "colab": {
     "base_uri": "https://localhost:8080/",
     "height": 306
    },
    "colab_type": "code",
    "id": "QUNRq4YinVwK",
    "outputId": "608f404e-6cf3-40c9-9df2-ee0628969f45"
   },
   "outputs": [
    {
     "name": "stderr",
     "output_type": "stream",
     "text": [
      "[Parallel(n_jobs=-1)]: Using backend ThreadingBackend with 2 concurrent workers.\n",
      "[Parallel(n_jobs=-1)]: Done  46 tasks      | elapsed:    1.5s\n",
      "[Parallel(n_jobs=-1)]: Done 196 tasks      | elapsed:    6.4s\n",
      "[Parallel(n_jobs=-1)]: Done 446 tasks      | elapsed:   14.4s\n",
      "[Parallel(n_jobs=-1)]: Done 500 out of 500 | elapsed:   16.1s finished\n",
      "[Parallel(n_jobs=2)]: Using backend ThreadingBackend with 2 concurrent workers.\n",
      "[Parallel(n_jobs=2)]: Done  46 tasks      | elapsed:    0.0s\n",
      "[Parallel(n_jobs=2)]: Done 196 tasks      | elapsed:    0.1s\n",
      "[Parallel(n_jobs=2)]: Done 446 tasks      | elapsed:    0.3s\n",
      "[Parallel(n_jobs=2)]: Done 500 out of 500 | elapsed:    0.4s finished\n",
      "[Parallel(n_jobs=2)]: Using backend ThreadingBackend with 2 concurrent workers.\n",
      "[Parallel(n_jobs=2)]: Done  46 tasks      | elapsed:    0.0s\n",
      "[Parallel(n_jobs=2)]: Done 196 tasks      | elapsed:    0.1s\n",
      "[Parallel(n_jobs=2)]: Done 446 tasks      | elapsed:    0.3s\n"
     ]
    },
    {
     "name": "stdout",
     "output_type": "stream",
     "text": [
      "Accuracy of partdf zero is ===>>\n",
      "0.9894967177242888\n"
     ]
    },
    {
     "name": "stderr",
     "output_type": "stream",
     "text": [
      "[Parallel(n_jobs=2)]: Done 500 out of 500 | elapsed:    0.3s finished\n"
     ]
    }
   ],
   "source": [
    "#clf2.fit(partDfZero['LemmaString'], partDfZero['AssignmentGroup'])\n",
    "#y2_pred = clf2.predict(partDfZero['LemmaString'])\n",
    "#y2_pred_prob = clf2.predict_proba(partDfZero['LemmaString'])\n",
    "#print('Accuracy of partdf zero is ===>>')\n",
    "#print(metrics.accuracy_score(partDfZero['AssignmentGroup'],y2_pred))\n",
    "\n",
    "model0 = clf2.fit(X_train,y_train)\n",
    "y2_pred = clf2.predict(X_test)\n",
    "y2_pred_prob = clf2.predict_proba(X_test)\n",
    "\n",
    "print('Accuracy of partdf zero is ===>>')\n",
    "print(metrics.accuracy_score(y_test,y2_pred))"
   ]
  },
  {
   "cell_type": "code",
   "execution_count": 38,
   "metadata": {
    "colab": {
     "base_uri": "https://localhost:8080/",
     "height": 34
    },
    "colab_type": "code",
    "id": "T8aYFMsLLfRr",
    "outputId": "dfb3f9bb-0ddb-4d8e-a99a-417f53c0daee"
   },
   "outputs": [
    {
     "data": {
      "text/plain": [
       "['model_RandomForestL12.model']"
      ]
     },
     "execution_count": 38,
     "metadata": {
      "tags": []
     },
     "output_type": "execute_result"
    }
   ],
   "source": [
    "joblib.dump(model0, 'model_RandomForestL12.model')"
   ]
  },
  {
   "cell_type": "code",
   "execution_count": 39,
   "metadata": {
    "colab": {
     "base_uri": "https://localhost:8080/",
     "height": 741
    },
    "colab_type": "code",
    "id": "UO5gQXVhKOJv",
    "outputId": "de9cb611-eacf-4ac1-bb44-7d267a0e115a"
   },
   "outputs": [
    {
     "name": "stdout",
     "output_type": "stream",
     "text": [
      "Accuracy score: \n",
      " 0.9894967177242888\n",
      "Test-set confusion matrix:\n",
      " [[649   3   2   2   1   1   0   1]\n",
      " [  0 282   0   0   0   0   0   0]\n",
      " [  0   0 256   0   0   0   0   0]\n",
      " [  0   0   0 294   0   0   0   0]\n",
      " [  0   0   0   0 196   0   0   0]\n",
      " [  0   0   0   0   0 221   0   0]\n",
      " [  5   9   0   0   0   0 173   0]\n",
      " [  0   0   0   0   0   0   0 190]]\n",
      "Classification report:\n",
      "               precision    recall  f1-score   support\n",
      "\n",
      "           0       0.99      0.98      0.99       659\n",
      "           1       0.96      1.00      0.98       282\n",
      "           2       0.99      1.00      1.00       256\n",
      "           3       0.99      1.00      1.00       294\n",
      "           4       0.99      1.00      1.00       196\n",
      "           5       1.00      1.00      1.00       221\n",
      "           6       1.00      0.93      0.96       187\n",
      "           7       0.99      1.00      1.00       190\n",
      "\n",
      "    accuracy                           0.99      2285\n",
      "   macro avg       0.99      0.99      0.99      2285\n",
      "weighted avg       0.99      0.99      0.99      2285\n",
      "\n",
      "ROC_AUC_Score:  0.9935913993849917\n"
     ]
    },
    {
     "data": {
      "image/png": "[encoded data removed]",
      "text/plain": [
       "<Figure size 432x288 with 2 Axes>"
      ]
     },
     "metadata": {
      "tags": []
     },
     "output_type": "display_data"
    }
   ],
   "source": [
    "#print_scores(partDfZero['AssignmentGroup'],y2_pred)\n",
    "## ,y2_pred_prob)\n",
    "#print(\"ROC_AUC_Score: \", multiclass_roc_auc_score(partDfZero['AssignmentGroup'],y2_pred))\n",
    "\n",
    "print_scores(y_test,y2_pred)\n",
    "# ,y2_pred_prob)\n",
    "print(\"ROC_AUC_Score: \", multiclass_roc_auc_score(y_test,y2_pred))"
   ]
  },
  {
   "cell_type": "code",
   "execution_count": 0,
   "metadata": {
    "colab": {},
    "colab_type": "code",
    "id": "JeMt8ZJT4dIB"
   },
   "outputs": [],
   "source": [
    "X_train, X_test, y_train, y_test = train_test_split(partDfOne['LemmaString'], partDfOne['AssignmentGroup'], test_size=0.2)"
   ]
  },
  {
   "cell_type": "code",
   "execution_count": 41,
   "metadata": {
    "colab": {
     "base_uri": "https://localhost:8080/",
     "height": 306
    },
    "colab_type": "code",
    "id": "9FMS5JE8nkOU",
    "outputId": "3a241e02-fb47-41fe-e15f-2f7d4dd7680b"
   },
   "outputs": [
    {
     "name": "stderr",
     "output_type": "stream",
     "text": [
      "[Parallel(n_jobs=-1)]: Using backend ThreadingBackend with 2 concurrent workers.\n",
      "[Parallel(n_jobs=-1)]: Done  46 tasks      | elapsed:    0.5s\n",
      "[Parallel(n_jobs=-1)]: Done 196 tasks      | elapsed:    2.2s\n",
      "[Parallel(n_jobs=-1)]: Done 446 tasks      | elapsed:    5.0s\n",
      "[Parallel(n_jobs=-1)]: Done 500 out of 500 | elapsed:    5.6s finished\n",
      "[Parallel(n_jobs=2)]: Using backend ThreadingBackend with 2 concurrent workers.\n",
      "[Parallel(n_jobs=2)]: Done  46 tasks      | elapsed:    0.0s\n",
      "[Parallel(n_jobs=2)]: Done 196 tasks      | elapsed:    0.1s\n",
      "[Parallel(n_jobs=2)]: Done 446 tasks      | elapsed:    0.2s\n",
      "[Parallel(n_jobs=2)]: Done 500 out of 500 | elapsed:    0.2s finished\n",
      "[Parallel(n_jobs=2)]: Using backend ThreadingBackend with 2 concurrent workers.\n",
      "[Parallel(n_jobs=2)]: Done  46 tasks      | elapsed:    0.0s\n",
      "[Parallel(n_jobs=2)]: Done 196 tasks      | elapsed:    0.1s\n",
      "[Parallel(n_jobs=2)]: Done 446 tasks      | elapsed:    0.2s\n",
      "[Parallel(n_jobs=2)]: Done 500 out of 500 | elapsed:    0.2s finished\n"
     ]
    },
    {
     "name": "stdout",
     "output_type": "stream",
     "text": [
      "Accuracy of partdf One is ===>>\n",
      "0.9144144144144144\n"
     ]
    }
   ],
   "source": [
    "#clf3.fit(partDfOne['LemmaString'], partDfOne['AssignmentGroup'])\n",
    "#y3_pred = clf3.predict(partDfOne['LemmaString'])\n",
    "#y3_pred_prob = clf2.predict_proba(partDfOne['LemmaString'])\n",
    "\n",
    "#print('Accuracy of partdf One is ===>>')\n",
    "#print(metrics.accuracy_score(partDfOne['AssignmentGroup'],y3_pred))\n",
    "\n",
    "model1 = clf3.fit(X_train, y_train)\n",
    "y3_pred = clf3.predict(X_test)\n",
    "y3_pred_prob = clf2.predict_proba(X_test)\n",
    "\n",
    "print('Accuracy of partdf One is ===>>')\n",
    "print(metrics.accuracy_score(y_test,y3_pred))"
   ]
  },
  {
   "cell_type": "code",
   "execution_count": 42,
   "metadata": {
    "colab": {
     "base_uri": "https://localhost:8080/",
     "height": 34
    },
    "colab_type": "code",
    "id": "wocqg3e_N7Ox",
    "outputId": "8025992b-bdc2-44be-c795-65853e6f6437"
   },
   "outputs": [
    {
     "data": {
      "text/plain": [
       "['model_RandomForestL3.model']"
      ]
     },
     "execution_count": 42,
     "metadata": {
      "tags": []
     },
     "output_type": "execute_result"
    }
   ],
   "source": [
    "joblib.dump(model1, 'model_RandomForestL3.model')"
   ]
  },
  {
   "cell_type": "code",
   "execution_count": 43,
   "metadata": {
    "colab": {
     "base_uri": "https://localhost:8080/",
     "height": 707
    },
    "colab_type": "code",
    "id": "lX5fcF47Eu5i",
    "outputId": "7e56ae16-daa5-449a-9cbf-0f45dbd06b74"
   },
   "outputs": [
    {
     "name": "stdout",
     "output_type": "stream",
     "text": [
      "Accuracy score: \n",
      " 0.9144144144144144\n",
      "Test-set confusion matrix:\n",
      " [[170   0   0   0   0   0   0]\n",
      " [  0 183   0   0   0   0   0]\n",
      " [  0   0 145   0   0   0   0]\n",
      " [  0   0   0 172   0   0   0]\n",
      " [  0   0   0   0 141   0   0]\n",
      " [  1   8   0   6   2 126  20]\n",
      " [  3   1   6  12   3  33  78]]\n",
      "Classification report:\n",
      "               precision    recall  f1-score   support\n",
      "\n",
      "           0       0.98      1.00      0.99       170\n",
      "           1       0.95      1.00      0.98       183\n",
      "           2       0.96      1.00      0.98       145\n",
      "           3       0.91      1.00      0.95       172\n",
      "           4       0.97      1.00      0.98       141\n",
      "           5       0.79      0.77      0.78       163\n",
      "           6       0.80      0.57      0.67       136\n",
      "\n",
      "    accuracy                           0.91      1110\n",
      "   macro avg       0.91      0.91      0.90      1110\n",
      "weighted avg       0.91      0.91      0.91      1110\n",
      "\n",
      "ROC_AUC_Score:  0.9461873845113413\n"
     ]
    },
    {
     "data": {
      "image/png": "[encoded data removed]",
      "text/plain": [
       "<Figure size 432x288 with 2 Axes>"
      ]
     },
     "metadata": {
      "tags": []
     },
     "output_type": "display_data"
    }
   ],
   "source": [
    "#print_scores(partDfOne['AssignmentGroup'],y3_pred)\n",
    "## ,y3_pred_prob)\n",
    "#print(\"ROC_AUC_Score: \", multiclass_roc_auc_score(partDfOne['AssignmentGroup'],y3_pred))\n",
    "\n",
    "print_scores(y_test,y3_pred)\n",
    "# ,y2_pred_prob)\n",
    "print(\"ROC_AUC_Score: \", multiclass_roc_auc_score(y_test,y3_pred))"
   ]
  },
  {
   "cell_type": "code",
   "execution_count": 0,
   "metadata": {
    "colab": {},
    "colab_type": "code",
    "id": "p30gzygsn2A0"
   },
   "outputs": [],
   "source": [
    "# dump(clf,'clf.joblib')\n",
    "# dump(clf2,'clf2.joblib')\n",
    "# dump(clf3,'clf3.joblib')"
   ]
  },
  {
   "cell_type": "code",
   "execution_count": 0,
   "metadata": {
    "colab": {},
    "colab_type": "code",
    "id": "jcxgcXq5tyoL"
   },
   "outputs": [],
   "source": []
  },
  {
   "cell_type": "markdown",
   "metadata": {
    "colab_type": "text",
    "id": "-sYS3qaIGPfu"
   },
   "source": [
    "### Predict New Incoming Data"
   ]
  },
  {
   "cell_type": "code",
   "execution_count": 0,
   "metadata": {
    "colab": {},
    "colab_type": "code",
    "id": "Yb3w_dQGtylK"
   },
   "outputs": [],
   "source": [
    "# df = pd.read_excel('EDACompletedTicketData.xlsx')\n",
    "df = pd.read_excel('TestDataToPredict.xlsx')"
   ]
  },
  {
   "cell_type": "code",
   "execution_count": 0,
   "metadata": {
    "colab": {},
    "colab_type": "code",
    "id": "CBqA6nMnxi_J"
   },
   "outputs": [],
   "source": [
    "#doing this on test dataa to ensure what groups we have considered into different 2 major groups\n",
    "# df['Level1Grp'] = df['AssignmentGroup'].apply(lambda x : SetGrp(x))"
   ]
  },
  {
   "cell_type": "code",
   "execution_count": 47,
   "metadata": {
    "colab": {
     "base_uri": "https://localhost:8080/",
     "height": 221
    },
    "colab_type": "code",
    "id": "WU_dPz7CtyhZ",
    "outputId": "2d21d052-b7b2-4a2f-8c49-7e622a844599"
   },
   "outputs": [
    {
     "name": "stdout",
     "output_type": "stream",
     "text": [
      "(15, 2)\n"
     ]
    },
    {
     "data": {
      "text/html": [
       "<div>\n",
       "<style scoped>\n",
       "    .dataframe tbody tr th:only-of-type {\n",
       "        vertical-align: middle;\n",
       "    }\n",
       "\n",
       "    .dataframe tbody tr th {\n",
       "        vertical-align: top;\n",
       "    }\n",
       "\n",
       "    .dataframe thead th {\n",
       "        text-align: right;\n",
       "    }\n",
       "</style>\n",
       "<table border=\"1\" class=\"dataframe\">\n",
       "  <thead>\n",
       "    <tr style=\"text-align: right;\">\n",
       "      <th></th>\n",
       "      <th>LemmaString</th>\n",
       "      <th>NewAssignmentGroup</th>\n",
       "    </tr>\n",
       "  </thead>\n",
       "  <tbody>\n",
       "    <tr>\n",
       "      <th>0</th>\n",
       "      <td>telephony software issue</td>\n",
       "      <td>GRP_0</td>\n",
       "    </tr>\n",
       "    <tr>\n",
       "      <th>1</th>\n",
       "      <td>robot hostname inactive</td>\n",
       "      <td>GRP_8</td>\n",
       "    </tr>\n",
       "    <tr>\n",
       "      <th>2</th>\n",
       "      <td>display fix telephone system area defective nu...</td>\n",
       "      <td>GRP_99</td>\n",
       "    </tr>\n",
       "    <tr>\n",
       "      <th>3</th>\n",
       "      <td>job hr payroll fail scheduler monitor tool</td>\n",
       "      <td>GRP_10</td>\n",
       "    </tr>\n",
       "    <tr>\n",
       "      <th>4</th>\n",
       "      <td>telephony software issue bad quality sound hor...</td>\n",
       "      <td>GRP_98</td>\n",
       "    </tr>\n",
       "  </tbody>\n",
       "</table>\n",
       "</div>"
      ],
      "text/plain": [
       "                                         LemmaString NewAssignmentGroup\n",
       "0                           telephony software issue              GRP_0\n",
       "1                            robot hostname inactive              GRP_8\n",
       "2  display fix telephone system area defective nu...             GRP_99\n",
       "3         job hr payroll fail scheduler monitor tool             GRP_10\n",
       "4  telephony software issue bad quality sound hor...             GRP_98"
      ]
     },
     "execution_count": 47,
     "metadata": {
      "tags": []
     },
     "output_type": "execute_result"
    }
   ],
   "source": [
    "print(df.shape)\n",
    "df.head()"
   ]
  },
  {
   "cell_type": "code",
   "execution_count": 48,
   "metadata": {
    "colab": {
     "base_uri": "https://localhost:8080/",
     "height": 102
    },
    "colab_type": "code",
    "id": "IONSiiMct2-C",
    "outputId": "30f84b30-2cd4-40e5-f53e-661c40cafe57"
   },
   "outputs": [
    {
     "name": "stderr",
     "output_type": "stream",
     "text": [
      "[Parallel(n_jobs=2)]: Using backend ThreadingBackend with 2 concurrent workers.\n",
      "[Parallel(n_jobs=2)]: Done  46 tasks      | elapsed:    0.0s\n",
      "[Parallel(n_jobs=2)]: Done 196 tasks      | elapsed:    0.1s\n",
      "[Parallel(n_jobs=2)]: Done 446 tasks      | elapsed:    0.1s\n",
      "[Parallel(n_jobs=2)]: Done 500 out of 500 | elapsed:    0.1s finished\n"
     ]
    }
   ],
   "source": [
    "y1_Testpred = clf.predict(df['LemmaString'])"
   ]
  },
  {
   "cell_type": "code",
   "execution_count": 49,
   "metadata": {
    "colab": {
     "base_uri": "https://localhost:8080/",
     "height": 88
    },
    "colab_type": "code",
    "id": "L8IsAv6uH5qX",
    "outputId": "fe08d139-6d5a-467b-d886-f20d2c6d3f5f"
   },
   "outputs": [
    {
     "name": "stdout",
     "output_type": "stream",
     "text": [
      "ROC_AUC_Score:  0.5\n"
     ]
    },
    {
     "name": "stderr",
     "output_type": "stream",
     "text": [
      "/usr/local/lib/python3.6/dist-packages/numpy/lib/arraysetops.py:569: FutureWarning: elementwise comparison failed; returning scalar instead, but in the future will perform elementwise comparison\n",
      "  mask |= (ar1 == a)\n"
     ]
    }
   ],
   "source": [
    "print(\"ROC_AUC_Score: \", multiclass_roc_auc_score(df['NewAssignmentGroup'],y1_Testpred))"
   ]
  },
  {
   "cell_type": "code",
   "execution_count": 50,
   "metadata": {
    "colab": {
     "base_uri": "https://localhost:8080/",
     "height": 204
    },
    "colab_type": "code",
    "id": "P1kf5mz5uJFs",
    "outputId": "94e34ca8-6075-4319-f510-1ceecb5bfd27"
   },
   "outputs": [
    {
     "data": {
      "text/html": [
       "<div>\n",
       "<style scoped>\n",
       "    .dataframe tbody tr th:only-of-type {\n",
       "        vertical-align: middle;\n",
       "    }\n",
       "\n",
       "    .dataframe tbody tr th {\n",
       "        vertical-align: top;\n",
       "    }\n",
       "\n",
       "    .dataframe thead th {\n",
       "        text-align: right;\n",
       "    }\n",
       "</style>\n",
       "<table border=\"1\" class=\"dataframe\">\n",
       "  <thead>\n",
       "    <tr style=\"text-align: right;\">\n",
       "      <th></th>\n",
       "      <th>LemmaString</th>\n",
       "      <th>NewAssignmentGroup</th>\n",
       "      <th>y1_pred</th>\n",
       "      <th>y2_pred</th>\n",
       "      <th>y3_pred</th>\n",
       "      <th>FinalPredictions</th>\n",
       "    </tr>\n",
       "  </thead>\n",
       "  <tbody>\n",
       "    <tr>\n",
       "      <th>0</th>\n",
       "      <td>telephony software issue</td>\n",
       "      <td>GRP_0</td>\n",
       "      <td>y1_pred</td>\n",
       "      <td>y2_pred</td>\n",
       "      <td>y3_pred</td>\n",
       "      <td>UNK9999</td>\n",
       "    </tr>\n",
       "    <tr>\n",
       "      <th>1</th>\n",
       "      <td>robot hostname inactive</td>\n",
       "      <td>GRP_8</td>\n",
       "      <td>y1_pred</td>\n",
       "      <td>y2_pred</td>\n",
       "      <td>y3_pred</td>\n",
       "      <td>UNK9999</td>\n",
       "    </tr>\n",
       "    <tr>\n",
       "      <th>2</th>\n",
       "      <td>display fix telephone system area defective nu...</td>\n",
       "      <td>GRP_99</td>\n",
       "      <td>y1_pred</td>\n",
       "      <td>y2_pred</td>\n",
       "      <td>y3_pred</td>\n",
       "      <td>UNK9999</td>\n",
       "    </tr>\n",
       "    <tr>\n",
       "      <th>3</th>\n",
       "      <td>job hr payroll fail scheduler monitor tool</td>\n",
       "      <td>GRP_10</td>\n",
       "      <td>y1_pred</td>\n",
       "      <td>y2_pred</td>\n",
       "      <td>y3_pred</td>\n",
       "      <td>UNK9999</td>\n",
       "    </tr>\n",
       "    <tr>\n",
       "      <th>4</th>\n",
       "      <td>telephony software issue bad quality sound hor...</td>\n",
       "      <td>GRP_98</td>\n",
       "      <td>y1_pred</td>\n",
       "      <td>y2_pred</td>\n",
       "      <td>y3_pred</td>\n",
       "      <td>UNK9999</td>\n",
       "    </tr>\n",
       "  </tbody>\n",
       "</table>\n",
       "</div>"
      ],
      "text/plain": [
       "                                         LemmaString  ... FinalPredictions\n",
       "0                           telephony software issue  ...          UNK9999\n",
       "1                            robot hostname inactive  ...          UNK9999\n",
       "2  display fix telephone system area defective nu...  ...          UNK9999\n",
       "3         job hr payroll fail scheduler monitor tool  ...          UNK9999\n",
       "4  telephony software issue bad quality sound hor...  ...          UNK9999\n",
       "\n",
       "[5 rows x 6 columns]"
      ]
     },
     "execution_count": 50,
     "metadata": {
      "tags": []
     },
     "output_type": "execute_result"
    }
   ],
   "source": [
    "df['y1_pred'] = 'y1_pred'\n",
    "df['y2_pred'] = 'y2_pred'\n",
    "df['y3_pred'] = 'y3_pred'\n",
    "df['FinalPredictions'] = 'UNK9999'\n",
    "df.head()"
   ]
  },
  {
   "cell_type": "code",
   "execution_count": 51,
   "metadata": {
    "colab": {
     "base_uri": "https://localhost:8080/",
     "height": 204
    },
    "colab_type": "code",
    "id": "5F7zCqNXuLRn",
    "outputId": "50eb40e8-a4a1-495e-f2cd-58b9243739e5"
   },
   "outputs": [
    {
     "data": {
      "text/html": [
       "<div>\n",
       "<style scoped>\n",
       "    .dataframe tbody tr th:only-of-type {\n",
       "        vertical-align: middle;\n",
       "    }\n",
       "\n",
       "    .dataframe tbody tr th {\n",
       "        vertical-align: top;\n",
       "    }\n",
       "\n",
       "    .dataframe thead th {\n",
       "        text-align: right;\n",
       "    }\n",
       "</style>\n",
       "<table border=\"1\" class=\"dataframe\">\n",
       "  <thead>\n",
       "    <tr style=\"text-align: right;\">\n",
       "      <th></th>\n",
       "      <th>LemmaString</th>\n",
       "      <th>NewAssignmentGroup</th>\n",
       "      <th>y1_pred</th>\n",
       "      <th>y2_pred</th>\n",
       "      <th>y3_pred</th>\n",
       "      <th>FinalPredictions</th>\n",
       "    </tr>\n",
       "  </thead>\n",
       "  <tbody>\n",
       "    <tr>\n",
       "      <th>0</th>\n",
       "      <td>telephony software issue</td>\n",
       "      <td>GRP_0</td>\n",
       "      <td>0</td>\n",
       "      <td>y2_pred</td>\n",
       "      <td>y3_pred</td>\n",
       "      <td>UNK9999</td>\n",
       "    </tr>\n",
       "    <tr>\n",
       "      <th>1</th>\n",
       "      <td>robot hostname inactive</td>\n",
       "      <td>GRP_8</td>\n",
       "      <td>0</td>\n",
       "      <td>y2_pred</td>\n",
       "      <td>y3_pred</td>\n",
       "      <td>UNK9999</td>\n",
       "    </tr>\n",
       "    <tr>\n",
       "      <th>2</th>\n",
       "      <td>display fix telephone system area defective nu...</td>\n",
       "      <td>GRP_99</td>\n",
       "      <td>1</td>\n",
       "      <td>y2_pred</td>\n",
       "      <td>y3_pred</td>\n",
       "      <td>UNK9999</td>\n",
       "    </tr>\n",
       "    <tr>\n",
       "      <th>3</th>\n",
       "      <td>job hr payroll fail scheduler monitor tool</td>\n",
       "      <td>GRP_10</td>\n",
       "      <td>1</td>\n",
       "      <td>y2_pred</td>\n",
       "      <td>y3_pred</td>\n",
       "      <td>UNK9999</td>\n",
       "    </tr>\n",
       "    <tr>\n",
       "      <th>4</th>\n",
       "      <td>telephony software issue bad quality sound hor...</td>\n",
       "      <td>GRP_98</td>\n",
       "      <td>1</td>\n",
       "      <td>y2_pred</td>\n",
       "      <td>y3_pred</td>\n",
       "      <td>UNK9999</td>\n",
       "    </tr>\n",
       "  </tbody>\n",
       "</table>\n",
       "</div>"
      ],
      "text/plain": [
       "                                         LemmaString  ... FinalPredictions\n",
       "0                           telephony software issue  ...          UNK9999\n",
       "1                            robot hostname inactive  ...          UNK9999\n",
       "2  display fix telephone system area defective nu...  ...          UNK9999\n",
       "3         job hr payroll fail scheduler monitor tool  ...          UNK9999\n",
       "4  telephony software issue bad quality sound hor...  ...          UNK9999\n",
       "\n",
       "[5 rows x 6 columns]"
      ]
     },
     "execution_count": 51,
     "metadata": {
      "tags": []
     },
     "output_type": "execute_result"
    }
   ],
   "source": [
    "df['y1_pred'] = pd.Series(y1_Testpred)\n",
    "df.head()"
   ]
  },
  {
   "cell_type": "code",
   "execution_count": 0,
   "metadata": {
    "colab": {},
    "colab_type": "code",
    "id": "KIIGE-cduQAn"
   },
   "outputs": [],
   "source": [
    "partZero = df[df['y1_pred'] == 0]\n",
    "partOne = df[df['y1_pred'] == 1]"
   ]
  },
  {
   "cell_type": "code",
   "execution_count": 53,
   "metadata": {
    "colab": {
     "base_uri": "https://localhost:8080/",
     "height": 187
    },
    "colab_type": "code",
    "id": "8SAfDrpiuWjM",
    "outputId": "1fb9cf6d-20a0-437c-acc7-5f57dd4dbd50"
   },
   "outputs": [
    {
     "name": "stderr",
     "output_type": "stream",
     "text": [
      "[Parallel(n_jobs=2)]: Using backend ThreadingBackend with 2 concurrent workers.\n",
      "[Parallel(n_jobs=2)]: Done  46 tasks      | elapsed:    0.0s\n",
      "[Parallel(n_jobs=2)]: Done 196 tasks      | elapsed:    0.1s\n",
      "[Parallel(n_jobs=2)]: Done 446 tasks      | elapsed:    0.1s\n",
      "[Parallel(n_jobs=2)]: Done 500 out of 500 | elapsed:    0.1s finished\n",
      "[Parallel(n_jobs=2)]: Using backend ThreadingBackend with 2 concurrent workers.\n",
      "[Parallel(n_jobs=2)]: Done  46 tasks      | elapsed:    0.0s\n",
      "[Parallel(n_jobs=2)]: Done 196 tasks      | elapsed:    0.0s\n",
      "[Parallel(n_jobs=2)]: Done 446 tasks      | elapsed:    0.1s\n",
      "[Parallel(n_jobs=2)]: Done 500 out of 500 | elapsed:    0.1s finished\n"
     ]
    }
   ],
   "source": [
    "y2_Testpred = clf2.predict(partZero['LemmaString'])\n",
    "y3_Testpred = clf3.predict(partOne['LemmaString'])"
   ]
  },
  {
   "cell_type": "code",
   "execution_count": 54,
   "metadata": {
    "colab": {
     "base_uri": "https://localhost:8080/",
     "height": 204
    },
    "colab_type": "code",
    "id": "p-48QsA5JdiB",
    "outputId": "597e0188-daa8-4a96-8a9b-fc008d6fbab6"
   },
   "outputs": [
    {
     "data": {
      "text/html": [
       "<div>\n",
       "<style scoped>\n",
       "    .dataframe tbody tr th:only-of-type {\n",
       "        vertical-align: middle;\n",
       "    }\n",
       "\n",
       "    .dataframe tbody tr th {\n",
       "        vertical-align: top;\n",
       "    }\n",
       "\n",
       "    .dataframe thead th {\n",
       "        text-align: right;\n",
       "    }\n",
       "</style>\n",
       "<table border=\"1\" class=\"dataframe\">\n",
       "  <thead>\n",
       "    <tr style=\"text-align: right;\">\n",
       "      <th></th>\n",
       "      <th>LemmaString</th>\n",
       "      <th>NewAssignmentGroup</th>\n",
       "      <th>y1_pred</th>\n",
       "      <th>y2_pred</th>\n",
       "      <th>y3_pred</th>\n",
       "      <th>FinalPredictions</th>\n",
       "    </tr>\n",
       "  </thead>\n",
       "  <tbody>\n",
       "    <tr>\n",
       "      <th>0</th>\n",
       "      <td>telephony software issue</td>\n",
       "      <td>GRP_0</td>\n",
       "      <td>0</td>\n",
       "      <td>y2_pred</td>\n",
       "      <td>y3_pred</td>\n",
       "      <td>UNK9999</td>\n",
       "    </tr>\n",
       "    <tr>\n",
       "      <th>1</th>\n",
       "      <td>robot hostname inactive</td>\n",
       "      <td>GRP_8</td>\n",
       "      <td>0</td>\n",
       "      <td>y2_pred</td>\n",
       "      <td>y3_pred</td>\n",
       "      <td>UNK9999</td>\n",
       "    </tr>\n",
       "    <tr>\n",
       "      <th>5</th>\n",
       "      <td>account lock</td>\n",
       "      <td>GRP_0</td>\n",
       "      <td>0</td>\n",
       "      <td>y2_pred</td>\n",
       "      <td>y3_pred</td>\n",
       "      <td>UNK9999</td>\n",
       "    </tr>\n",
       "    <tr>\n",
       "      <th>7</th>\n",
       "      <td>erp sid access reason error state account not ...</td>\n",
       "      <td>GRP_2</td>\n",
       "      <td>0</td>\n",
       "      <td>y2_pred</td>\n",
       "      <td>y3_pred</td>\n",
       "      <td>UNK9999</td>\n",
       "    </tr>\n",
       "    <tr>\n",
       "      <th>10</th>\n",
       "      <td>ROBOT SYSTEM IS INACTIVE</td>\n",
       "      <td>GRP_8</td>\n",
       "      <td>0</td>\n",
       "      <td>y2_pred</td>\n",
       "      <td>y3_pred</td>\n",
       "      <td>UNK9999</td>\n",
       "    </tr>\n",
       "  </tbody>\n",
       "</table>\n",
       "</div>"
      ],
      "text/plain": [
       "                                          LemmaString  ... FinalPredictions\n",
       "0                            telephony software issue  ...          UNK9999\n",
       "1                             robot hostname inactive  ...          UNK9999\n",
       "5                                        account lock  ...          UNK9999\n",
       "7   erp sid access reason error state account not ...  ...          UNK9999\n",
       "10                           ROBOT SYSTEM IS INACTIVE  ...          UNK9999\n",
       "\n",
       "[5 rows x 6 columns]"
      ]
     },
     "execution_count": 54,
     "metadata": {
      "tags": []
     },
     "output_type": "execute_result"
    }
   ],
   "source": [
    "partZero.head()"
   ]
  },
  {
   "cell_type": "code",
   "execution_count": 55,
   "metadata": {
    "colab": {
     "base_uri": "https://localhost:8080/",
     "height": 204
    },
    "colab_type": "code",
    "id": "RAdvyXiWJgga",
    "outputId": "bf7edb7e-3269-4cff-e14b-fc5c4f721899"
   },
   "outputs": [
    {
     "data": {
      "text/html": [
       "<div>\n",
       "<style scoped>\n",
       "    .dataframe tbody tr th:only-of-type {\n",
       "        vertical-align: middle;\n",
       "    }\n",
       "\n",
       "    .dataframe tbody tr th {\n",
       "        vertical-align: top;\n",
       "    }\n",
       "\n",
       "    .dataframe thead th {\n",
       "        text-align: right;\n",
       "    }\n",
       "</style>\n",
       "<table border=\"1\" class=\"dataframe\">\n",
       "  <thead>\n",
       "    <tr style=\"text-align: right;\">\n",
       "      <th></th>\n",
       "      <th>LemmaString</th>\n",
       "      <th>NewAssignmentGroup</th>\n",
       "      <th>y1_pred</th>\n",
       "      <th>y2_pred</th>\n",
       "      <th>y3_pred</th>\n",
       "      <th>FinalPredictions</th>\n",
       "    </tr>\n",
       "  </thead>\n",
       "  <tbody>\n",
       "    <tr>\n",
       "      <th>2</th>\n",
       "      <td>display fix telephone system area defective nu...</td>\n",
       "      <td>GRP_99</td>\n",
       "      <td>1</td>\n",
       "      <td>y2_pred</td>\n",
       "      <td>y3_pred</td>\n",
       "      <td>UNK9999</td>\n",
       "    </tr>\n",
       "    <tr>\n",
       "      <th>3</th>\n",
       "      <td>job hr payroll fail scheduler monitor tool</td>\n",
       "      <td>GRP_10</td>\n",
       "      <td>1</td>\n",
       "      <td>y2_pred</td>\n",
       "      <td>y3_pred</td>\n",
       "      <td>UNK9999</td>\n",
       "    </tr>\n",
       "    <tr>\n",
       "      <th>4</th>\n",
       "      <td>telephony software issue bad quality sound hor...</td>\n",
       "      <td>GRP_98</td>\n",
       "      <td>1</td>\n",
       "      <td>y2_pred</td>\n",
       "      <td>y3_pred</td>\n",
       "      <td>UNK9999</td>\n",
       "    </tr>\n",
       "    <tr>\n",
       "      <th>6</th>\n",
       "      <td>hostname application plm dsc file node unreach...</td>\n",
       "      <td>GRP_14</td>\n",
       "      <td>1</td>\n",
       "      <td>y2_pred</td>\n",
       "      <td>y3_pred</td>\n",
       "      <td>UNK9999</td>\n",
       "    </tr>\n",
       "    <tr>\n",
       "      <th>8</th>\n",
       "      <td>job dir fail scheduler monitor tool</td>\n",
       "      <td>GRP_5</td>\n",
       "      <td>1</td>\n",
       "      <td>y2_pred</td>\n",
       "      <td>y3_pred</td>\n",
       "      <td>UNK9999</td>\n",
       "    </tr>\n",
       "  </tbody>\n",
       "</table>\n",
       "</div>"
      ],
      "text/plain": [
       "                                         LemmaString  ... FinalPredictions\n",
       "2  display fix telephone system area defective nu...  ...          UNK9999\n",
       "3         job hr payroll fail scheduler monitor tool  ...          UNK9999\n",
       "4  telephony software issue bad quality sound hor...  ...          UNK9999\n",
       "6  hostname application plm dsc file node unreach...  ...          UNK9999\n",
       "8                job dir fail scheduler monitor tool  ...          UNK9999\n",
       "\n",
       "[5 rows x 6 columns]"
      ]
     },
     "execution_count": 55,
     "metadata": {
      "tags": []
     },
     "output_type": "execute_result"
    }
   ],
   "source": [
    "partOne.head()"
   ]
  },
  {
   "cell_type": "code",
   "execution_count": 56,
   "metadata": {
    "colab": {
     "base_uri": "https://localhost:8080/",
     "height": 88
    },
    "colab_type": "code",
    "id": "GLwwBpmzIWSb",
    "outputId": "031bfee4-9856-490a-cd63-2ae1797ffe81"
   },
   "outputs": [
    {
     "name": "stdout",
     "output_type": "stream",
     "text": [
      "ROC_AUC_Score:  0.5\n"
     ]
    },
    {
     "name": "stderr",
     "output_type": "stream",
     "text": [
      "/usr/local/lib/python3.6/dist-packages/numpy/lib/arraysetops.py:569: FutureWarning: elementwise comparison failed; returning scalar instead, but in the future will perform elementwise comparison\n",
      "  mask |= (ar1 == a)\n"
     ]
    }
   ],
   "source": [
    "print(\"ROC_AUC_Score: \", multiclass_roc_auc_score(partZero['NewAssignmentGroup'],y2_Testpred))"
   ]
  },
  {
   "cell_type": "code",
   "execution_count": 57,
   "metadata": {
    "colab": {
     "base_uri": "https://localhost:8080/",
     "height": 88
    },
    "colab_type": "code",
    "id": "vtGzI3n-ufPB",
    "outputId": "eb650ec3-2324-4d27-8832-418718d72d14"
   },
   "outputs": [
    {
     "name": "stdout",
     "output_type": "stream",
     "text": [
      "ROC_AUC_Score:  0.5\n"
     ]
    },
    {
     "name": "stderr",
     "output_type": "stream",
     "text": [
      "/usr/local/lib/python3.6/dist-packages/numpy/lib/arraysetops.py:569: FutureWarning: elementwise comparison failed; returning scalar instead, but in the future will perform elementwise comparison\n",
      "  mask |= (ar1 == a)\n"
     ]
    }
   ],
   "source": [
    "print(\"ROC_AUC_Score: \", multiclass_roc_auc_score(partOne['NewAssignmentGroup'],y3_Testpred))"
   ]
  },
  {
   "cell_type": "code",
   "execution_count": 0,
   "metadata": {
    "colab": {},
    "colab_type": "code",
    "id": "SbsUJdz7uqP7"
   },
   "outputs": [],
   "source": [
    "countZero =0\n",
    "for i in partZero.index:\n",
    "    x = y2_Testpred[countZero]\n",
    "    df.at[i, 'y2_pred'] = x\n",
    "    df.at[i, 'FinalPredictions'] = Grp1[x]\n",
    "    countZero +=1"
   ]
  },
  {
   "cell_type": "code",
   "execution_count": 0,
   "metadata": {
    "colab": {},
    "colab_type": "code",
    "id": "phQDHNbrurFb"
   },
   "outputs": [],
   "source": [
    "countOne =0\n",
    "for i in partOne.index:\n",
    "    x = y3_Testpred[countOne]\n",
    "    df.at[i, 'y3_pred'] = x\n",
    "    df.at[i, 'FinalPredictions'] = Grp2[x]\n",
    "    countOne +=1 "
   ]
  },
  {
   "cell_type": "code",
   "execution_count": 60,
   "metadata": {
    "colab": {
     "base_uri": "https://localhost:8080/",
     "height": 359
    },
    "colab_type": "code",
    "id": "xN-bp16EvDsU",
    "outputId": "ce2daac5-c685-4843-af9e-f1df5bfc3352"
   },
   "outputs": [
    {
     "data": {
      "text/html": [
       "<div>\n",
       "<style scoped>\n",
       "    .dataframe tbody tr th:only-of-type {\n",
       "        vertical-align: middle;\n",
       "    }\n",
       "\n",
       "    .dataframe tbody tr th {\n",
       "        vertical-align: top;\n",
       "    }\n",
       "\n",
       "    .dataframe thead th {\n",
       "        text-align: right;\n",
       "    }\n",
       "</style>\n",
       "<table border=\"1\" class=\"dataframe\">\n",
       "  <thead>\n",
       "    <tr style=\"text-align: right;\">\n",
       "      <th></th>\n",
       "      <th>LemmaString</th>\n",
       "      <th>NewAssignmentGroup</th>\n",
       "      <th>y1_pred</th>\n",
       "      <th>y2_pred</th>\n",
       "      <th>y3_pred</th>\n",
       "      <th>FinalPredictions</th>\n",
       "    </tr>\n",
       "  </thead>\n",
       "  <tbody>\n",
       "    <tr>\n",
       "      <th>0</th>\n",
       "      <td>telephony software issue</td>\n",
       "      <td>GRP_0</td>\n",
       "      <td>0</td>\n",
       "      <td>0</td>\n",
       "      <td>y3_pred</td>\n",
       "      <td>GRP_0</td>\n",
       "    </tr>\n",
       "    <tr>\n",
       "      <th>1</th>\n",
       "      <td>robot hostname inactive</td>\n",
       "      <td>GRP_8</td>\n",
       "      <td>0</td>\n",
       "      <td>6</td>\n",
       "      <td>y3_pred</td>\n",
       "      <td>GRP_9</td>\n",
       "    </tr>\n",
       "    <tr>\n",
       "      <th>2</th>\n",
       "      <td>display fix telephone system area defective nu...</td>\n",
       "      <td>GRP_99</td>\n",
       "      <td>1</td>\n",
       "      <td>y2_pred</td>\n",
       "      <td>5</td>\n",
       "      <td>GRP_98</td>\n",
       "    </tr>\n",
       "    <tr>\n",
       "      <th>3</th>\n",
       "      <td>job hr payroll fail scheduler monitor tool</td>\n",
       "      <td>GRP_10</td>\n",
       "      <td>1</td>\n",
       "      <td>y2_pred</td>\n",
       "      <td>0</td>\n",
       "      <td>GRP_10</td>\n",
       "    </tr>\n",
       "    <tr>\n",
       "      <th>4</th>\n",
       "      <td>telephony software issue bad quality sound hor...</td>\n",
       "      <td>GRP_98</td>\n",
       "      <td>1</td>\n",
       "      <td>y2_pred</td>\n",
       "      <td>5</td>\n",
       "      <td>GRP_98</td>\n",
       "    </tr>\n",
       "    <tr>\n",
       "      <th>5</th>\n",
       "      <td>account lock</td>\n",
       "      <td>GRP_0</td>\n",
       "      <td>0</td>\n",
       "      <td>0</td>\n",
       "      <td>y3_pred</td>\n",
       "      <td>GRP_0</td>\n",
       "    </tr>\n",
       "    <tr>\n",
       "      <th>6</th>\n",
       "      <td>hostname application plm dsc file node unreach...</td>\n",
       "      <td>GRP_14</td>\n",
       "      <td>1</td>\n",
       "      <td>y2_pred</td>\n",
       "      <td>2</td>\n",
       "      <td>GRP_14</td>\n",
       "    </tr>\n",
       "    <tr>\n",
       "      <th>7</th>\n",
       "      <td>erp sid access reason error state account not ...</td>\n",
       "      <td>GRP_2</td>\n",
       "      <td>0</td>\n",
       "      <td>3</td>\n",
       "      <td>y3_pred</td>\n",
       "      <td>GRP_12</td>\n",
       "    </tr>\n",
       "    <tr>\n",
       "      <th>8</th>\n",
       "      <td>job dir fail scheduler monitor tool</td>\n",
       "      <td>GRP_5</td>\n",
       "      <td>1</td>\n",
       "      <td>y2_pred</td>\n",
       "      <td>4</td>\n",
       "      <td>GRP_25</td>\n",
       "    </tr>\n",
       "    <tr>\n",
       "      <th>9</th>\n",
       "      <td>tool batch management pdv system absolutely ba...</td>\n",
       "      <td>GRP_25</td>\n",
       "      <td>1</td>\n",
       "      <td>y2_pred</td>\n",
       "      <td>3</td>\n",
       "      <td>GRP_5</td>\n",
       "    </tr>\n",
       "  </tbody>\n",
       "</table>\n",
       "</div>"
      ],
      "text/plain": [
       "                                         LemmaString  ... FinalPredictions\n",
       "0                           telephony software issue  ...            GRP_0\n",
       "1                            robot hostname inactive  ...            GRP_9\n",
       "2  display fix telephone system area defective nu...  ...           GRP_98\n",
       "3         job hr payroll fail scheduler monitor tool  ...           GRP_10\n",
       "4  telephony software issue bad quality sound hor...  ...           GRP_98\n",
       "5                                       account lock  ...            GRP_0\n",
       "6  hostname application plm dsc file node unreach...  ...           GRP_14\n",
       "7  erp sid access reason error state account not ...  ...           GRP_12\n",
       "8                job dir fail scheduler monitor tool  ...           GRP_25\n",
       "9  tool batch management pdv system absolutely ba...  ...            GRP_5\n",
       "\n",
       "[10 rows x 6 columns]"
      ]
     },
     "execution_count": 60,
     "metadata": {
      "tags": []
     },
     "output_type": "execute_result"
    }
   ],
   "source": [
    "df.head(10)"
   ]
  },
  {
   "cell_type": "code",
   "execution_count": 0,
   "metadata": {
    "colab": {},
    "colab_type": "code",
    "id": "QqKE-M2svFB_"
   },
   "outputs": [],
   "source": [
    "# df.to_excel('FinalPredictions.xlsx',index=False)"
   ]
  },
  {
   "cell_type": "markdown",
   "metadata": {
    "colab_type": "text",
    "id": "6byS6OCDf4ry"
   },
   "source": [
    "### Using Shuffle Split"
   ]
  },
  {
   "cell_type": "code",
   "execution_count": 0,
   "metadata": {
    "colab": {},
    "colab_type": "code",
    "id": "7KMef_-Q9esv"
   },
   "outputs": [],
   "source": [
    "vectorizer = feature_extraction.text.TfidfVectorizer()\n",
    "train_vectors = vectorizer.fit_transform(dfModelBuilding.LemmaString)"
   ]
  },
  {
   "cell_type": "code",
   "execution_count": 0,
   "metadata": {
    "colab": {},
    "colab_type": "code",
    "id": "Djk2zK4fOZo_"
   },
   "outputs": [],
   "source": [
    "clf_ShuffleSplit = pipeline.Pipeline([\n",
    "        ('tfidf_vectorizer', feature_extraction.text.TfidfVectorizer(lowercase=True)),\n",
    "        ('rf_classifier', ensemble.RandomForestClassifier(n_estimators=500,verbose=1,n_jobs=-1))\n",
    "    ])\n",
    "clf_ShuffleSplit2 = pipeline.Pipeline([\n",
    "        ('tfidf_vectorizer', feature_extraction.text.TfidfVectorizer(lowercase=True)),\n",
    "        ('rf_classifier', ensemble.RandomForestClassifier(n_estimators=500,verbose=1,n_jobs=-1))\n",
    "    ])\n",
    "clf_ShuffleSplit3 = pipeline.Pipeline([\n",
    "        ('tfidf_vectorizer', feature_extraction.text.TfidfVectorizer(lowercase=True)),\n",
    "        ('rf_classifier', ensemble.RandomForestClassifier(n_estimators=500,verbose=1,n_jobs=-1))\n",
    "    ])"
   ]
  },
  {
   "cell_type": "code",
   "execution_count": 0,
   "metadata": {
    "colab": {},
    "colab_type": "code",
    "id": "I7GpdNFif4LM"
   },
   "outputs": [],
   "source": [
    "sss = StratifiedShuffleSplit(n_splits=5, test_size=0.3, random_state=11)"
   ]
  },
  {
   "cell_type": "code",
   "execution_count": 65,
   "metadata": {
    "colab": {
     "base_uri": "https://localhost:8080/",
     "height": 0
    },
    "colab_type": "code",
    "id": "4pKwfSbyf4D4",
    "outputId": "403e63af-3f9d-454a-c331-707dba0f475e"
   },
   "outputs": [
    {
     "name": "stderr",
     "output_type": "stream",
     "text": [
      "[Parallel(n_jobs=-1)]: Using backend ThreadingBackend with 2 concurrent workers.\n",
      "[Parallel(n_jobs=-1)]: Done  46 tasks      | elapsed:    1.8s\n",
      "[Parallel(n_jobs=-1)]: Done 196 tasks      | elapsed:    7.9s\n",
      "[Parallel(n_jobs=-1)]: Done 446 tasks      | elapsed:   17.6s\n",
      "[Parallel(n_jobs=-1)]: Done 500 out of 500 | elapsed:   19.7s finished\n",
      "[Parallel(n_jobs=2)]: Using backend ThreadingBackend with 2 concurrent workers.\n",
      "[Parallel(n_jobs=2)]: Done  46 tasks      | elapsed:    0.1s\n",
      "[Parallel(n_jobs=2)]: Done 196 tasks      | elapsed:    0.3s\n",
      "[Parallel(n_jobs=2)]: Done 446 tasks      | elapsed:    0.8s\n",
      "[Parallel(n_jobs=2)]: Done 500 out of 500 | elapsed:    0.9s finished\n"
     ]
    },
    {
     "name": "stdout",
     "output_type": "stream",
     "text": [
      "[[3402   26]\n",
      " [ 235 1429]]\n",
      "0.9487431264728987\n",
      "ROC_AUC_Score:  0.9255947205143163\n"
     ]
    },
    {
     "name": "stderr",
     "output_type": "stream",
     "text": [
      "[Parallel(n_jobs=-1)]: Using backend ThreadingBackend with 2 concurrent workers.\n",
      "[Parallel(n_jobs=-1)]: Done  46 tasks      | elapsed:    1.7s\n",
      "[Parallel(n_jobs=-1)]: Done 196 tasks      | elapsed:    7.5s\n",
      "[Parallel(n_jobs=-1)]: Done 446 tasks      | elapsed:   17.1s\n",
      "[Parallel(n_jobs=-1)]: Done 500 out of 500 | elapsed:   19.2s finished\n",
      "[Parallel(n_jobs=2)]: Using backend ThreadingBackend with 2 concurrent workers.\n",
      "[Parallel(n_jobs=2)]: Done  46 tasks      | elapsed:    0.1s\n",
      "[Parallel(n_jobs=2)]: Done 196 tasks      | elapsed:    0.3s\n",
      "[Parallel(n_jobs=2)]: Done 446 tasks      | elapsed:    0.8s\n",
      "[Parallel(n_jobs=2)]: Done 500 out of 500 | elapsed:    0.9s finished\n"
     ]
    },
    {
     "name": "stdout",
     "output_type": "stream",
     "text": [
      "[[3393   35]\n",
      " [ 246 1418]]\n",
      "0.944815396700707\n",
      "ROC_AUC_Score:  0.9209767132663137\n"
     ]
    },
    {
     "name": "stderr",
     "output_type": "stream",
     "text": [
      "[Parallel(n_jobs=-1)]: Using backend ThreadingBackend with 2 concurrent workers.\n",
      "[Parallel(n_jobs=-1)]: Done  46 tasks      | elapsed:    1.8s\n",
      "[Parallel(n_jobs=-1)]: Done 196 tasks      | elapsed:    7.6s\n",
      "[Parallel(n_jobs=-1)]: Done 446 tasks      | elapsed:   17.5s\n",
      "[Parallel(n_jobs=-1)]: Done 500 out of 500 | elapsed:   19.6s finished\n",
      "[Parallel(n_jobs=2)]: Using backend ThreadingBackend with 2 concurrent workers.\n",
      "[Parallel(n_jobs=2)]: Done  46 tasks      | elapsed:    0.1s\n",
      "[Parallel(n_jobs=2)]: Done 196 tasks      | elapsed:    0.3s\n",
      "[Parallel(n_jobs=2)]: Done 446 tasks      | elapsed:    0.8s\n",
      "[Parallel(n_jobs=2)]: Done 500 out of 500 | elapsed:    0.9s finished\n"
     ]
    },
    {
     "name": "stdout",
     "output_type": "stream",
     "text": [
      "[[3388   40]\n",
      " [ 233 1431]]\n",
      "0.9463864886095836\n",
      "ROC_AUC_Score:  0.9241536750516112\n"
     ]
    },
    {
     "name": "stderr",
     "output_type": "stream",
     "text": [
      "[Parallel(n_jobs=-1)]: Using backend ThreadingBackend with 2 concurrent workers.\n",
      "[Parallel(n_jobs=-1)]: Done  46 tasks      | elapsed:    1.8s\n",
      "[Parallel(n_jobs=-1)]: Done 196 tasks      | elapsed:    7.6s\n",
      "[Parallel(n_jobs=-1)]: Done 446 tasks      | elapsed:   17.4s\n",
      "[Parallel(n_jobs=-1)]: Done 500 out of 500 | elapsed:   19.6s finished\n",
      "[Parallel(n_jobs=2)]: Using backend ThreadingBackend with 2 concurrent workers.\n",
      "[Parallel(n_jobs=2)]: Done  46 tasks      | elapsed:    0.1s\n",
      "[Parallel(n_jobs=2)]: Done 196 tasks      | elapsed:    0.3s\n",
      "[Parallel(n_jobs=2)]: Done 446 tasks      | elapsed:    0.8s\n",
      "[Parallel(n_jobs=2)]: Done 500 out of 500 | elapsed:    0.9s finished\n"
     ]
    },
    {
     "name": "stdout",
     "output_type": "stream",
     "text": [
      "[[3393   35]\n",
      " [ 270 1394]]\n",
      "0.940102120974077\n",
      "ROC_AUC_Score:  0.9137651748047751\n"
     ]
    },
    {
     "name": "stderr",
     "output_type": "stream",
     "text": [
      "[Parallel(n_jobs=-1)]: Using backend ThreadingBackend with 2 concurrent workers.\n",
      "[Parallel(n_jobs=-1)]: Done  46 tasks      | elapsed:    1.8s\n",
      "[Parallel(n_jobs=-1)]: Done 196 tasks      | elapsed:    7.5s\n",
      "[Parallel(n_jobs=-1)]: Done 446 tasks      | elapsed:   17.1s\n",
      "[Parallel(n_jobs=-1)]: Done 500 out of 500 | elapsed:   19.2s finished\n",
      "[Parallel(n_jobs=2)]: Using backend ThreadingBackend with 2 concurrent workers.\n",
      "[Parallel(n_jobs=2)]: Done  46 tasks      | elapsed:    0.1s\n",
      "[Parallel(n_jobs=2)]: Done 196 tasks      | elapsed:    0.3s\n"
     ]
    },
    {
     "name": "stdout",
     "output_type": "stream",
     "text": [
      "[[3392   36]\n",
      " [ 276 1388]]\n",
      "0.9387274155538099\n",
      "ROC_AUC_Score:  0.9118164325464501\n"
     ]
    },
    {
     "name": "stderr",
     "output_type": "stream",
     "text": [
      "[Parallel(n_jobs=2)]: Done 446 tasks      | elapsed:    0.8s\n",
      "[Parallel(n_jobs=2)]: Done 500 out of 500 | elapsed:    0.8s finished\n"
     ]
    }
   ],
   "source": [
    "for train_index, test_index in sss.split(train_vectors, dfModelBuilding['Level1Grp']):\n",
    "  X_train, X_test = dfModelBuilding['LemmaString'][train_index], dfModelBuilding['LemmaString'][test_index]\n",
    "  y_train, y_test = dfModelBuilding['Level1Grp'][train_index], dfModelBuilding['Level1Grp'][test_index]\n",
    "  clf_ShuffleSplit.fit(X_train,y_train)\n",
    "  y_pred_ShuffleSplit=clf_ShuffleSplit.predict(X_test)\n",
    "  print(metrics.confusion_matrix(y_test,y_pred_ShuffleSplit))\n",
    "  print(metrics.accuracy_score(y_test,y_pred_ShuffleSplit))\n",
    "  print(\"ROC_AUC_Score: \", roc_auc_score(y_test,y_pred_ShuffleSplit))"
   ]
  },
  {
   "cell_type": "code",
   "execution_count": 0,
   "metadata": {
    "colab": {},
    "colab_type": "code",
    "id": "Y0919qnrW6GM"
   },
   "outputs": [],
   "source": []
  },
  {
   "cell_type": "code",
   "execution_count": 0,
   "metadata": {
    "colab": {},
    "colab_type": "code",
    "id": "QpM3Mqju1IR6"
   },
   "outputs": [],
   "source": [
    "train_vectors_L12 = vectorizer.fit_transform(partDfZero['LemmaString'])"
   ]
  },
  {
   "cell_type": "markdown",
   "metadata": {
    "colab_type": "text",
    "id": "7KSkuaQfOStf"
   },
   "source": []
  },
  {
   "cell_type": "code",
   "execution_count": 67,
   "metadata": {
    "colab": {
     "base_uri": "https://localhost:8080/",
     "height": 0
    },
    "colab_type": "code",
    "id": "KSquAdcFf37Q",
    "outputId": "e3ae94ef-9000-408d-d1bd-146840c8e8bf"
   },
   "outputs": [
    {
     "name": "stderr",
     "output_type": "stream",
     "text": [
      "/usr/local/lib/python3.6/dist-packages/pandas/core/series.py:1146: FutureWarning: \n",
      "Passing list-likes to .loc or [] with any missing label will raise\n",
      "KeyError in the future, you can use .reindex() as an alternative.\n",
      "\n",
      "See the documentation here:\n",
      "https://pandas.pydata.org/pandas-docs/stable/user_guide/indexing.html#deprecate-loc-reindex-listlike\n",
      "  return self.loc[key]\n",
      "[Parallel(n_jobs=-1)]: Using backend ThreadingBackend with 2 concurrent workers.\n",
      "[Parallel(n_jobs=-1)]: Done  46 tasks      | elapsed:    1.1s\n",
      "[Parallel(n_jobs=-1)]: Done 196 tasks      | elapsed:    4.7s\n",
      "[Parallel(n_jobs=-1)]: Done 446 tasks      | elapsed:   10.8s\n",
      "[Parallel(n_jobs=-1)]: Done 500 out of 500 | elapsed:   12.1s finished\n",
      "[Parallel(n_jobs=2)]: Using backend ThreadingBackend with 2 concurrent workers.\n",
      "[Parallel(n_jobs=2)]: Done  46 tasks      | elapsed:    0.0s\n",
      "[Parallel(n_jobs=2)]: Done 196 tasks      | elapsed:    0.2s\n",
      "[Parallel(n_jobs=2)]: Done 446 tasks      | elapsed:    0.4s\n",
      "[Parallel(n_jobs=2)]: Done 500 out of 500 | elapsed:    0.4s finished\n",
      "/usr/local/lib/python3.6/dist-packages/pandas/core/series.py:1146: FutureWarning: \n",
      "Passing list-likes to .loc or [] with any missing label will raise\n",
      "KeyError in the future, you can use .reindex() as an alternative.\n",
      "\n",
      "See the documentation here:\n",
      "https://pandas.pydata.org/pandas-docs/stable/user_guide/indexing.html#deprecate-loc-reindex-listlike\n",
      "  return self.loc[key]\n"
     ]
    },
    {
     "name": "stdout",
     "output_type": "stream",
     "text": [
      "[[959  12   5   6   8   4   0   2]\n",
      " [  0 296   0   0   0   0   0   0]\n",
      " [  0   0 254   0   0   0   0   0]\n",
      " [  0   0   0 307   0   0   0   0]\n",
      " [  0   0   0   0 212   0   0   0]\n",
      " [  0   0   0   0   0 254   0   0]\n",
      " [  7   9   0   0   0   0 247   1]\n",
      " [  0   0   0   0   0   0   0 230]]\n",
      "0.9808034127266264\n",
      "ROC_AUC_Score:  0.9922570789627435\n"
     ]
    },
    {
     "name": "stderr",
     "output_type": "stream",
     "text": [
      "[Parallel(n_jobs=-1)]: Using backend ThreadingBackend with 2 concurrent workers.\n",
      "[Parallel(n_jobs=-1)]: Done  46 tasks      | elapsed:    1.1s\n",
      "[Parallel(n_jobs=-1)]: Done 196 tasks      | elapsed:    4.8s\n",
      "[Parallel(n_jobs=-1)]: Done 446 tasks      | elapsed:   11.0s\n",
      "[Parallel(n_jobs=-1)]: Done 500 out of 500 | elapsed:   12.4s finished\n",
      "[Parallel(n_jobs=2)]: Using backend ThreadingBackend with 2 concurrent workers.\n",
      "[Parallel(n_jobs=2)]: Done  46 tasks      | elapsed:    0.0s\n",
      "[Parallel(n_jobs=2)]: Done 196 tasks      | elapsed:    0.2s\n",
      "[Parallel(n_jobs=2)]: Done 446 tasks      | elapsed:    0.4s\n",
      "[Parallel(n_jobs=2)]: Done 500 out of 500 | elapsed:    0.4s finished\n",
      "/usr/local/lib/python3.6/dist-packages/pandas/core/series.py:1146: FutureWarning: \n",
      "Passing list-likes to .loc or [] with any missing label will raise\n",
      "KeyError in the future, you can use .reindex() as an alternative.\n",
      "\n",
      "See the documentation here:\n",
      "https://pandas.pydata.org/pandas-docs/stable/user_guide/indexing.html#deprecate-loc-reindex-listlike\n",
      "  return self.loc[key]\n"
     ]
    },
    {
     "name": "stdout",
     "output_type": "stream",
     "text": [
      "[[965   9   7   7   8   3   1   0]\n",
      " [  0 308   0   0   0   0   0   0]\n",
      " [  4   0 234   0   0   0   0   0]\n",
      " [  0   0   0 308   0   0   0   0]\n",
      " [  5   0   4   0 214   0   0   0]\n",
      " [  0   0   0   0   0 250   0   0]\n",
      " [  5   7   0   0   0   0 281   0]\n",
      " [  0   0   0   0   0   0   0 204]]\n",
      "0.9787535410764873\n",
      "ROC_AUC_Score:  0.9900732470525941\n"
     ]
    },
    {
     "name": "stderr",
     "output_type": "stream",
     "text": [
      "[Parallel(n_jobs=-1)]: Using backend ThreadingBackend with 2 concurrent workers.\n",
      "[Parallel(n_jobs=-1)]: Done  46 tasks      | elapsed:    1.2s\n",
      "[Parallel(n_jobs=-1)]: Done 196 tasks      | elapsed:    5.0s\n",
      "[Parallel(n_jobs=-1)]: Done 446 tasks      | elapsed:   11.1s\n",
      "[Parallel(n_jobs=-1)]: Done 500 out of 500 | elapsed:   12.4s finished\n",
      "[Parallel(n_jobs=2)]: Using backend ThreadingBackend with 2 concurrent workers.\n",
      "[Parallel(n_jobs=2)]: Done  46 tasks      | elapsed:    0.0s\n",
      "[Parallel(n_jobs=2)]: Done 196 tasks      | elapsed:    0.2s\n",
      "[Parallel(n_jobs=2)]: Done 446 tasks      | elapsed:    0.4s\n",
      "[Parallel(n_jobs=2)]: Done 500 out of 500 | elapsed:    0.4s finished\n",
      "/usr/local/lib/python3.6/dist-packages/pandas/core/series.py:1146: FutureWarning: \n",
      "Passing list-likes to .loc or [] with any missing label will raise\n",
      "KeyError in the future, you can use .reindex() as an alternative.\n",
      "\n",
      "See the documentation here:\n",
      "https://pandas.pydata.org/pandas-docs/stable/user_guide/indexing.html#deprecate-loc-reindex-listlike\n",
      "  return self.loc[key]\n"
     ]
    },
    {
     "name": "stdout",
     "output_type": "stream",
     "text": [
      "[[971   8   7   1   4   6   0   0]\n",
      " [  0 296   0   0   0   0   0   0]\n",
      " [  4   0 260   0   0   0   0   0]\n",
      " [ 12   0   0 324   0   0   0   0]\n",
      " [  0   0   0   0 212   0   0   0]\n",
      " [  0   0   0   0   0 239   0   0]\n",
      " [  9   7   0   0   0   0 262   3]\n",
      " [  0   0   0   0   0   0   0 225]]\n",
      "0.9785964912280701\n",
      "ROC_AUC_Score:  0.9892508592200296\n"
     ]
    },
    {
     "name": "stderr",
     "output_type": "stream",
     "text": [
      "[Parallel(n_jobs=-1)]: Using backend ThreadingBackend with 2 concurrent workers.\n",
      "[Parallel(n_jobs=-1)]: Done  46 tasks      | elapsed:    1.1s\n",
      "[Parallel(n_jobs=-1)]: Done 196 tasks      | elapsed:    4.7s\n",
      "[Parallel(n_jobs=-1)]: Done 446 tasks      | elapsed:   10.7s\n",
      "[Parallel(n_jobs=-1)]: Done 500 out of 500 | elapsed:   12.1s finished\n",
      "[Parallel(n_jobs=2)]: Using backend ThreadingBackend with 2 concurrent workers.\n",
      "[Parallel(n_jobs=2)]: Done  46 tasks      | elapsed:    0.0s\n",
      "[Parallel(n_jobs=2)]: Done 196 tasks      | elapsed:    0.2s\n",
      "[Parallel(n_jobs=2)]: Done 446 tasks      | elapsed:    0.4s\n",
      "[Parallel(n_jobs=2)]: Done 500 out of 500 | elapsed:    0.4s finished\n",
      "/usr/local/lib/python3.6/dist-packages/pandas/core/series.py:1146: FutureWarning: \n",
      "Passing list-likes to .loc or [] with any missing label will raise\n",
      "KeyError in the future, you can use .reindex() as an alternative.\n",
      "\n",
      "See the documentation here:\n",
      "https://pandas.pydata.org/pandas-docs/stable/user_guide/indexing.html#deprecate-loc-reindex-listlike\n",
      "  return self.loc[key]\n"
     ]
    },
    {
     "name": "stdout",
     "output_type": "stream",
     "text": [
      "[[968  11   8   5   6   5   0   0]\n",
      " [  4 310   0   0   0   0   0   0]\n",
      " [ 12   0 240   0   0   0   0   0]\n",
      " [  4   0   0 334   0   0   0   0]\n",
      " [  0   0   0   0 211   0   0   0]\n",
      " [  5   0   0   0   0 258   0   0]\n",
      " [  6  13   0   0   0   0 266   1]\n",
      " [  0   0   0   0   0   0   0 207]]\n",
      "0.9721642310368824\n",
      "ROC_AUC_Score:  0.9855288479727564\n"
     ]
    },
    {
     "name": "stderr",
     "output_type": "stream",
     "text": [
      "[Parallel(n_jobs=-1)]: Using backend ThreadingBackend with 2 concurrent workers.\n",
      "[Parallel(n_jobs=-1)]: Done  46 tasks      | elapsed:    1.1s\n",
      "[Parallel(n_jobs=-1)]: Done 196 tasks      | elapsed:    4.7s\n",
      "[Parallel(n_jobs=-1)]: Done 446 tasks      | elapsed:   10.7s\n",
      "[Parallel(n_jobs=-1)]: Done 500 out of 500 | elapsed:   12.0s finished\n",
      "[Parallel(n_jobs=2)]: Using backend ThreadingBackend with 2 concurrent workers.\n",
      "[Parallel(n_jobs=2)]: Done  46 tasks      | elapsed:    0.0s\n",
      "[Parallel(n_jobs=2)]: Done 196 tasks      | elapsed:    0.2s\n"
     ]
    },
    {
     "name": "stdout",
     "output_type": "stream",
     "text": [
      "[[992   9   6   5   2   8   0   1]\n",
      " [  0 284   0   0   0   0   0   0]\n",
      " [  4   0 228   0   0   0   0   0]\n",
      " [  0   0   0 353   0   0   0   0]\n",
      " [  0   4   0   0 220   0   0   0]\n",
      " [  9   0   0   0   4 222   0   0]\n",
      " [  5   7   0   0   0   0 249   0]\n",
      " [  0   0   0   0   0   0   0 202]]\n",
      "0.9772565742714996\n",
      "ROC_AUC_Score:  0.9878243746771815\n"
     ]
    },
    {
     "name": "stderr",
     "output_type": "stream",
     "text": [
      "[Parallel(n_jobs=2)]: Done 446 tasks      | elapsed:    0.4s\n",
      "[Parallel(n_jobs=2)]: Done 500 out of 500 | elapsed:    0.4s finished\n"
     ]
    }
   ],
   "source": [
    "for train_index, test_index in sss.split(train_vectors_L12, partDfZero['AssignmentGroup']):\n",
    "  train_lemma = partDfZero['LemmaString'][train_index][~partDfZero['LemmaString'][train_index].isna()]\n",
    "  test_lemma = partDfZero['LemmaString'][test_index][~partDfZero['LemmaString'][test_index].isna()]\n",
    "  train_group = partDfZero['AssignmentGroup'][train_index][~partDfZero['AssignmentGroup'][train_index].isna()]\n",
    "  test_group = partDfZero['AssignmentGroup'][test_index][~partDfZero['AssignmentGroup'][test_index].isna()]\n",
    "\n",
    "  X_train, X_test = train_lemma, test_lemma\n",
    "  y_train, y_test = train_group, test_group\n",
    "  clf_ShuffleSplit2.fit(X_train,y_train)\n",
    "  y2_pred_ShuffleSplit2=clf_ShuffleSplit2.predict(X_test)\n",
    "  print(metrics.confusion_matrix(y_test,y2_pred_ShuffleSplit2))\n",
    "  print(metrics.accuracy_score(y_test,y2_pred_ShuffleSplit2))\n",
    "  print(\"ROC_AUC_Score: \", multiclass_roc_auc_score(y_test,y2_pred_ShuffleSplit2))"
   ]
  },
  {
   "cell_type": "code",
   "execution_count": 0,
   "metadata": {
    "colab": {},
    "colab_type": "code",
    "id": "P87qAxoCf34L"
   },
   "outputs": [],
   "source": []
  },
  {
   "cell_type": "code",
   "execution_count": 0,
   "metadata": {
    "colab": {},
    "colab_type": "code",
    "id": "VRGfM2LRD9zP"
   },
   "outputs": [],
   "source": [
    "train_vectors_L3 = vectorizer.fit_transform(partDfOne['LemmaString'])"
   ]
  },
  {
   "cell_type": "code",
   "execution_count": 69,
   "metadata": {
    "colab": {
     "base_uri": "https://localhost:8080/",
     "height": 0
    },
    "colab_type": "code",
    "id": "GOGgLPJiD9vi",
    "outputId": "30307168-f343-42e9-fa76-ee95274e08d8"
   },
   "outputs": [
    {
     "name": "stderr",
     "output_type": "stream",
     "text": [
      "/usr/local/lib/python3.6/dist-packages/pandas/core/series.py:1146: FutureWarning: \n",
      "Passing list-likes to .loc or [] with any missing label will raise\n",
      "KeyError in the future, you can use .reindex() as an alternative.\n",
      "\n",
      "See the documentation here:\n",
      "https://pandas.pydata.org/pandas-docs/stable/user_guide/indexing.html#deprecate-loc-reindex-listlike\n",
      "  return self.loc[key]\n",
      "[Parallel(n_jobs=-1)]: Using backend ThreadingBackend with 2 concurrent workers.\n",
      "[Parallel(n_jobs=-1)]: Done  46 tasks      | elapsed:    0.2s\n",
      "[Parallel(n_jobs=-1)]: Done 196 tasks      | elapsed:    0.8s\n",
      "[Parallel(n_jobs=-1)]: Done 446 tasks      | elapsed:    1.9s\n",
      "[Parallel(n_jobs=-1)]: Done 500 out of 500 | elapsed:    2.1s finished\n",
      "[Parallel(n_jobs=2)]: Using backend ThreadingBackend with 2 concurrent workers.\n",
      "[Parallel(n_jobs=2)]: Done  46 tasks      | elapsed:    0.0s\n",
      "[Parallel(n_jobs=2)]: Done 196 tasks      | elapsed:    0.1s\n",
      "[Parallel(n_jobs=2)]: Done 446 tasks      | elapsed:    0.1s\n",
      "[Parallel(n_jobs=2)]: Done 500 out of 500 | elapsed:    0.2s finished\n"
     ]
    },
    {
     "name": "stdout",
     "output_type": "stream",
     "text": [
      "[[ 12   2   0   0   0  10  13]\n",
      " [  0  12   0   0   0  12   7]\n",
      " [  0   0  12   0   0   3   4]\n",
      " [  0   0   0  15   0   6   3]\n",
      " [  0   0   0   0  13   2   3]\n",
      " [  0   0   0   1   0 140  22]\n",
      " [  0   0   2   2   1  65  86]]\n",
      "0.6473214285714286\n",
      "ROC_AUC_Score:  0.7542570687988143\n"
     ]
    },
    {
     "name": "stderr",
     "output_type": "stream",
     "text": [
      "/usr/local/lib/python3.6/dist-packages/pandas/core/series.py:1146: FutureWarning: \n",
      "Passing list-likes to .loc or [] with any missing label will raise\n",
      "KeyError in the future, you can use .reindex() as an alternative.\n",
      "\n",
      "See the documentation here:\n",
      "https://pandas.pydata.org/pandas-docs/stable/user_guide/indexing.html#deprecate-loc-reindex-listlike\n",
      "  return self.loc[key]\n",
      "[Parallel(n_jobs=-1)]: Using backend ThreadingBackend with 2 concurrent workers.\n",
      "[Parallel(n_jobs=-1)]: Done  46 tasks      | elapsed:    0.2s\n",
      "[Parallel(n_jobs=-1)]: Done 196 tasks      | elapsed:    0.8s\n",
      "[Parallel(n_jobs=-1)]: Done 446 tasks      | elapsed:    1.9s\n",
      "[Parallel(n_jobs=-1)]: Done 500 out of 500 | elapsed:    2.1s finished\n",
      "[Parallel(n_jobs=2)]: Using backend ThreadingBackend with 2 concurrent workers.\n",
      "[Parallel(n_jobs=2)]: Done  46 tasks      | elapsed:    0.0s\n",
      "[Parallel(n_jobs=2)]: Done 196 tasks      | elapsed:    0.1s\n",
      "[Parallel(n_jobs=2)]: Done 446 tasks      | elapsed:    0.1s\n",
      "[Parallel(n_jobs=2)]: Done 500 out of 500 | elapsed:    0.1s finished\n"
     ]
    },
    {
     "name": "stdout",
     "output_type": "stream",
     "text": [
      "[[ 17   1   0   0   0   6   6]\n",
      " [  0  13   0   0   0  10   8]\n",
      " [  0   0  10   0   0   5  14]\n",
      " [  0   0   0  22   0   5   5]\n",
      " [  0   0   0   0  19   0   1]\n",
      " [  0   2   2   0   2 143  23]\n",
      " [  1   0   0   4   4  49  89]]\n",
      "0.6789587852494577\n",
      "ROC_AUC_Score:  0.7805204552146539\n"
     ]
    },
    {
     "name": "stderr",
     "output_type": "stream",
     "text": [
      "/usr/local/lib/python3.6/dist-packages/pandas/core/series.py:1146: FutureWarning: \n",
      "Passing list-likes to .loc or [] with any missing label will raise\n",
      "KeyError in the future, you can use .reindex() as an alternative.\n",
      "\n",
      "See the documentation here:\n",
      "https://pandas.pydata.org/pandas-docs/stable/user_guide/indexing.html#deprecate-loc-reindex-listlike\n",
      "  return self.loc[key]\n",
      "[Parallel(n_jobs=-1)]: Using backend ThreadingBackend with 2 concurrent workers.\n",
      "[Parallel(n_jobs=-1)]: Done  46 tasks      | elapsed:    0.2s\n",
      "[Parallel(n_jobs=-1)]: Done 196 tasks      | elapsed:    0.8s\n",
      "[Parallel(n_jobs=-1)]: Done 446 tasks      | elapsed:    1.9s\n",
      "[Parallel(n_jobs=-1)]: Done 500 out of 500 | elapsed:    2.1s finished\n",
      "[Parallel(n_jobs=2)]: Using backend ThreadingBackend with 2 concurrent workers.\n",
      "[Parallel(n_jobs=2)]: Done  46 tasks      | elapsed:    0.0s\n",
      "[Parallel(n_jobs=2)]: Done 196 tasks      | elapsed:    0.1s\n",
      "[Parallel(n_jobs=2)]: Done 446 tasks      | elapsed:    0.1s\n",
      "[Parallel(n_jobs=2)]: Done 500 out of 500 | elapsed:    0.1s finished\n"
     ]
    },
    {
     "name": "stdout",
     "output_type": "stream",
     "text": [
      "[[ 15   2   0   0   0   7  10]\n",
      " [  1  11   1   1   0  13  10]\n",
      " [  0   0   6   1   0   6  11]\n",
      " [  0   0   0  12   0   5   7]\n",
      " [  0   0   0   0  19   0   7]\n",
      " [  0   0   1   1   1 147  25]\n",
      " [  0   0   0   5   2  39  78]]\n",
      "0.6486486486486487\n",
      "ROC_AUC_Score:  0.726497330127539\n"
     ]
    },
    {
     "name": "stderr",
     "output_type": "stream",
     "text": [
      "/usr/local/lib/python3.6/dist-packages/pandas/core/series.py:1146: FutureWarning: \n",
      "Passing list-likes to .loc or [] with any missing label will raise\n",
      "KeyError in the future, you can use .reindex() as an alternative.\n",
      "\n",
      "See the documentation here:\n",
      "https://pandas.pydata.org/pandas-docs/stable/user_guide/indexing.html#deprecate-loc-reindex-listlike\n",
      "  return self.loc[key]\n",
      "[Parallel(n_jobs=-1)]: Using backend ThreadingBackend with 2 concurrent workers.\n",
      "[Parallel(n_jobs=-1)]: Done  46 tasks      | elapsed:    0.2s\n",
      "[Parallel(n_jobs=-1)]: Done 196 tasks      | elapsed:    0.8s\n",
      "[Parallel(n_jobs=-1)]: Done 446 tasks      | elapsed:    1.8s\n",
      "[Parallel(n_jobs=-1)]: Done 500 out of 500 | elapsed:    2.0s finished\n",
      "[Parallel(n_jobs=2)]: Using backend ThreadingBackend with 2 concurrent workers.\n",
      "[Parallel(n_jobs=2)]: Done  46 tasks      | elapsed:    0.0s\n",
      "[Parallel(n_jobs=2)]: Done 196 tasks      | elapsed:    0.1s\n",
      "[Parallel(n_jobs=2)]: Done 446 tasks      | elapsed:    0.1s\n",
      "[Parallel(n_jobs=2)]: Done 500 out of 500 | elapsed:    0.2s finished\n",
      "/usr/local/lib/python3.6/dist-packages/pandas/core/series.py:1146: FutureWarning: \n",
      "Passing list-likes to .loc or [] with any missing label will raise\n",
      "KeyError in the future, you can use .reindex() as an alternative.\n",
      "\n",
      "See the documentation here:\n",
      "https://pandas.pydata.org/pandas-docs/stable/user_guide/indexing.html#deprecate-loc-reindex-listlike\n",
      "  return self.loc[key]\n"
     ]
    },
    {
     "name": "stdout",
     "output_type": "stream",
     "text": [
      "[[ 16   3   0   0   0   4   6]\n",
      " [  0  12   0   0   0  16  11]\n",
      " [  0   0   6   1   0  11  11]\n",
      " [  0   1   0  18   0   3   7]\n",
      " [  0   0   0   0  19   1   1]\n",
      " [  0   2   0   0   0 148  38]\n",
      " [  0   0   0   7   3  46  85]]\n",
      "0.6386554621848739\n",
      "ROC_AUC_Score:  0.7458192486747749\n"
     ]
    },
    {
     "name": "stderr",
     "output_type": "stream",
     "text": [
      "[Parallel(n_jobs=-1)]: Using backend ThreadingBackend with 2 concurrent workers.\n",
      "[Parallel(n_jobs=-1)]: Done  46 tasks      | elapsed:    0.2s\n",
      "[Parallel(n_jobs=-1)]: Done 196 tasks      | elapsed:    0.8s\n",
      "[Parallel(n_jobs=-1)]: Done 446 tasks      | elapsed:    1.8s\n",
      "[Parallel(n_jobs=-1)]: Done 500 out of 500 | elapsed:    2.1s finished\n",
      "[Parallel(n_jobs=2)]: Using backend ThreadingBackend with 2 concurrent workers.\n",
      "[Parallel(n_jobs=2)]: Done  46 tasks      | elapsed:    0.0s\n",
      "[Parallel(n_jobs=2)]: Done 196 tasks      | elapsed:    0.1s\n",
      "[Parallel(n_jobs=2)]: Done 446 tasks      | elapsed:    0.1s\n"
     ]
    },
    {
     "name": "stdout",
     "output_type": "stream",
     "text": [
      "[[ 15   3   0   0   0   3  10]\n",
      " [  0  14   0   0   0  13   8]\n",
      " [  0   0   7   2   0   4   9]\n",
      " [  0   0   0  16   0   9   9]\n",
      " [  0   0   0   0  15   0   2]\n",
      " [  0   1   0   0   1 156  40]\n",
      " [  1   1   0   4   0  33  91]]\n",
      "0.6723768736616702\n",
      "ROC_AUC_Score:  0.753642056125141\n"
     ]
    },
    {
     "name": "stderr",
     "output_type": "stream",
     "text": [
      "[Parallel(n_jobs=2)]: Done 500 out of 500 | elapsed:    0.2s finished\n"
     ]
    }
   ],
   "source": [
    "for train_index, test_index in sss.split(train_vectors_L3, partDfOne['AssignmentGroup']):\n",
    "  train_lemma = partDfOne['LemmaString'][train_index][~partDfOne['LemmaString'][train_index].isna()]\n",
    "  test_lemma = partDfOne['LemmaString'][test_index][~partDfOne['LemmaString'][test_index].isna()]\n",
    "  train_group = partDfOne['AssignmentGroup'][train_index][~partDfOne['AssignmentGroup'][train_index].isna()]\n",
    "  test_group = partDfOne['AssignmentGroup'][test_index][~partDfOne['AssignmentGroup'][test_index].isna()]\n",
    "\n",
    "  X_train, X_test = train_lemma, test_lemma\n",
    "  y_train, y_test = train_group, test_group\n",
    "  clf_ShuffleSplit3.fit(X_train,y_train)\n",
    "  y3_pred_ShuffleSplit=clf_ShuffleSplit3.predict(X_test)\n",
    "  print(metrics.confusion_matrix(y_test,y3_pred_ShuffleSplit))\n",
    "  print(metrics.accuracy_score(y_test,y3_pred_ShuffleSplit))\n",
    "  print(\"ROC_AUC_Score: \", multiclass_roc_auc_score(y_test,y3_pred_ShuffleSplit))"
   ]
  },
  {
   "cell_type": "code",
   "execution_count": 0,
   "metadata": {
    "colab": {},
    "colab_type": "code",
    "id": "XjjgOdMHD9sP"
   },
   "outputs": [],
   "source": []
  },
  {
   "cell_type": "markdown",
   "metadata": {
    "colab_type": "text",
    "id": "yqNPvGY5EyOF"
   },
   "source": [
    "### Predict On Basis of Shuffle Split"
   ]
  },
  {
   "cell_type": "code",
   "execution_count": 70,
   "metadata": {
    "colab": {
     "base_uri": "https://localhost:8080/",
     "height": 359
    },
    "colab_type": "code",
    "id": "4467B3dAD9qK",
    "outputId": "0f2e5a28-e65c-4125-d746-1e3fffa6ef2d"
   },
   "outputs": [
    {
     "data": {
      "text/html": [
       "<div>\n",
       "<style scoped>\n",
       "    .dataframe tbody tr th:only-of-type {\n",
       "        vertical-align: middle;\n",
       "    }\n",
       "\n",
       "    .dataframe tbody tr th {\n",
       "        vertical-align: top;\n",
       "    }\n",
       "\n",
       "    .dataframe thead th {\n",
       "        text-align: right;\n",
       "    }\n",
       "</style>\n",
       "<table border=\"1\" class=\"dataframe\">\n",
       "  <thead>\n",
       "    <tr style=\"text-align: right;\">\n",
       "      <th></th>\n",
       "      <th>LemmaString</th>\n",
       "      <th>NewAssignmentGroup</th>\n",
       "    </tr>\n",
       "  </thead>\n",
       "  <tbody>\n",
       "    <tr>\n",
       "      <th>0</th>\n",
       "      <td>telephony software issue</td>\n",
       "      <td>GRP_0</td>\n",
       "    </tr>\n",
       "    <tr>\n",
       "      <th>1</th>\n",
       "      <td>robot hostname inactive</td>\n",
       "      <td>GRP_8</td>\n",
       "    </tr>\n",
       "    <tr>\n",
       "      <th>2</th>\n",
       "      <td>display fix telephone system area defective nu...</td>\n",
       "      <td>GRP_99</td>\n",
       "    </tr>\n",
       "    <tr>\n",
       "      <th>3</th>\n",
       "      <td>job hr payroll fail scheduler monitor tool</td>\n",
       "      <td>GRP_10</td>\n",
       "    </tr>\n",
       "    <tr>\n",
       "      <th>4</th>\n",
       "      <td>telephony software issue bad quality sound hor...</td>\n",
       "      <td>GRP_98</td>\n",
       "    </tr>\n",
       "    <tr>\n",
       "      <th>5</th>\n",
       "      <td>account lock</td>\n",
       "      <td>GRP_0</td>\n",
       "    </tr>\n",
       "    <tr>\n",
       "      <th>6</th>\n",
       "      <td>hostname application plm dsc file node unreach...</td>\n",
       "      <td>GRP_14</td>\n",
       "    </tr>\n",
       "    <tr>\n",
       "      <th>7</th>\n",
       "      <td>erp sid access reason error state account not ...</td>\n",
       "      <td>GRP_2</td>\n",
       "    </tr>\n",
       "    <tr>\n",
       "      <th>8</th>\n",
       "      <td>job dir fail scheduler monitor tool</td>\n",
       "      <td>GRP_5</td>\n",
       "    </tr>\n",
       "    <tr>\n",
       "      <th>9</th>\n",
       "      <td>tool batch management pdv system absolutely ba...</td>\n",
       "      <td>GRP_25</td>\n",
       "    </tr>\n",
       "  </tbody>\n",
       "</table>\n",
       "</div>"
      ],
      "text/plain": [
       "                                         LemmaString NewAssignmentGroup\n",
       "0                           telephony software issue              GRP_0\n",
       "1                            robot hostname inactive              GRP_8\n",
       "2  display fix telephone system area defective nu...             GRP_99\n",
       "3         job hr payroll fail scheduler monitor tool             GRP_10\n",
       "4  telephony software issue bad quality sound hor...             GRP_98\n",
       "5                                       account lock              GRP_0\n",
       "6  hostname application plm dsc file node unreach...             GRP_14\n",
       "7  erp sid access reason error state account not ...              GRP_2\n",
       "8                job dir fail scheduler monitor tool              GRP_5\n",
       "9  tool batch management pdv system absolutely ba...             GRP_25"
      ]
     },
     "execution_count": 70,
     "metadata": {
      "tags": []
     },
     "output_type": "execute_result"
    }
   ],
   "source": [
    "dfShuffle = pd.read_excel('TestDataToPredict.xlsx')\n",
    "dfShuffle.head(10)"
   ]
  },
  {
   "cell_type": "code",
   "execution_count": 0,
   "metadata": {
    "colab": {},
    "colab_type": "code",
    "id": "o_bKYmjDF1Q8"
   },
   "outputs": [],
   "source": [
    "train_vectors = vectorizer.fit_transform(dfShuffle.LemmaString)"
   ]
  },
  {
   "cell_type": "code",
   "execution_count": 72,
   "metadata": {
    "colab": {
     "base_uri": "https://localhost:8080/",
     "height": 102
    },
    "colab_type": "code",
    "id": "vwTh8my2D9nr",
    "outputId": "4980674b-7bfd-474f-9530-e8d2090cb3f7"
   },
   "outputs": [
    {
     "name": "stderr",
     "output_type": "stream",
     "text": [
      "[Parallel(n_jobs=2)]: Using backend ThreadingBackend with 2 concurrent workers.\n",
      "[Parallel(n_jobs=2)]: Done  46 tasks      | elapsed:    0.0s\n",
      "[Parallel(n_jobs=2)]: Done 196 tasks      | elapsed:    0.0s\n",
      "[Parallel(n_jobs=2)]: Done 446 tasks      | elapsed:    0.1s\n",
      "[Parallel(n_jobs=2)]: Done 500 out of 500 | elapsed:    0.1s finished\n"
     ]
    }
   ],
   "source": [
    "y1_TestPred_shuffle = clf_ShuffleSplit.predict(dfShuffle['LemmaString'])"
   ]
  },
  {
   "cell_type": "code",
   "execution_count": 73,
   "metadata": {
    "colab": {
     "base_uri": "https://localhost:8080/",
     "height": 88
    },
    "colab_type": "code",
    "id": "zfaj1OXyD9kQ",
    "outputId": "514c6e6a-ecdb-438c-fb01-0698f68c3df3"
   },
   "outputs": [
    {
     "name": "stdout",
     "output_type": "stream",
     "text": [
      "ROC_AUC_Score:  0.5\n"
     ]
    },
    {
     "name": "stderr",
     "output_type": "stream",
     "text": [
      "/usr/local/lib/python3.6/dist-packages/numpy/lib/arraysetops.py:569: FutureWarning: elementwise comparison failed; returning scalar instead, but in the future will perform elementwise comparison\n",
      "  mask |= (ar1 == a)\n"
     ]
    }
   ],
   "source": [
    "print(\"ROC_AUC_Score: \", multiclass_roc_auc_score(dfShuffle['NewAssignmentGroup'],y1_TestPred_shuffle))"
   ]
  },
  {
   "cell_type": "code",
   "execution_count": 74,
   "metadata": {
    "colab": {
     "base_uri": "https://localhost:8080/",
     "height": 204
    },
    "colab_type": "code",
    "id": "lEojhJLZExDD",
    "outputId": "51775b4e-8724-433d-eeb8-78bee7306682"
   },
   "outputs": [
    {
     "data": {
      "text/html": [
       "<div>\n",
       "<style scoped>\n",
       "    .dataframe tbody tr th:only-of-type {\n",
       "        vertical-align: middle;\n",
       "    }\n",
       "\n",
       "    .dataframe tbody tr th {\n",
       "        vertical-align: top;\n",
       "    }\n",
       "\n",
       "    .dataframe thead th {\n",
       "        text-align: right;\n",
       "    }\n",
       "</style>\n",
       "<table border=\"1\" class=\"dataframe\">\n",
       "  <thead>\n",
       "    <tr style=\"text-align: right;\">\n",
       "      <th></th>\n",
       "      <th>LemmaString</th>\n",
       "      <th>NewAssignmentGroup</th>\n",
       "      <th>y1_pred</th>\n",
       "      <th>y2_pred</th>\n",
       "      <th>y3_pred</th>\n",
       "      <th>FinalPredictions</th>\n",
       "    </tr>\n",
       "  </thead>\n",
       "  <tbody>\n",
       "    <tr>\n",
       "      <th>0</th>\n",
       "      <td>telephony software issue</td>\n",
       "      <td>GRP_0</td>\n",
       "      <td>y1_pred</td>\n",
       "      <td>y2_pred</td>\n",
       "      <td>y3_pred</td>\n",
       "      <td>UNK9999</td>\n",
       "    </tr>\n",
       "    <tr>\n",
       "      <th>1</th>\n",
       "      <td>robot hostname inactive</td>\n",
       "      <td>GRP_8</td>\n",
       "      <td>y1_pred</td>\n",
       "      <td>y2_pred</td>\n",
       "      <td>y3_pred</td>\n",
       "      <td>UNK9999</td>\n",
       "    </tr>\n",
       "    <tr>\n",
       "      <th>2</th>\n",
       "      <td>display fix telephone system area defective nu...</td>\n",
       "      <td>GRP_99</td>\n",
       "      <td>y1_pred</td>\n",
       "      <td>y2_pred</td>\n",
       "      <td>y3_pred</td>\n",
       "      <td>UNK9999</td>\n",
       "    </tr>\n",
       "    <tr>\n",
       "      <th>3</th>\n",
       "      <td>job hr payroll fail scheduler monitor tool</td>\n",
       "      <td>GRP_10</td>\n",
       "      <td>y1_pred</td>\n",
       "      <td>y2_pred</td>\n",
       "      <td>y3_pred</td>\n",
       "      <td>UNK9999</td>\n",
       "    </tr>\n",
       "    <tr>\n",
       "      <th>4</th>\n",
       "      <td>telephony software issue bad quality sound hor...</td>\n",
       "      <td>GRP_98</td>\n",
       "      <td>y1_pred</td>\n",
       "      <td>y2_pred</td>\n",
       "      <td>y3_pred</td>\n",
       "      <td>UNK9999</td>\n",
       "    </tr>\n",
       "  </tbody>\n",
       "</table>\n",
       "</div>"
      ],
      "text/plain": [
       "                                         LemmaString  ... FinalPredictions\n",
       "0                           telephony software issue  ...          UNK9999\n",
       "1                            robot hostname inactive  ...          UNK9999\n",
       "2  display fix telephone system area defective nu...  ...          UNK9999\n",
       "3         job hr payroll fail scheduler monitor tool  ...          UNK9999\n",
       "4  telephony software issue bad quality sound hor...  ...          UNK9999\n",
       "\n",
       "[5 rows x 6 columns]"
      ]
     },
     "execution_count": 74,
     "metadata": {
      "tags": []
     },
     "output_type": "execute_result"
    }
   ],
   "source": [
    "dfShuffle['y1_pred'] = 'y1_pred'\n",
    "dfShuffle['y2_pred'] = 'y2_pred'\n",
    "dfShuffle['y3_pred'] = 'y3_pred'\n",
    "dfShuffle['FinalPredictions'] = 'UNK9999'\n",
    "dfShuffle.head()"
   ]
  },
  {
   "cell_type": "code",
   "execution_count": 75,
   "metadata": {
    "colab": {
     "base_uri": "https://localhost:8080/",
     "height": 204
    },
    "colab_type": "code",
    "id": "YOyg26J_XkeW",
    "outputId": "59be86a5-928a-455d-b060-9fbeeab5fda6"
   },
   "outputs": [
    {
     "data": {
      "text/html": [
       "<div>\n",
       "<style scoped>\n",
       "    .dataframe tbody tr th:only-of-type {\n",
       "        vertical-align: middle;\n",
       "    }\n",
       "\n",
       "    .dataframe tbody tr th {\n",
       "        vertical-align: top;\n",
       "    }\n",
       "\n",
       "    .dataframe thead th {\n",
       "        text-align: right;\n",
       "    }\n",
       "</style>\n",
       "<table border=\"1\" class=\"dataframe\">\n",
       "  <thead>\n",
       "    <tr style=\"text-align: right;\">\n",
       "      <th></th>\n",
       "      <th>LemmaString</th>\n",
       "      <th>NewAssignmentGroup</th>\n",
       "      <th>y1_pred</th>\n",
       "      <th>y2_pred</th>\n",
       "      <th>y3_pred</th>\n",
       "      <th>FinalPredictions</th>\n",
       "    </tr>\n",
       "  </thead>\n",
       "  <tbody>\n",
       "    <tr>\n",
       "      <th>0</th>\n",
       "      <td>telephony software issue</td>\n",
       "      <td>GRP_0</td>\n",
       "      <td>0</td>\n",
       "      <td>y2_pred</td>\n",
       "      <td>y3_pred</td>\n",
       "      <td>UNK9999</td>\n",
       "    </tr>\n",
       "    <tr>\n",
       "      <th>1</th>\n",
       "      <td>robot hostname inactive</td>\n",
       "      <td>GRP_8</td>\n",
       "      <td>0</td>\n",
       "      <td>y2_pred</td>\n",
       "      <td>y3_pred</td>\n",
       "      <td>UNK9999</td>\n",
       "    </tr>\n",
       "    <tr>\n",
       "      <th>2</th>\n",
       "      <td>display fix telephone system area defective nu...</td>\n",
       "      <td>GRP_99</td>\n",
       "      <td>0</td>\n",
       "      <td>y2_pred</td>\n",
       "      <td>y3_pred</td>\n",
       "      <td>UNK9999</td>\n",
       "    </tr>\n",
       "    <tr>\n",
       "      <th>3</th>\n",
       "      <td>job hr payroll fail scheduler monitor tool</td>\n",
       "      <td>GRP_10</td>\n",
       "      <td>1</td>\n",
       "      <td>y2_pred</td>\n",
       "      <td>y3_pred</td>\n",
       "      <td>UNK9999</td>\n",
       "    </tr>\n",
       "    <tr>\n",
       "      <th>4</th>\n",
       "      <td>telephony software issue bad quality sound hor...</td>\n",
       "      <td>GRP_98</td>\n",
       "      <td>1</td>\n",
       "      <td>y2_pred</td>\n",
       "      <td>y3_pred</td>\n",
       "      <td>UNK9999</td>\n",
       "    </tr>\n",
       "  </tbody>\n",
       "</table>\n",
       "</div>"
      ],
      "text/plain": [
       "                                         LemmaString  ... FinalPredictions\n",
       "0                           telephony software issue  ...          UNK9999\n",
       "1                            robot hostname inactive  ...          UNK9999\n",
       "2  display fix telephone system area defective nu...  ...          UNK9999\n",
       "3         job hr payroll fail scheduler monitor tool  ...          UNK9999\n",
       "4  telephony software issue bad quality sound hor...  ...          UNK9999\n",
       "\n",
       "[5 rows x 6 columns]"
      ]
     },
     "execution_count": 75,
     "metadata": {
      "tags": []
     },
     "output_type": "execute_result"
    }
   ],
   "source": [
    "dfShuffle['y1_pred'] = pd.Series(y1_TestPred_shuffle)\n",
    "dfShuffle.head()"
   ]
  },
  {
   "cell_type": "code",
   "execution_count": 0,
   "metadata": {
    "colab": {},
    "colab_type": "code",
    "id": "BSY8fLDUXkcQ"
   },
   "outputs": [],
   "source": [
    "partZero = dfShuffle[dfShuffle['y1_pred'] == 0]\n",
    "partOne = dfShuffle[dfShuffle['y1_pred'] == 1]"
   ]
  },
  {
   "cell_type": "code",
   "execution_count": 77,
   "metadata": {
    "colab": {
     "base_uri": "https://localhost:8080/",
     "height": 328
    },
    "colab_type": "code",
    "id": "ozYGwZTaH0YX",
    "outputId": "d8c1f190-70a8-4ad2-84cf-c7609ba7694b"
   },
   "outputs": [
    {
     "data": {
      "text/html": [
       "<div>\n",
       "<style scoped>\n",
       "    .dataframe tbody tr th:only-of-type {\n",
       "        vertical-align: middle;\n",
       "    }\n",
       "\n",
       "    .dataframe tbody tr th {\n",
       "        vertical-align: top;\n",
       "    }\n",
       "\n",
       "    .dataframe thead th {\n",
       "        text-align: right;\n",
       "    }\n",
       "</style>\n",
       "<table border=\"1\" class=\"dataframe\">\n",
       "  <thead>\n",
       "    <tr style=\"text-align: right;\">\n",
       "      <th></th>\n",
       "      <th>LemmaString</th>\n",
       "      <th>NewAssignmentGroup</th>\n",
       "      <th>y1_pred</th>\n",
       "      <th>y2_pred</th>\n",
       "      <th>y3_pred</th>\n",
       "      <th>FinalPredictions</th>\n",
       "    </tr>\n",
       "  </thead>\n",
       "  <tbody>\n",
       "    <tr>\n",
       "      <th>0</th>\n",
       "      <td>telephony software issue</td>\n",
       "      <td>GRP_0</td>\n",
       "      <td>0</td>\n",
       "      <td>y2_pred</td>\n",
       "      <td>y3_pred</td>\n",
       "      <td>UNK9999</td>\n",
       "    </tr>\n",
       "    <tr>\n",
       "      <th>1</th>\n",
       "      <td>robot hostname inactive</td>\n",
       "      <td>GRP_8</td>\n",
       "      <td>0</td>\n",
       "      <td>y2_pred</td>\n",
       "      <td>y3_pred</td>\n",
       "      <td>UNK9999</td>\n",
       "    </tr>\n",
       "    <tr>\n",
       "      <th>2</th>\n",
       "      <td>display fix telephone system area defective nu...</td>\n",
       "      <td>GRP_99</td>\n",
       "      <td>0</td>\n",
       "      <td>y2_pred</td>\n",
       "      <td>y3_pred</td>\n",
       "      <td>UNK9999</td>\n",
       "    </tr>\n",
       "    <tr>\n",
       "      <th>5</th>\n",
       "      <td>account lock</td>\n",
       "      <td>GRP_0</td>\n",
       "      <td>0</td>\n",
       "      <td>y2_pred</td>\n",
       "      <td>y3_pred</td>\n",
       "      <td>UNK9999</td>\n",
       "    </tr>\n",
       "    <tr>\n",
       "      <th>7</th>\n",
       "      <td>erp sid access reason error state account not ...</td>\n",
       "      <td>GRP_2</td>\n",
       "      <td>0</td>\n",
       "      <td>y2_pred</td>\n",
       "      <td>y3_pred</td>\n",
       "      <td>UNK9999</td>\n",
       "    </tr>\n",
       "    <tr>\n",
       "      <th>10</th>\n",
       "      <td>ROBOT SYSTEM IS INACTIVE</td>\n",
       "      <td>GRP_8</td>\n",
       "      <td>0</td>\n",
       "      <td>y2_pred</td>\n",
       "      <td>y3_pred</td>\n",
       "      <td>UNK9999</td>\n",
       "    </tr>\n",
       "    <tr>\n",
       "      <th>11</th>\n",
       "      <td>TELEPHONE SYSTEM DISPLAY IS NOT WORKING</td>\n",
       "      <td>GRP_99</td>\n",
       "      <td>0</td>\n",
       "      <td>y2_pred</td>\n",
       "      <td>y3_pred</td>\n",
       "      <td>UNK9999</td>\n",
       "    </tr>\n",
       "    <tr>\n",
       "      <th>12</th>\n",
       "      <td>POOR QUALITY OF TELEPHONY SOFTWARE</td>\n",
       "      <td>GRP_98</td>\n",
       "      <td>0</td>\n",
       "      <td>y2_pred</td>\n",
       "      <td>y3_pred</td>\n",
       "      <td>UNK9999</td>\n",
       "    </tr>\n",
       "    <tr>\n",
       "      <th>13</th>\n",
       "      <td>FACING ERP ACCESS ISSUE</td>\n",
       "      <td>GRP_2</td>\n",
       "      <td>0</td>\n",
       "      <td>y2_pred</td>\n",
       "      <td>y3_pred</td>\n",
       "      <td>UNK9999</td>\n",
       "    </tr>\n",
       "  </tbody>\n",
       "</table>\n",
       "</div>"
      ],
      "text/plain": [
       "                                          LemmaString  ... FinalPredictions\n",
       "0                            telephony software issue  ...          UNK9999\n",
       "1                             robot hostname inactive  ...          UNK9999\n",
       "2   display fix telephone system area defective nu...  ...          UNK9999\n",
       "5                                        account lock  ...          UNK9999\n",
       "7   erp sid access reason error state account not ...  ...          UNK9999\n",
       "10                           ROBOT SYSTEM IS INACTIVE  ...          UNK9999\n",
       "11            TELEPHONE SYSTEM DISPLAY IS NOT WORKING  ...          UNK9999\n",
       "12                 POOR QUALITY OF TELEPHONY SOFTWARE  ...          UNK9999\n",
       "13                            FACING ERP ACCESS ISSUE  ...          UNK9999\n",
       "\n",
       "[9 rows x 6 columns]"
      ]
     },
     "execution_count": 77,
     "metadata": {
      "tags": []
     },
     "output_type": "execute_result"
    }
   ],
   "source": [
    "partZero.head(10)"
   ]
  },
  {
   "cell_type": "code",
   "execution_count": 78,
   "metadata": {
    "colab": {
     "base_uri": "https://localhost:8080/",
     "height": 187
    },
    "colab_type": "code",
    "id": "sGB5TXzDXkY5",
    "outputId": "146043d0-14f3-4176-aae9-e3d8c058ad99"
   },
   "outputs": [
    {
     "name": "stderr",
     "output_type": "stream",
     "text": [
      "[Parallel(n_jobs=2)]: Using backend ThreadingBackend with 2 concurrent workers.\n",
      "[Parallel(n_jobs=2)]: Done  46 tasks      | elapsed:    0.0s\n",
      "[Parallel(n_jobs=2)]: Done 196 tasks      | elapsed:    0.1s\n",
      "[Parallel(n_jobs=2)]: Done 446 tasks      | elapsed:    0.1s\n",
      "[Parallel(n_jobs=2)]: Done 500 out of 500 | elapsed:    0.1s finished\n",
      "[Parallel(n_jobs=2)]: Using backend ThreadingBackend with 2 concurrent workers.\n",
      "[Parallel(n_jobs=2)]: Done  46 tasks      | elapsed:    0.0s\n",
      "[Parallel(n_jobs=2)]: Done 196 tasks      | elapsed:    0.0s\n",
      "[Parallel(n_jobs=2)]: Done 446 tasks      | elapsed:    0.1s\n",
      "[Parallel(n_jobs=2)]: Done 500 out of 500 | elapsed:    0.1s finished\n"
     ]
    }
   ],
   "source": [
    "y2_TestPred_Shuffle = clf_ShuffleSplit2.predict(partZero['LemmaString'])\n",
    "y3_TestPred_Shuffle = clf_ShuffleSplit3.predict(partOne['LemmaString'])"
   ]
  },
  {
   "cell_type": "code",
   "execution_count": 79,
   "metadata": {
    "colab": {
     "base_uri": "https://localhost:8080/",
     "height": 680
    },
    "colab_type": "code",
    "id": "6ozc7drII_ZO",
    "outputId": "62dab4f1-a879-40c2-c425-ad98ad7bc34d"
   },
   "outputs": [
    {
     "name": "stderr",
     "output_type": "stream",
     "text": [
      "/usr/local/lib/python3.6/dist-packages/sklearn/metrics/_classification.py:1272: UndefinedMetricWarning: Recall and F-score are ill-defined and being set to 0.0 in labels with no true samples. Use `zero_division` parameter to control this behavior.\n",
      "  _warn_prf(average, modifier, msg_start, len(result))\n"
     ]
    },
    {
     "name": "stdout",
     "output_type": "stream",
     "text": [
      "Accuracy score: \n",
      " 0.5555555555555556\n",
      "Test-set confusion matrix:\n",
      " [[5 1 1 1 1]\n",
      " [0 0 0 0 0]\n",
      " [0 0 0 0 0]\n",
      " [0 0 0 0 0]\n",
      " [0 0 0 0 0]]\n",
      "Classification report:\n",
      "               precision    recall  f1-score   support\n",
      "\n",
      "           0       1.00      0.56      0.71         9\n",
      "           2       0.00      0.00      0.00         0\n",
      "           3       0.00      0.00      0.00         0\n",
      "           4       0.00      0.00      0.00         0\n",
      "           6       0.00      0.00      0.00         0\n",
      "\n",
      "    accuracy                           0.56         9\n",
      "   macro avg       0.20      0.11      0.14         9\n",
      "weighted avg       1.00      0.56      0.71         9\n",
      "\n"
     ]
    },
    {
     "data": {
      "image/png": "[encoded data removed]",
      "text/plain": [
       "<Figure size 432x288 with 2 Axes>"
      ]
     },
     "metadata": {
      "tags": []
     },
     "output_type": "display_data"
    }
   ],
   "source": [
    "print_scores(partZero['y1_pred'],y2_TestPred_Shuffle.astype(int))"
   ]
  },
  {
   "cell_type": "code",
   "execution_count": 80,
   "metadata": {
    "colab": {
     "base_uri": "https://localhost:8080/",
     "height": 88
    },
    "colab_type": "code",
    "id": "bE5prxfiXkVp",
    "outputId": "a0e05934-d7f4-435c-e3be-682207501215"
   },
   "outputs": [
    {
     "name": "stdout",
     "output_type": "stream",
     "text": [
      "ROC_AUC_Score:  0.5\n"
     ]
    },
    {
     "name": "stderr",
     "output_type": "stream",
     "text": [
      "/usr/local/lib/python3.6/dist-packages/numpy/lib/arraysetops.py:569: FutureWarning: elementwise comparison failed; returning scalar instead, but in the future will perform elementwise comparison\n",
      "  mask |= (ar1 == a)\n"
     ]
    }
   ],
   "source": [
    "print(\"ROC_AUC_Score: \", multiclass_roc_auc_score(partZero['NewAssignmentGroup'],y2_TestPred_Shuffle.astype(int)))"
   ]
  },
  {
   "cell_type": "code",
   "execution_count": 81,
   "metadata": {
    "colab": {
     "base_uri": "https://localhost:8080/",
     "height": 714
    },
    "colab_type": "code",
    "id": "53ujygH3JPXv",
    "outputId": "da8616da-56ee-4c57-c687-e6da29128c67"
   },
   "outputs": [
    {
     "name": "stderr",
     "output_type": "stream",
     "text": [
      "/usr/local/lib/python3.6/dist-packages/sklearn/metrics/_classification.py:1272: UndefinedMetricWarning: Precision and F-score are ill-defined and being set to 0.0 in labels with no predicted samples. Use `zero_division` parameter to control this behavior.\n",
      "  _warn_prf(average, modifier, msg_start, len(result))\n",
      "/usr/local/lib/python3.6/dist-packages/sklearn/metrics/_classification.py:1272: UndefinedMetricWarning: Recall and F-score are ill-defined and being set to 0.0 in labels with no true samples. Use `zero_division` parameter to control this behavior.\n",
      "  _warn_prf(average, modifier, msg_start, len(result))\n"
     ]
    },
    {
     "name": "stdout",
     "output_type": "stream",
     "text": [
      "Accuracy score: \n",
      " 0.0\n",
      "Test-set confusion matrix:\n",
      " [[0 0 0 0 0]\n",
      " [1 0 1 1 3]\n",
      " [0 0 0 0 0]\n",
      " [0 0 0 0 0]\n",
      " [0 0 0 0 0]]\n",
      "Classification report:\n",
      "               precision    recall  f1-score   support\n",
      "\n",
      "           0       0.00      0.00      0.00       0.0\n",
      "           1       0.00      0.00      0.00       6.0\n",
      "           2       0.00      0.00      0.00       0.0\n",
      "           4       0.00      0.00      0.00       0.0\n",
      "           5       0.00      0.00      0.00       0.0\n",
      "\n",
      "    accuracy                           0.00       6.0\n",
      "   macro avg       0.00      0.00      0.00       6.0\n",
      "weighted avg       0.00      0.00      0.00       6.0\n",
      "\n"
     ]
    },
    {
     "data": {
      "image/png": "[encoded data removed]",
      "text/plain": [
       "<Figure size 432x288 with 2 Axes>"
      ]
     },
     "metadata": {
      "tags": []
     },
     "output_type": "display_data"
    }
   ],
   "source": [
    "print_scores(partOne['y1_pred'],y3_TestPred_Shuffle.astype(int))"
   ]
  },
  {
   "cell_type": "code",
   "execution_count": 82,
   "metadata": {
    "colab": {
     "base_uri": "https://localhost:8080/",
     "height": 88
    },
    "colab_type": "code",
    "id": "m4l7XpxdXkQN",
    "outputId": "977e9c65-70bc-41a4-f258-5827299b97d8"
   },
   "outputs": [
    {
     "name": "stdout",
     "output_type": "stream",
     "text": [
      "ROC_AUC_Score:  0.5\n"
     ]
    },
    {
     "name": "stderr",
     "output_type": "stream",
     "text": [
      "/usr/local/lib/python3.6/dist-packages/numpy/lib/arraysetops.py:569: FutureWarning: elementwise comparison failed; returning scalar instead, but in the future will perform elementwise comparison\n",
      "  mask |= (ar1 == a)\n"
     ]
    }
   ],
   "source": [
    "print(\"ROC_AUC_Score: \", multiclass_roc_auc_score(partOne['NewAssignmentGroup'],y3_TestPred_Shuffle.astype(int)))"
   ]
  },
  {
   "cell_type": "code",
   "execution_count": 0,
   "metadata": {
    "colab": {},
    "colab_type": "code",
    "id": "SLiWDhu_YHjt"
   },
   "outputs": [],
   "source": []
  },
  {
   "cell_type": "code",
   "execution_count": 0,
   "metadata": {
    "colab": {},
    "colab_type": "code",
    "id": "R6jA7b23nWMu"
   },
   "outputs": [],
   "source": []
  }
 ],
 "metadata": {
  "accelerator": "GPU",
  "colab": {
   "collapsed_sections": [
    "-sYS3qaIGPfu",
    "6byS6OCDf4ry"
   ],
   "name": "Capstone_RandomForest_Train_Predict_Ver3.ipynb",
   "provenance": []
  },
  "kernelspec": {
   "display_name": "Python 3",
   "language": "python",
   "name": "python3"
  },
  "language_info": {
   "codemirror_mode": {
    "name": "ipython",
    "version": 3
   },
   "file_extension": ".py",
   "mimetype": "text/x-python",
   "name": "python",
   "nbconvert_exporter": "python",
   "pygments_lexer": "ipython3",
   "version": "3.7.3"
  }
 },
 "nbformat": 4,
 "nbformat_minor": 1
}
