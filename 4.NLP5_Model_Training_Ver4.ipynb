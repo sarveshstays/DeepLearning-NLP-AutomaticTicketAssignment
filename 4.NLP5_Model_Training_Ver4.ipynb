{
  "nbformat": 4,
  "nbformat_minor": 0,
  "metadata": {
    "colab": {
      "name": "Capstone_Interim_NLP5_Model_Training_Ver3.ipynb",
      "provenance": [],
      "collapsed_sections": [],
      "machine_shape": "hm"
    },
    "kernelspec": {
      "name": "python3",
      "display_name": "Python 3"
    },
    "accelerator": "GPU"
  },
  "cells": [
    {
      "cell_type": "markdown",
      "metadata": {
        "id": "BJyHrxL7ddNc",
        "colab_type": "text"
      },
      "source": [
        "### Modelling Approach - \n",
        "\n",
        "Part 1.\n",
        "Build a Model 1 which can classify the ticket as L1/L2 or L3 class.\n",
        "\n",
        "Part 2.\n",
        "Train 2 separate models for l1/l2 Class and l3 class, these models will be called on test set depending on the output of first model.\n",
        "\n",
        "For both models in step 1 and 2 dataset would be description text."
      ]
    },
    {
      "cell_type": "markdown",
      "metadata": {
        "id": "B9JsbvWJdI89",
        "colab_type": "text"
      },
      "source": [
        "\n",
        "\n",
        "---\n",
        "\n",
        "\n",
        "\n",
        "---\n",
        "\n",
        "\n",
        "\n",
        "This file will help train the model based on all the EDA done in the file \" ???? \"\n",
        "\n",
        "The intent is to seperate out the modelling part from the EDA.\n",
        "\n",
        "At then end of the execution of this file, we will have mdoel states saved which will be used to predict the new incoming data in seperate python file"
      ]
    },
    {
      "cell_type": "code",
      "metadata": {
        "id": "t50JRvhKJ0Zk",
        "colab_type": "code",
        "colab": {
          "base_uri": "https://localhost:8080/",
          "height": 80
        },
        "outputId": "291e64ff-8a2d-49f9-c553-557c5323d613"
      },
      "source": [
        "# import all necessary libraries\n",
        "\n",
        "import os\n",
        "import pandas as pd\n",
        "import itertools\n",
        "import numpy as np\n",
        "import seaborn as sns\n",
        "import pickle\n",
        "import string\n",
        "import math\n",
        "\n",
        "from sklearn import preprocessing\n",
        "from sklearn.preprocessing import LabelEncoder\n",
        "from sklearn.model_selection import train_test_split\n",
        "from sklearn import metrics\n",
        "from sklearn.metrics import confusion_matrix, classification_report, accuracy_score, roc_auc_score\n",
        "from sklearn.metrics import precision_score, recall_score, roc_curve, auc\n",
        "from sklearn.utils import class_weight\n",
        "\n",
        "from collections import OrderedDict\n",
        "from gensim.models.word2vec import Word2Vec\n",
        "from keras.preprocessing.sequence import pad_sequences\n",
        "from keras.models import Sequential, load_model\n",
        "from keras.layers import Embedding,LSTM,Dense,SpatialDropout1D, Input,Flatten\n",
        "from keras.initializers import Constant\n",
        "from keras.utils import np_utils\n",
        "\n",
        "import warnings\n",
        "warnings.filterwarnings('ignore')"
      ],
      "execution_count": 1,
      "outputs": [
        {
          "output_type": "stream",
          "text": [
            "Using TensorFlow backend.\n"
          ],
          "name": "stderr"
        },
        {
          "output_type": "display_data",
          "data": {
            "text/html": [
              "<p style=\"color: red;\">\n",
              "The default version of TensorFlow in Colab will switch to TensorFlow 2.x on the 27th of March, 2020.<br>\n",
              "We recommend you <a href=\"https://www.tensorflow.org/guide/migrate\" target=\"_blank\">upgrade</a> now\n",
              "or ensure your notebook will continue to use TensorFlow 1.x via the <code>%tensorflow_version 1.x</code> magic:\n",
              "<a href=\"https://colab.research.google.com/notebooks/tensorflow_version.ipynb\" target=\"_blank\">more info</a>.</p>\n"
            ],
            "text/plain": [
              "<IPython.core.display.HTML object>"
            ]
          },
          "metadata": {
            "tags": []
          }
        }
      ]
    },
    {
      "cell_type": "code",
      "metadata": {
        "id": "ltpo_jFsK90X",
        "colab_type": "code",
        "colab": {}
      },
      "source": [
        "#Set your project path \n",
        "project_path =  '/content/drive/My Drive/Colab Notebooks/DataSets'"
      ],
      "execution_count": 0,
      "outputs": []
    },
    {
      "cell_type": "code",
      "metadata": {
        "id": "GflekmCULAvY",
        "colab_type": "code",
        "outputId": "6ba979c6-0827-4fb2-a5aa-374259fa825a",
        "colab": {
          "base_uri": "https://localhost:8080/",
          "height": 34
        }
      },
      "source": [
        "from google.colab import drive\n",
        "drive.mount('/content/drive/')"
      ],
      "execution_count": 3,
      "outputs": [
        {
          "output_type": "stream",
          "text": [
            "Drive already mounted at /content/drive/; to attempt to forcibly remount, call drive.mount(\"/content/drive/\", force_remount=True).\n"
          ],
          "name": "stdout"
        }
      ]
    },
    {
      "cell_type": "code",
      "metadata": {
        "id": "D-MOBJBTLFdf",
        "colab_type": "code",
        "colab": {}
      },
      "source": [
        "# set the google drive directory path to read and save all files there\n",
        "os.chdir(project_path)"
      ],
      "execution_count": 0,
      "outputs": []
    },
    {
      "cell_type": "markdown",
      "metadata": {
        "id": "7Ee4yvLIe2BI",
        "colab_type": "text"
      },
      "source": [
        "Taking groups which have ticket counts greater than 200 in one part and remaining in the other part. This was done in EDA\n",
        "\n",
        "Based on tickets we will name one group as L12 and other as L3"
      ]
    },
    {
      "cell_type": "code",
      "metadata": {
        "id": "DpG98rEkJ7OJ",
        "colab_type": "code",
        "colab": {}
      },
      "source": [
        "#L12 = ['GRP_0', 'GRP_8', 'GRP_90']\n",
        "#L3 = ['GRP_97','GRP_98','GRP_99']\n",
        "L12 = ['GRP_0', 'GRP_8', 'GRP_24', 'GRP_12', 'GRP_9', 'GRP_2', 'GRP_19', 'GRP_3']\n",
        "L3  = ['GRP_10', 'GRP_13', 'GRP_14','GRP_5','GRP_25','GRP_98','GRP_99']\n",
        "#L3  = ['GRP_10', 'GRP_13', 'GRP_14','GRP_5', 'GRP_6','GRP_25','GRP_98','GRP_99']\n",
        "# L3 = [ 'GRP_1', 'GRP_4', 'GRP_5', 'GRP_6', 'GRP_7', 'GRP_10', 'GRP_11',  'GRP_13', 'GRP_14', 'GRP_15', 'GRP_16', 'GRP_17', 'GRP_18', \n",
        "      #  'GRP_20', 'GRP_21', 'GRP_22', 'GRP_23',  'GRP_25', 'GRP_26', 'GRP_27', 'GRP_28', 'GRP_29', 'GRP_30', 'GRP_31',\n",
        "      #  'GRP_33', 'GRP_34', 'GRP_35', 'GRP_36', 'GRP_37', 'GRP_38', 'GRP_39', 'GRP_40', 'GRP_41', 'GRP_42', 'GRP_43', 'GRP_44',\n",
        "      #  'GRP_45', 'GRP_46', 'GRP_47', 'GRP_48', 'GRP_49', 'GRP_50',  'GRP_51', 'GRP_52', 'GRP_53', 'GRP_54', 'GRP_55', 'GRP_56',\n",
        "      #  'GRP_57', 'GRP_58', 'GRP_59', 'GRP_60', 'GRP_61', 'GRP_32',  'GRP_62', 'GRP_63', 'GRP_64', 'GRP_65',\n",
        "      #  'GRP_66', 'GRP_67', 'GRP_68', 'GRP_69', 'GRP_70', 'GRP_71', 'GRP_72', 'GRP_73']"
      ],
      "execution_count": 0,
      "outputs": []
    },
    {
      "cell_type": "markdown",
      "metadata": {
        "id": "VoF5BEF5fCLU",
        "colab_type": "text"
      },
      "source": [
        "Defining the variables"
      ]
    },
    {
      "cell_type": "code",
      "metadata": {
        "id": "L4tHhBgZfE7h",
        "colab_type": "code",
        "colab": {}
      },
      "source": [
        "vocabulary = dict()\n",
        "inverse_vocabulary = ['<unk>']\n",
        "embedding_dim = 300\n",
        "embeddings = 1 * np.random.randn(30000, embedding_dim)\n",
        "   \n",
        "colsToTrainOn =['LemmaString']"
      ],
      "execution_count": 0,
      "outputs": []
    },
    {
      "cell_type": "markdown",
      "metadata": {
        "id": "Uotk6G27hOFh",
        "colab_type": "text"
      },
      "source": [
        "Encode the two groups L12/L3 in 0 and 1"
      ]
    },
    {
      "cell_type": "code",
      "metadata": {
        "id": "GUP2CQteKFCf",
        "colab_type": "code",
        "colab": {}
      },
      "source": [
        "def SetGrp(text):\n",
        "  ''' this will set the L12 to 0\n",
        "  and L3 to 1'''\n",
        "  \n",
        "  if text in L12:\n",
        "      return 0\n",
        "  if text in L3:\n",
        "      return 1"
      ],
      "execution_count": 0,
      "outputs": []
    },
    {
      "cell_type": "code",
      "metadata": {
        "id": "is5_LvA0KKZI",
        "colab_type": "code",
        "colab": {}
      },
      "source": [
        "def readFile():    \n",
        "  ''' This function will read the file that is saved after the EDA completion\n",
        "  Will drop NA values which contitute only 9 rows in total\n",
        "  will apply the normal cleaning methods of removing dupliates, removing some regex list, and punctuations from the text columns\n",
        "  Will convert text to word list\n",
        "  Combine to columns into one\n",
        "  Set Level Groups to 0 or 1 '''\n",
        "\n",
        "  #df = pd.read_excel('EDA_Processed_Cleaned_TicketData.xlsx')\n",
        "  df = pd.read_excel('EDA_Processed_Cleaned_TicketData_OverSample.xlsx')\n",
        "\n",
        "  dfSubset = df[['LemmaString','NewAssignmentGroup']]\n",
        "\n",
        "  dfSubset['Level1Grp'] = 0\n",
        "  dfSubset['Level1Grp'] = dfSubset['NewAssignmentGroup'].apply(lambda x : SetGrp(x))\n",
        " \n",
        "  # df['LemmaString'] = df['LemmaString'].apply(lambda x : text_to_word_list(x))\n",
        "  # df['LemmaStringRetained'] = df['LemmaString']\n",
        "  \n",
        "  return dfSubset"
      ],
      "execution_count": 0,
      "outputs": []
    },
    {
      "cell_type": "code",
      "metadata": {
        "id": "MPfvR6ZcKOuH",
        "colab_type": "code",
        "colab": {}
      },
      "source": [
        "def PrepDataForPrediction(df,vocabulary,inverse_vocabulary):\n",
        "  ''' Will create the vocabulary and inverse_vocabulary list to be used in embedding \n",
        "  and later to be referred when we will call the same in our predict section '''\n",
        "  \n",
        "  for dataset in [df]:\n",
        "    for index, row in dataset.iterrows():\n",
        "\n",
        "      # Iterate through the text of description column of the row\n",
        "      for question in colsToTrainOn:\n",
        "        q2n = []  \n",
        "        for word in row[question]:\n",
        "          if word not in vocabulary:\n",
        "              vocabulary[word] = len(inverse_vocabulary)\n",
        "              q2n.append(len(inverse_vocabulary))\n",
        "              inverse_vocabulary.append(word)\n",
        "          else:\n",
        "              q2n.append(vocabulary[word])\n",
        "            # Replace description as word to description as number representation\n",
        "          dataset.at[index, question]= q2n\n",
        "  return df, vocabulary,inverse_vocabulary"
      ],
      "execution_count": 0,
      "outputs": []
    },
    {
      "cell_type": "code",
      "metadata": {
        "id": "S-x_M-xEKjU3",
        "colab_type": "code",
        "colab": {}
      },
      "source": [
        "def PrepDataForModel_FirstLevelGrouping(df,max_seq_length):\n",
        "  \"\"\"First prepare the X and Y by getting the combined description column in the X and Level 1 grouping in Y\n",
        "  Once this is done then split the data using the train test split and test size randomly given\n",
        "  After that pad the X_train and X_validation sequences\n",
        "  Return X_train, Y_train, X_validation,Y_validation\"\"\"\n",
        "  \n",
        "  X = df[colsToTrainOn[0]]\n",
        "  Y = np_utils.to_categorical(df['Level1Grp'])\n",
        "    \n",
        "  X_train, X_validation, Y_train, Y_validation = train_test_split(X, Y, test_size=math.floor(len(X)*0.2))\n",
        "  X_train = pad_sequences(X_train, maxlen=maxlen,truncating='post',padding='post',value=0)\n",
        "  X_validation = pad_sequences(X_validation, maxlen=maxlen,truncating='post',padding='post',value=0)\n",
        "  return X_train, Y_train, X_validation,Y_validation"
      ],
      "execution_count": 0,
      "outputs": []
    },
    {
      "cell_type": "code",
      "metadata": {
        "id": "HM85is6e9UpH",
        "colab_type": "code",
        "colab": {}
      },
      "source": [
        "def PrepDataForModel_SecondLevelGrouping(df,max_seq_length):\n",
        "  \"\"\"This function will first create the two data frames one with groups defined in L12 and other in L3. \n",
        "  The objective of this is to find the actual Assignment Group the model will predict finally\n",
        "  Will encode the Assignment Groups falling in both the dataframes based on filteration\n",
        "  Will create two train test split sets. One that will have for L12 groups and the other for the L3 groups\n",
        "  Will pad the sequences of all such train and validation data\n",
        "  And finally will return below values for model training\n",
        "  X_train_Zero, Y_train_Zero, X_validation_Zero,Y_validation_Zero,X_train_One,X_validation_One,Y_train_One,Y_validation_One,partDfZero,partDfOne\"\"\"\n",
        "\n",
        "  partDfZero = df.loc[df['Level1Grp'] == 0]\n",
        "  partDfOne = df.loc[df['Level1Grp'] == 1]\n",
        "\n",
        "  le1 = LabelEncoder()\n",
        "  le2 = LabelEncoder()\n",
        "  \n",
        "  # class_weightsZero = class_weight.compute_class_weight('balanced', np.unique(df['AssignmentGroup']), df['AssignmentGroup'])\n",
        "  # class_weightsOne = class_weight.compute_class_weight('balanced', np.unique(df['AssignmentGroup']), df['AssignmentGroup'])\n",
        "\n",
        "  partDfZero['NewAssignmentGroup'] = le1.fit_transform(partDfZero['NewAssignmentGroup'])\n",
        "  partDfOne['NewAssignmentGroup'] = le2.fit_transform(partDfOne['NewAssignmentGroup'])\n",
        "\n",
        "  X_Zero = partDfZero[colsToTrainOn[0]]\n",
        "  Y_Zero = np_utils.to_categorical(partDfZero['NewAssignmentGroup'])\n",
        "\n",
        "  X_One = partDfOne[colsToTrainOn[0]]\n",
        "  Y_One = np_utils.to_categorical(partDfOne['NewAssignmentGroup'])\n",
        "\n",
        "  X_train_Zero, X_validation_Zero, Y_train_Zero, Y_validation_Zero = train_test_split(X_Zero, Y_Zero, test_size=math.floor(len(X_Zero)*0.2))\n",
        "  X_train_One, X_validation_One, Y_train_One, Y_validation_One = train_test_split(X_One, Y_One, test_size=math.floor(len(X_One)*0.2))\n",
        "\n",
        "  X_train_Zero = pad_sequences(X_train_Zero, maxlen=maxlen,truncating='post',padding='post',value=0)\n",
        "  X_validation_Zero = pad_sequences(X_validation_Zero, maxlen=maxlen,truncating='post',padding='post',value=0)\n",
        "\n",
        "  X_train_One = pad_sequences(X_train_One, maxlen=maxlen,truncating='post',padding='post',value=0)\n",
        "  X_validation_One = pad_sequences(X_validation_One, maxlen=maxlen,truncating='post',padding='post',value=0)\n",
        "\n",
        "  # return X_train_Zero, Y_train_Zero, X_validation_Zero,Y_validation_Zero,X_train_One,X_validation_One,Y_train_One,Y_validation_One,partDfZero,partDfOne, class_weightsZero, class_weightsOne\n",
        "  return X_train_Zero, Y_train_Zero, X_validation_Zero,Y_validation_Zero,X_train_One,X_validation_One,Y_train_One,Y_validation_One,partDfZero,partDfOne"
      ],
      "execution_count": 0,
      "outputs": []
    },
    {
      "cell_type": "markdown",
      "metadata": {
        "id": "k8cFDNmsjhYq",
        "colab_type": "text"
      },
      "source": [
        "Create the embedding matrix. Here Word2Vec is used because of its being trained over the Wikipedia and has better coverage of all words and beautifully trained on wiki"
      ]
    },
    {
      "cell_type": "code",
      "metadata": {
        "id": "JOpVl9qhKvfX",
        "colab_type": "code",
        "colab": {}
      },
      "source": [
        "def BuildEmbeddingMatrix(word2vec):\n",
        "  ''' prepare the ebedding vector matrix using the word2vec '''\n",
        "  \n",
        "  count = 0    \n",
        "  for word, index in vocabulary.items():\n",
        "    if word in word2vec.vocab:\n",
        "        count+=1\n",
        "        embeddings[index] = word2vec.word_vec(word)\n",
        "    else:\n",
        "        embeddings[index] = 0"
      ],
      "execution_count": 0,
      "outputs": []
    },
    {
      "cell_type": "code",
      "metadata": {
        "id": "8f3QhNoddXbQ",
        "colab_type": "code",
        "colab": {}
      },
      "source": [
        ""
      ],
      "execution_count": 0,
      "outputs": []
    },
    {
      "cell_type": "markdown",
      "metadata": {
        "id": "qGl0T9YDjviL",
        "colab_type": "text"
      },
      "source": [
        "This method will help to dump the emebddings, the vocabulary and inverse_vocabulary created for further use in predict model in different python file"
      ]
    },
    {
      "cell_type": "code",
      "metadata": {
        "id": "N1mx3qQGPnza",
        "colab_type": "code",
        "colab": {}
      },
      "source": [
        "def PickleCustomObjects(embeddings,vocabulary,inverse_vocabulary):\n",
        "  ''' this function will help dump the embeddings, vocabulary and inverse_vocabulary\n",
        "  which will be referred in predict model python file when we will predict the new incoming data '''\n",
        "\n",
        "  with open('embeddings.pickle', 'wb') as f:\n",
        "      pickle.dump(embeddings, f, pickle.HIGHEST_PROTOCOL)\n",
        "      \n",
        "  with open('vocabulary.pickle', 'wb') as f:\n",
        "      pickle.dump(vocabulary, f, pickle.HIGHEST_PROTOCOL)\n",
        "      \n",
        "  with open('inverse_vocabulary.pickle', 'wb') as f:\n",
        "      pickle.dump(inverse_vocabulary, f, pickle.HIGHEST_PROTOCOL)"
      ],
      "execution_count": 0,
      "outputs": []
    },
    {
      "cell_type": "code",
      "metadata": {
        "id": "PKOo4nPR89Ii",
        "colab_type": "code",
        "colab": {}
      },
      "source": [
        "def print_scores(y_test,y_pred):\n",
        "    print(\"Accuracy score: \\n\", accuracy_score(y_test,y_pred))\n",
        "    print('Test-set confusion matrix:\\n', confusion_matrix(y_test,y_pred))\n",
        "    cm = confusion_matrix(y_test,y_pred)\n",
        "    sns.heatmap(cm, annot=True, fmt='g')\n",
        "    print(\"Classification report:\" \"\\n\", classification_report(y_test,y_pred))"
      ],
      "execution_count": 0,
      "outputs": []
    },
    {
      "cell_type": "code",
      "metadata": {
        "id": "DpjdxjeT89i7",
        "colab_type": "code",
        "colab": {}
      },
      "source": [
        "def multiclass_roc_auc_score(y_test, y_pred, average=\"macro\"):\n",
        "  lb = preprocessing.LabelBinarizer()\n",
        "  lb.fit(y_test)\n",
        "  y_test = lb.transform(y_test)\n",
        "  y_pred = lb.transform(y_pred)\n",
        "  return roc_auc_score(y_test, y_pred, average=average)"
      ],
      "execution_count": 0,
      "outputs": []
    },
    {
      "cell_type": "code",
      "metadata": {
        "id": "NPNhP47B31ua",
        "colab_type": "code",
        "outputId": "1d0ba196-98e6-4626-986f-2eeebdda269b",
        "colab": {
          "base_uri": "https://localhost:8080/",
          "height": 68
        }
      },
      "source": [
        "#read files with some processing\n",
        "df = readFile()\n",
        "\n",
        "print(df['Level1Grp'].value_counts())"
      ],
      "execution_count": 14,
      "outputs": [
        {
          "output_type": "stream",
          "text": [
            "0    11425\n",
            "1     5546\n",
            "Name: Level1Grp, dtype: int64\n"
          ],
          "name": "stdout"
        }
      ]
    },
    {
      "cell_type": "code",
      "metadata": {
        "id": "IxLk_Uh_4Drb",
        "colab_type": "code",
        "outputId": "e064221a-e666-49e3-f5f4-ccf211ea2507",
        "colab": {
          "base_uri": "https://localhost:8080/",
          "height": 204
        }
      },
      "source": [
        "#display top 5 records \n",
        "df.head(5)"
      ],
      "execution_count": 15,
      "outputs": [
        {
          "output_type": "execute_result",
          "data": {
            "text/html": [
              "<div>\n",
              "<style scoped>\n",
              "    .dataframe tbody tr th:only-of-type {\n",
              "        vertical-align: middle;\n",
              "    }\n",
              "\n",
              "    .dataframe tbody tr th {\n",
              "        vertical-align: top;\n",
              "    }\n",
              "\n",
              "    .dataframe thead th {\n",
              "        text-align: right;\n",
              "    }\n",
              "</style>\n",
              "<table border=\"1\" class=\"dataframe\">\n",
              "  <thead>\n",
              "    <tr style=\"text-align: right;\">\n",
              "      <th></th>\n",
              "      <th>LemmaString</th>\n",
              "      <th>NewAssignmentGroup</th>\n",
              "      <th>Level1Grp</th>\n",
              "    </tr>\n",
              "  </thead>\n",
              "  <tbody>\n",
              "    <tr>\n",
              "      <th>0</th>\n",
              "      <td>login issue verify user detail employee manage...</td>\n",
              "      <td>GRP_0</td>\n",
              "      <td>0</td>\n",
              "    </tr>\n",
              "    <tr>\n",
              "      <th>1</th>\n",
              "      <td>outlook team meeting skype not appear calendar...</td>\n",
              "      <td>GRP_0</td>\n",
              "      <td>0</td>\n",
              "    </tr>\n",
              "    <tr>\n",
              "      <th>2</th>\n",
              "      <td>ca not log vpn can not</td>\n",
              "      <td>GRP_0</td>\n",
              "      <td>0</td>\n",
              "    </tr>\n",
              "    <tr>\n",
              "      <th>3</th>\n",
              "      <td>unable access hr tool</td>\n",
              "      <td>GRP_0</td>\n",
              "      <td>0</td>\n",
              "    </tr>\n",
              "    <tr>\n",
              "      <th>4</th>\n",
              "      <td>unable log engineer tool skype</td>\n",
              "      <td>GRP_0</td>\n",
              "      <td>0</td>\n",
              "    </tr>\n",
              "  </tbody>\n",
              "</table>\n",
              "</div>"
            ],
            "text/plain": [
              "                                         LemmaString  ... Level1Grp\n",
              "0  login issue verify user detail employee manage...  ...         0\n",
              "1  outlook team meeting skype not appear calendar...  ...         0\n",
              "2                             ca not log vpn can not  ...         0\n",
              "3                              unable access hr tool  ...         0\n",
              "4                     unable log engineer tool skype  ...         0\n",
              "\n",
              "[5 rows x 3 columns]"
            ]
          },
          "metadata": {
            "tags": []
          },
          "execution_count": 15
        }
      ]
    },
    {
      "cell_type": "code",
      "metadata": {
        "id": "UBOpqEkFY88G",
        "colab_type": "code",
        "colab": {}
      },
      "source": [
        ""
      ],
      "execution_count": 0,
      "outputs": []
    },
    {
      "cell_type": "markdown",
      "metadata": {
        "id": "F9KGRSWtY9nz",
        "colab_type": "text"
      },
      "source": [
        "### LSTM Start Here ->"
      ]
    },
    {
      "cell_type": "code",
      "metadata": {
        "id": "Dighb5VDK1Q_",
        "colab_type": "code",
        "colab": {}
      },
      "source": [
        "maxlen = min(df['LemmaString'].map(lambda x:len(x)).max(), 150)\n",
        "df, vocabulary,inverse_vocabulary = PrepDataForPrediction(df,vocabulary,inverse_vocabulary)"
      ],
      "execution_count": 0,
      "outputs": []
    },
    {
      "cell_type": "code",
      "metadata": {
        "id": "jfWov9Xlrm1b",
        "colab_type": "code",
        "outputId": "984daac1-7d89-4fb2-c75b-33b61a3a5047",
        "colab": {
          "base_uri": "https://localhost:8080/",
          "height": 359
        }
      },
      "source": [
        "df.head(10)\n",
        "#vocabulary"
      ],
      "execution_count": 17,
      "outputs": [
        {
          "output_type": "execute_result",
          "data": {
            "text/html": [
              "<div>\n",
              "<style scoped>\n",
              "    .dataframe tbody tr th:only-of-type {\n",
              "        vertical-align: middle;\n",
              "    }\n",
              "\n",
              "    .dataframe tbody tr th {\n",
              "        vertical-align: top;\n",
              "    }\n",
              "\n",
              "    .dataframe thead th {\n",
              "        text-align: right;\n",
              "    }\n",
              "</style>\n",
              "<table border=\"1\" class=\"dataframe\">\n",
              "  <thead>\n",
              "    <tr style=\"text-align: right;\">\n",
              "      <th></th>\n",
              "      <th>LemmaString</th>\n",
              "      <th>NewAssignmentGroup</th>\n",
              "      <th>Level1Grp</th>\n",
              "    </tr>\n",
              "  </thead>\n",
              "  <tbody>\n",
              "    <tr>\n",
              "      <th>0</th>\n",
              "      <td>[1, 2, 3, 4, 5, 6, 4, 7, 7, 8, 9, 6, 10, 9, 11...</td>\n",
              "      <td>GRP_0</td>\n",
              "      <td>0</td>\n",
              "    </tr>\n",
              "    <tr>\n",
              "      <th>1</th>\n",
              "      <td>[2, 8, 15, 1, 2, 2, 21, 6, 15, 9, 16, 17, 6, 1...</td>\n",
              "      <td>GRP_0</td>\n",
              "      <td>0</td>\n",
              "    </tr>\n",
              "    <tr>\n",
              "      <th>2</th>\n",
              "      <td>[19, 16, 6, 5, 2, 15, 6, 1, 2, 3, 6, 10, 18, 5...</td>\n",
              "      <td>GRP_0</td>\n",
              "      <td>0</td>\n",
              "    </tr>\n",
              "    <tr>\n",
              "      <th>3</th>\n",
              "      <td>[8, 5, 16, 23, 1, 9, 6, 16, 19, 19, 9, 7, 7, 6...</td>\n",
              "      <td>GRP_0</td>\n",
              "      <td>0</td>\n",
              "    </tr>\n",
              "    <tr>\n",
              "      <th>4</th>\n",
              "      <td>[8, 5, 16, 23, 1, 9, 6, 1, 2, 3, 6, 9, 5, 3, 4...</td>\n",
              "      <td>GRP_0</td>\n",
              "      <td>0</td>\n",
              "    </tr>\n",
              "    <tr>\n",
              "      <th>5</th>\n",
              "      <td>[9, 10, 9, 5, 15, 6, 19, 11, 4, 15, 4, 19, 16,...</td>\n",
              "      <td>GRP_99</td>\n",
              "      <td>1</td>\n",
              "    </tr>\n",
              "    <tr>\n",
              "      <th>6</th>\n",
              "      <td>[5, 2, 6, 9, 17, 18, 1, 2, 13, 17, 9, 5, 15, 6...</td>\n",
              "      <td>GRP_0</td>\n",
              "      <td>0</td>\n",
              "    </tr>\n",
              "    <tr>\n",
              "      <th>7</th>\n",
              "      <td>[8, 5, 16, 23, 1, 9, 6, 14, 4, 7, 16, 23, 1, 9...</td>\n",
              "      <td>GRP_0</td>\n",
              "      <td>0</td>\n",
              "    </tr>\n",
              "    <tr>\n",
              "      <th>8</th>\n",
              "      <td>[8, 18, 14, 16, 15, 9, 6, 4, 5, 18, 1, 16, 5, 15]</td>\n",
              "      <td>GRP_0</td>\n",
              "      <td>0</td>\n",
              "    </tr>\n",
              "    <tr>\n",
              "      <th>9</th>\n",
              "      <td>[9, 5, 3, 4, 5, 9, 9, 11, 6, 15, 2, 2, 1, 6, 5...</td>\n",
              "      <td>GRP_0</td>\n",
              "      <td>0</td>\n",
              "    </tr>\n",
              "  </tbody>\n",
              "</table>\n",
              "</div>"
            ],
            "text/plain": [
              "                                         LemmaString  ... Level1Grp\n",
              "0  [1, 2, 3, 4, 5, 6, 4, 7, 7, 8, 9, 6, 10, 9, 11...  ...         0\n",
              "1  [2, 8, 15, 1, 2, 2, 21, 6, 15, 9, 16, 17, 6, 1...  ...         0\n",
              "2  [19, 16, 6, 5, 2, 15, 6, 1, 2, 3, 6, 10, 18, 5...  ...         0\n",
              "3  [8, 5, 16, 23, 1, 9, 6, 16, 19, 19, 9, 7, 7, 6...  ...         0\n",
              "4  [8, 5, 16, 23, 1, 9, 6, 1, 2, 3, 6, 9, 5, 3, 4...  ...         0\n",
              "5  [9, 10, 9, 5, 15, 6, 19, 11, 4, 15, 4, 19, 16,...  ...         1\n",
              "6  [5, 2, 6, 9, 17, 18, 1, 2, 13, 17, 9, 5, 15, 6...  ...         0\n",
              "7  [8, 5, 16, 23, 1, 9, 6, 14, 4, 7, 16, 23, 1, 9...  ...         0\n",
              "8  [8, 18, 14, 16, 15, 9, 6, 4, 5, 18, 1, 16, 5, 15]  ...         0\n",
              "9  [9, 5, 3, 4, 5, 9, 9, 11, 6, 15, 2, 2, 1, 6, 5...  ...         0\n",
              "\n",
              "[10 rows x 3 columns]"
            ]
          },
          "metadata": {
            "tags": []
          },
          "execution_count": 17
        }
      ]
    },
    {
      "cell_type": "code",
      "metadata": {
        "id": "7IeCG9gFK4EH",
        "colab_type": "code",
        "colab": {}
      },
      "source": [
        "with open('word2vec.pickle', 'rb') as f:\n",
        "    word2vec = pickle.load(f)"
      ],
      "execution_count": 0,
      "outputs": []
    },
    {
      "cell_type": "code",
      "metadata": {
        "id": "jP8YDYKynkP9",
        "colab_type": "code",
        "colab": {}
      },
      "source": [
        "BuildEmbeddingMatrix(word2vec)"
      ],
      "execution_count": 0,
      "outputs": []
    },
    {
      "cell_type": "code",
      "metadata": {
        "id": "zyAyPBAhP3v7",
        "colab_type": "code",
        "colab": {}
      },
      "source": [
        "X_train, Y_train, X_validation,Y_validation = PrepDataForModel_FirstLevelGrouping(df, maxlen)"
      ],
      "execution_count": 0,
      "outputs": []
    },
    {
      "cell_type": "code",
      "metadata": {
        "id": "byvidQBWZvpo",
        "colab_type": "code",
        "colab": {
          "base_uri": "https://localhost:8080/",
          "height": 51
        },
        "outputId": "a52e0002-f4e4-439d-afd7-b0153026fcf3"
      },
      "source": [
        "print(\"X_train:      \", X_train.shape,      \" Y_train:      \", Y_train.shape)\n",
        "print(\"X_validation: \", X_validation.shape, \" Y_validation: \", Y_validation.shape)"
      ],
      "execution_count": 21,
      "outputs": [
        {
          "output_type": "stream",
          "text": [
            "X_train:       (13577, 150)  Y_train:       (13577, 2)\n",
            "X_validation:  (3394, 150)  Y_validation:  (3394, 2)\n"
          ],
          "name": "stdout"
        }
      ]
    },
    {
      "cell_type": "code",
      "metadata": {
        "id": "URskFrfvvZSJ",
        "colab_type": "code",
        "colab": {}
      },
      "source": [
        "from keras.layers import Dropout\n",
        "from keras.callbacks import EarlyStopping\n",
        "\n",
        "from keras.preprocessing.text import Tokenizer\n",
        "from keras.preprocessing.sequence import pad_sequences\n",
        "from keras.layers import Dense, Input, LSTM, Embedding, Dropout, Activation\n",
        "from keras.layers import Bidirectional, GlobalMaxPool1D\n",
        "from keras.models import Model\n",
        "from keras import initializers, regularizers, constraints, optimizers, layers"
      ],
      "execution_count": 0,
      "outputs": []
    },
    {
      "cell_type": "code",
      "metadata": {
        "id": "Cf73vAqnLWxt",
        "colab_type": "code",
        "outputId": "f9af6c40-76c0-43c9-f54b-ab3b00c5f19d",
        "colab": {
          "base_uri": "https://localhost:8080/",
          "height": 819
        }
      },
      "source": [
        "model_FirstLevelGrouping=Sequential()\n",
        "\n",
        "embedding=Embedding(len(embeddings),300,weights=[embeddings], input_length=maxlen,trainable=False)\n",
        "\n",
        "model_FirstLevelGrouping.add(embedding)\n",
        "\n",
        "#model_FirstLevelGrouping.add(LSTM(maxlen, recurrent_dropout=0.2))\n",
        "\n",
        "model_FirstLevelGrouping.add(Bidirectional(LSTM(maxlen, return_sequences=True, recurrent_dropout=0.25)))\n",
        "model_FirstLevelGrouping.add(Bidirectional(LSTM(maxlen, return_sequences=False)))\n",
        "\n",
        "#model_FirstLevelGrouping.add(Dropout(0.2))\n",
        "#model_FirstLevelGrouping.add(Dense(50, activation='relu'))\n",
        "#model_FirstLevelGrouping.add(Dropout(0.2))\n",
        "#model_FirstLevelGrouping.add(Dense(20, activation='relu'))\n",
        "#model_FirstLevelGrouping.add(Dropout(0.2))\n",
        "\n",
        " #we have two groups to target either L12(0) or L3(1)\n",
        "model_FirstLevelGrouping.add(Dense(2, activation='sigmoid'))\n",
        "model_FirstLevelGrouping.compile(loss='binary_crossentropy',optimizer='adam',metrics=['accuracy'])\n",
        "\n",
        "model_FirstLevelGrouping.summary()"
      ],
      "execution_count": 23,
      "outputs": [
        {
          "output_type": "stream",
          "text": [
            "WARNING:tensorflow:From /usr/local/lib/python3.6/dist-packages/keras/backend/tensorflow_backend.py:66: The name tf.get_default_graph is deprecated. Please use tf.compat.v1.get_default_graph instead.\n",
            "\n",
            "WARNING:tensorflow:From /usr/local/lib/python3.6/dist-packages/keras/backend/tensorflow_backend.py:541: The name tf.placeholder is deprecated. Please use tf.compat.v1.placeholder instead.\n",
            "\n",
            "WARNING:tensorflow:From /usr/local/lib/python3.6/dist-packages/keras/backend/tensorflow_backend.py:4432: The name tf.random_uniform is deprecated. Please use tf.random.uniform instead.\n",
            "\n",
            "WARNING:tensorflow:From /usr/local/lib/python3.6/dist-packages/keras/backend/tensorflow_backend.py:190: The name tf.get_default_session is deprecated. Please use tf.compat.v1.get_default_session instead.\n",
            "\n",
            "WARNING:tensorflow:From /usr/local/lib/python3.6/dist-packages/keras/backend/tensorflow_backend.py:197: The name tf.ConfigProto is deprecated. Please use tf.compat.v1.ConfigProto instead.\n",
            "\n",
            "WARNING:tensorflow:From /usr/local/lib/python3.6/dist-packages/keras/backend/tensorflow_backend.py:203: The name tf.Session is deprecated. Please use tf.compat.v1.Session instead.\n",
            "\n",
            "WARNING:tensorflow:From /usr/local/lib/python3.6/dist-packages/keras/backend/tensorflow_backend.py:207: The name tf.global_variables is deprecated. Please use tf.compat.v1.global_variables instead.\n",
            "\n",
            "WARNING:tensorflow:From /usr/local/lib/python3.6/dist-packages/keras/backend/tensorflow_backend.py:216: The name tf.is_variable_initialized is deprecated. Please use tf.compat.v1.is_variable_initialized instead.\n",
            "\n",
            "WARNING:tensorflow:From /usr/local/lib/python3.6/dist-packages/keras/backend/tensorflow_backend.py:223: The name tf.variables_initializer is deprecated. Please use tf.compat.v1.variables_initializer instead.\n",
            "\n",
            "WARNING:tensorflow:From /usr/local/lib/python3.6/dist-packages/keras/backend/tensorflow_backend.py:148: The name tf.placeholder_with_default is deprecated. Please use tf.compat.v1.placeholder_with_default instead.\n",
            "\n",
            "WARNING:tensorflow:From /usr/local/lib/python3.6/dist-packages/keras/backend/tensorflow_backend.py:3733: calling dropout (from tensorflow.python.ops.nn_ops) with keep_prob is deprecated and will be removed in a future version.\n",
            "Instructions for updating:\n",
            "Please use `rate` instead of `keep_prob`. Rate should be set to `rate = 1 - keep_prob`.\n",
            "WARNING:tensorflow:From /usr/local/lib/python3.6/dist-packages/keras/optimizers.py:793: The name tf.train.Optimizer is deprecated. Please use tf.compat.v1.train.Optimizer instead.\n",
            "\n",
            "WARNING:tensorflow:From /usr/local/lib/python3.6/dist-packages/keras/backend/tensorflow_backend.py:3657: The name tf.log is deprecated. Please use tf.math.log instead.\n",
            "\n",
            "WARNING:tensorflow:From /tensorflow-1.15.0/python3.6/tensorflow_core/python/ops/nn_impl.py:183: where (from tensorflow.python.ops.array_ops) is deprecated and will be removed in a future version.\n",
            "Instructions for updating:\n",
            "Use tf.where in 2.0, which has the same broadcast rule as np.where\n",
            "Model: \"sequential_1\"\n",
            "_________________________________________________________________\n",
            "Layer (type)                 Output Shape              Param #   \n",
            "=================================================================\n",
            "embedding_1 (Embedding)      (None, 150, 300)          9000000   \n",
            "_________________________________________________________________\n",
            "bidirectional_1 (Bidirection (None, 150, 300)          541200    \n",
            "_________________________________________________________________\n",
            "bidirectional_2 (Bidirection (None, 300)               541200    \n",
            "_________________________________________________________________\n",
            "dense_1 (Dense)              (None, 2)                 602       \n",
            "=================================================================\n",
            "Total params: 10,083,002\n",
            "Trainable params: 1,083,002\n",
            "Non-trainable params: 9,000,000\n",
            "_________________________________________________________________\n"
          ],
          "name": "stdout"
        }
      ]
    },
    {
      "cell_type": "code",
      "metadata": {
        "id": "SK3N5rXOG5nv",
        "colab_type": "code",
        "outputId": "4d20c9a9-1bc6-4dc3-8ef6-80a80fcc8fbd",
        "colab": {
          "base_uri": "https://localhost:8080/",
          "height": 34
        }
      },
      "source": [
        "early = EarlyStopping(monitor=\"val_loss\", mode=\"min\", patience=5)\n",
        "Y_train.shape"
      ],
      "execution_count": 24,
      "outputs": [
        {
          "output_type": "execute_result",
          "data": {
            "text/plain": [
              "(13577, 2)"
            ]
          },
          "metadata": {
            "tags": []
          },
          "execution_count": 24
        }
      ]
    },
    {
      "cell_type": "code",
      "metadata": {
        "id": "3Zji1XY9Qc8I",
        "colab_type": "code",
        "outputId": "4d4cb1a8-c199-4ec2-e1c5-dc254777a13e",
        "colab": {
          "base_uri": "https://localhost:8080/",
          "height": 1000
        }
      },
      "source": [
        "history=model_FirstLevelGrouping.fit(X_train,Y_train,batch_size=1000,epochs=50, class_weight = 'auto',\n",
        "                                     validation_data=(X_validation,Y_validation),\n",
        "                                     callbacks=[early],\n",
        "                                     verbose=1)\n",
        "\n",
        "scores = model_FirstLevelGrouping.evaluate(X_validation, Y_validation, verbose=1)\n",
        "y = model_FirstLevelGrouping.predict(X_train)"
      ],
      "execution_count": 25,
      "outputs": [
        {
          "output_type": "stream",
          "text": [
            "WARNING:tensorflow:From /usr/local/lib/python3.6/dist-packages/keras/backend/tensorflow_backend.py:1033: The name tf.assign_add is deprecated. Please use tf.compat.v1.assign_add instead.\n",
            "\n",
            "WARNING:tensorflow:From /usr/local/lib/python3.6/dist-packages/keras/backend/tensorflow_backend.py:1020: The name tf.assign is deprecated. Please use tf.compat.v1.assign instead.\n",
            "\n",
            "Train on 13577 samples, validate on 3394 samples\n",
            "Epoch 1/50\n",
            "13577/13577 [==============================] - 21s 2ms/step - loss: 0.6181 - acc: 0.6748 - val_loss: 0.5883 - val_acc: 0.6811\n",
            "Epoch 2/50\n",
            "13577/13577 [==============================] - 17s 1ms/step - loss: 0.5684 - acc: 0.6947 - val_loss: 0.5678 - val_acc: 0.6890\n",
            "Epoch 3/50\n",
            "13577/13577 [==============================] - 17s 1ms/step - loss: 0.5493 - acc: 0.7111 - val_loss: 0.5443 - val_acc: 0.7298\n",
            "Epoch 4/50\n",
            "13577/13577 [==============================] - 17s 1ms/step - loss: 0.5300 - acc: 0.7261 - val_loss: 0.5182 - val_acc: 0.7416\n",
            "Epoch 5/50\n",
            "13577/13577 [==============================] - 17s 1ms/step - loss: 0.5084 - acc: 0.7398 - val_loss: 0.4997 - val_acc: 0.7550\n",
            "Epoch 6/50\n",
            "13577/13577 [==============================] - 17s 1ms/step - loss: 0.4904 - acc: 0.7552 - val_loss: 0.4823 - val_acc: 0.7537\n",
            "Epoch 7/50\n",
            "13577/13577 [==============================] - 17s 1ms/step - loss: 0.4739 - acc: 0.7674 - val_loss: 0.4703 - val_acc: 0.7703\n",
            "Epoch 8/50\n",
            "13577/13577 [==============================] - 17s 1ms/step - loss: 0.4625 - acc: 0.7781 - val_loss: 0.4473 - val_acc: 0.7824\n",
            "Epoch 9/50\n",
            "13577/13577 [==============================] - 17s 1ms/step - loss: 0.4403 - acc: 0.7908 - val_loss: 0.4291 - val_acc: 0.7980\n",
            "Epoch 10/50\n",
            "13577/13577 [==============================] - 17s 1ms/step - loss: 0.4150 - acc: 0.8066 - val_loss: 0.3953 - val_acc: 0.8266\n",
            "Epoch 11/50\n",
            "13577/13577 [==============================] - 17s 1ms/step - loss: 0.3874 - acc: 0.8245 - val_loss: 0.3707 - val_acc: 0.8413\n",
            "Epoch 12/50\n",
            "13577/13577 [==============================] - 17s 1ms/step - loss: 0.3628 - acc: 0.8380 - val_loss: 0.3461 - val_acc: 0.8561\n",
            "Epoch 13/50\n",
            "13577/13577 [==============================] - 17s 1ms/step - loss: 0.3294 - acc: 0.8612 - val_loss: 0.3208 - val_acc: 0.8726\n",
            "Epoch 14/50\n",
            "13577/13577 [==============================] - 17s 1ms/step - loss: 0.3039 - acc: 0.8773 - val_loss: 0.3032 - val_acc: 0.8883\n",
            "Epoch 15/50\n",
            "13577/13577 [==============================] - 17s 1ms/step - loss: 0.2684 - acc: 0.8964 - val_loss: 0.2933 - val_acc: 0.8953\n",
            "Epoch 16/50\n",
            "13577/13577 [==============================] - 17s 1ms/step - loss: 0.2437 - acc: 0.9103 - val_loss: 0.2643 - val_acc: 0.9059\n",
            "Epoch 17/50\n",
            "13577/13577 [==============================] - 16s 1ms/step - loss: 0.2192 - acc: 0.9205 - val_loss: 0.2507 - val_acc: 0.9128\n",
            "Epoch 18/50\n",
            "13577/13577 [==============================] - 16s 1ms/step - loss: 0.2005 - acc: 0.9304 - val_loss: 0.2527 - val_acc: 0.9132\n",
            "Epoch 19/50\n",
            "13577/13577 [==============================] - 16s 1ms/step - loss: 0.1825 - acc: 0.9354 - val_loss: 0.2448 - val_acc: 0.9199\n",
            "Epoch 20/50\n",
            "13577/13577 [==============================] - 17s 1ms/step - loss: 0.1654 - acc: 0.9419 - val_loss: 0.2516 - val_acc: 0.9203\n",
            "Epoch 21/50\n",
            "13577/13577 [==============================] - 16s 1ms/step - loss: 0.1552 - acc: 0.9456 - val_loss: 0.2335 - val_acc: 0.9241\n",
            "Epoch 22/50\n",
            "13577/13577 [==============================] - 16s 1ms/step - loss: 0.1374 - acc: 0.9514 - val_loss: 0.2377 - val_acc: 0.9302\n",
            "Epoch 23/50\n",
            "13577/13577 [==============================] - 16s 1ms/step - loss: 0.1240 - acc: 0.9575 - val_loss: 0.2421 - val_acc: 0.9274\n",
            "Epoch 24/50\n",
            "13577/13577 [==============================] - 17s 1ms/step - loss: 0.1122 - acc: 0.9624 - val_loss: 0.2507 - val_acc: 0.9238\n",
            "Epoch 25/50\n",
            "13577/13577 [==============================] - 17s 1ms/step - loss: 0.1056 - acc: 0.9626 - val_loss: 0.2489 - val_acc: 0.9308\n",
            "Epoch 26/50\n",
            "13577/13577 [==============================] - 17s 1ms/step - loss: 0.0928 - acc: 0.9679 - val_loss: 0.2529 - val_acc: 0.9321\n",
            "3394/3394 [==============================] - 44s 13ms/step\n"
          ],
          "name": "stdout"
        }
      ]
    },
    {
      "cell_type": "code",
      "metadata": {
        "id": "lWTWItmCQiZg",
        "colab_type": "code",
        "colab": {}
      },
      "source": [
        "predictedClass = np.argmax(y,axis=1).tolist() \n",
        "actualClass = np.argmax(Y_train,axis=1).tolist()\n",
        "   \n",
        "tempDf = pd.DataFrame()\n",
        "tempDf['ActualValue'] = pd.Series(actualClass)\n",
        "tempDf['PredictedClass'] = pd.Series(predictedClass)\n",
        "\n",
        "model_FirstLevelGrouping.save(\"model_FirstLevelGrouping.h5\")"
      ],
      "execution_count": 0,
      "outputs": []
    },
    {
      "cell_type": "code",
      "metadata": {
        "id": "Mo4yU8NxyYAI",
        "colab_type": "code",
        "colab": {
          "base_uri": "https://localhost:8080/",
          "height": 537
        },
        "outputId": "0b04aecf-6e0a-45b9-d0f2-a552587d4a51"
      },
      "source": [
        "print_scores(tempDf['ActualValue'], tempDf['PredictedClass'])\n",
        "print(\"ROC_AUC_Score: \", multiclass_roc_auc_score(tempDf['ActualValue'],tempDf['PredictedClass']))"
      ],
      "execution_count": 32,
      "outputs": [
        {
          "output_type": "stream",
          "text": [
            "Accuracy score: \n",
            " 0.977756499963173\n",
            "Test-set confusion matrix:\n",
            " [[9111   46]\n",
            " [ 256 4164]]\n",
            "Classification report:\n",
            "               precision    recall  f1-score   support\n",
            "\n",
            "           0       0.97      0.99      0.98      9157\n",
            "           1       0.99      0.94      0.97      4420\n",
            "\n",
            "    accuracy                           0.98     13577\n",
            "   macro avg       0.98      0.97      0.97     13577\n",
            "weighted avg       0.98      0.98      0.98     13577\n",
            "\n",
            "ROC_AUC_Score:  0.9685289843291758\n"
          ],
          "name": "stdout"
        },
        {
          "output_type": "display_data",
          "data": {
            "image/png": "[encoded data removed]",
            "text/plain": [
              "<Figure size 432x288 with 2 Axes>"
            ]
          },
          "metadata": {
            "tags": []
          }
        }
      ]
    },
    {
      "cell_type": "code",
      "metadata": {
        "id": "wGfn9tvKRK3x",
        "colab_type": "code",
        "outputId": "c434fc57-ad63-43ed-da94-7a3ad370eb19",
        "colab": {
          "base_uri": "https://localhost:8080/",
          "height": 34
        }
      },
      "source": [
        "print(len(L12))"
      ],
      "execution_count": 33,
      "outputs": [
        {
          "output_type": "stream",
          "text": [
            "8\n"
          ],
          "name": "stdout"
        }
      ]
    },
    {
      "cell_type": "code",
      "metadata": {
        "id": "K7U_LLHwXlmd",
        "colab_type": "code",
        "colab": {}
      },
      "source": [
        "# get the train test data for the actual assignment groups\n",
        "\n",
        "X_train_Zero, Y_train_Zero, X_validation_Zero,Y_validation_Zero,X_train_One,X_validation_One,Y_train_One,Y_validation_One,partDfZero,partDfOne = PrepDataForModel_SecondLevelGrouping(df, maxlen)\n"
      ],
      "execution_count": 0,
      "outputs": []
    },
    {
      "cell_type": "code",
      "metadata": {
        "id": "tqXmsCkbLs4w",
        "colab_type": "code",
        "colab": {}
      },
      "source": [
        "# SECOND MODEL BEGINS HERE FOR GROUP 1 - All assignment groups that falls under L12 defined above\n",
        "\n",
        "model_L12_AssignmentGroups = Sequential()\n",
        "embedding=Embedding(len(embeddings),300,weights=[embeddings], input_length=maxlen,trainable=False)\n",
        "\n",
        "model_L12_AssignmentGroups.add(embedding)\n",
        "model_L12_AssignmentGroups.add(LSTM(maxlen))\n",
        "model_L12_AssignmentGroups.add(Dense(100, activation='relu'))\n",
        "model_L12_AssignmentGroups.add(Dropout(0.25) )\n",
        "model_L12_AssignmentGroups.add(Dense(80, activation='relu'))\n",
        "model_L12_AssignmentGroups.add(Dropout(0.25) )\n",
        "model_L12_AssignmentGroups.add(Dense(40, activation='relu'))\n",
        "model_L12_AssignmentGroups.add(Dropout(0.25) )\n",
        "model_L12_AssignmentGroups.add(Dense(20, activation='relu'))\n",
        "model_L12_AssignmentGroups.add(Dropout(0.25) )\n",
        "model_L12_AssignmentGroups.add(Dense(10, activation='relu'))\n",
        "model_L12_AssignmentGroups.add(Dropout(0.25) )\n",
        "\n",
        "model_L12_AssignmentGroups.add(Dense(len(L12), activation='softmax'))\n",
        "#model_L12_AssignmentGroups.compile(loss='binary_crossentropy',optimizer='adam',metrics=['accuracy'])\n",
        "model_L12_AssignmentGroups.compile(loss='categorical_crossentropy',optimizer='adam',metrics=['accuracy'])"
      ],
      "execution_count": 0,
      "outputs": []
    },
    {
      "cell_type": "code",
      "metadata": {
        "id": "m4maFEwBS8As",
        "colab_type": "code",
        "outputId": "645c2643-113b-48b0-e3e6-bd171f762d18",
        "colab": {
          "base_uri": "https://localhost:8080/",
          "height": 1000
        }
      },
      "source": [
        "history=model_L12_AssignmentGroups.fit(X_train_Zero,Y_train_Zero,batch_size=50,epochs=80, class_weight = 'auto',\n",
        "                                                   validation_data=(X_validation_Zero,Y_validation_Zero),\n",
        "                                                   callbacks=[early], \n",
        "                                                   verbose=1)\n",
        "\n",
        "scores = model_L12_AssignmentGroups.evaluate(X_validation_Zero, Y_validation_Zero, verbose=1)\n",
        "model_L12_AssignmentGroups.save(\"model_L12_AssignmentGroups.h5\")"
      ],
      "execution_count": 36,
      "outputs": [
        {
          "output_type": "stream",
          "text": [
            "Train on 9140 samples, validate on 2285 samples\n",
            "Epoch 1/80\n",
            "9140/9140 [==============================] - 58s 6ms/step - loss: 2.0184 - acc: 0.2678 - val_loss: 1.9931 - val_acc: 0.2972\n",
            "Epoch 2/80\n",
            "9140/9140 [==============================] - 52s 6ms/step - loss: 1.9852 - acc: 0.2975 - val_loss: 1.9669 - val_acc: 0.2985\n",
            "Epoch 3/80\n",
            "9140/9140 [==============================] - 52s 6ms/step - loss: 1.9682 - acc: 0.3010 - val_loss: 1.9589 - val_acc: 0.2967\n",
            "Epoch 4/80\n",
            "9140/9140 [==============================] - 51s 6ms/step - loss: 1.9563 - acc: 0.3042 - val_loss: 1.9491 - val_acc: 0.2980\n",
            "Epoch 5/80\n",
            "9140/9140 [==============================] - 52s 6ms/step - loss: 1.9000 - acc: 0.3156 - val_loss: 1.7699 - val_acc: 0.3479\n",
            "Epoch 6/80\n",
            "9140/9140 [==============================] - 52s 6ms/step - loss: 1.7916 - acc: 0.3470 - val_loss: 1.7128 - val_acc: 0.3536\n",
            "Epoch 7/80\n",
            "9140/9140 [==============================] - 52s 6ms/step - loss: 1.7251 - acc: 0.3626 - val_loss: 1.6864 - val_acc: 0.3567\n",
            "Epoch 8/80\n",
            "9140/9140 [==============================] - 52s 6ms/step - loss: 1.6848 - acc: 0.3691 - val_loss: 1.6513 - val_acc: 0.3694\n",
            "Epoch 9/80\n",
            "9140/9140 [==============================] - 52s 6ms/step - loss: 1.6671 - acc: 0.3778 - val_loss: 1.6267 - val_acc: 0.3829\n",
            "Epoch 10/80\n",
            "9140/9140 [==============================] - 52s 6ms/step - loss: 1.6155 - acc: 0.3828 - val_loss: 1.5899 - val_acc: 0.3751\n",
            "Epoch 11/80\n",
            "9140/9140 [==============================] - 52s 6ms/step - loss: 1.5772 - acc: 0.3887 - val_loss: 1.5444 - val_acc: 0.3742\n",
            "Epoch 12/80\n",
            "9140/9140 [==============================] - 52s 6ms/step - loss: 1.5294 - acc: 0.3947 - val_loss: 1.5137 - val_acc: 0.3772\n",
            "Epoch 13/80\n",
            "9140/9140 [==============================] - 53s 6ms/step - loss: 1.4875 - acc: 0.4001 - val_loss: 1.4606 - val_acc: 0.3947\n",
            "Epoch 14/80\n",
            "9140/9140 [==============================] - 53s 6ms/step - loss: 1.4443 - acc: 0.4080 - val_loss: 1.4174 - val_acc: 0.4031\n",
            "Epoch 15/80\n",
            "9140/9140 [==============================] - 52s 6ms/step - loss: 1.3881 - acc: 0.4173 - val_loss: 1.3868 - val_acc: 0.3991\n",
            "Epoch 16/80\n",
            "9140/9140 [==============================] - 52s 6ms/step - loss: 1.3306 - acc: 0.4307 - val_loss: 1.3013 - val_acc: 0.4538\n",
            "Epoch 17/80\n",
            "9140/9140 [==============================] - 52s 6ms/step - loss: 1.2787 - acc: 0.4704 - val_loss: 1.2875 - val_acc: 0.4853\n",
            "Epoch 18/80\n",
            "9140/9140 [==============================] - 52s 6ms/step - loss: 1.2284 - acc: 0.5068 - val_loss: 1.2096 - val_acc: 0.5090\n",
            "Epoch 19/80\n",
            "9140/9140 [==============================] - 52s 6ms/step - loss: 1.1821 - acc: 0.5293 - val_loss: 1.2570 - val_acc: 0.5164\n",
            "Epoch 20/80\n",
            "9140/9140 [==============================] - 52s 6ms/step - loss: 1.1380 - acc: 0.5572 - val_loss: 1.1473 - val_acc: 0.5532\n",
            "Epoch 21/80\n",
            "9140/9140 [==============================] - 53s 6ms/step - loss: 1.0661 - acc: 0.5778 - val_loss: 1.0668 - val_acc: 0.5860\n",
            "Epoch 22/80\n",
            "9140/9140 [==============================] - 52s 6ms/step - loss: 1.0245 - acc: 0.6034 - val_loss: 1.0037 - val_acc: 0.6105\n",
            "Epoch 23/80\n",
            "9140/9140 [==============================] - 52s 6ms/step - loss: 0.9643 - acc: 0.6303 - val_loss: 1.0018 - val_acc: 0.6136\n",
            "Epoch 24/80\n",
            "9140/9140 [==============================] - 53s 6ms/step - loss: 0.9544 - acc: 0.6299 - val_loss: 1.0303 - val_acc: 0.6171\n",
            "Epoch 25/80\n",
            "9140/9140 [==============================] - 52s 6ms/step - loss: 0.9045 - acc: 0.6586 - val_loss: 0.9097 - val_acc: 0.7020\n",
            "Epoch 26/80\n",
            "9140/9140 [==============================] - 52s 6ms/step - loss: 0.8460 - acc: 0.6892 - val_loss: 0.8515 - val_acc: 0.7221\n",
            "Epoch 27/80\n",
            "9140/9140 [==============================] - 52s 6ms/step - loss: 0.8266 - acc: 0.7003 - val_loss: 0.8619 - val_acc: 0.7059\n",
            "Epoch 28/80\n",
            "9140/9140 [==============================] - 52s 6ms/step - loss: 0.7768 - acc: 0.7216 - val_loss: 0.7710 - val_acc: 0.7729\n",
            "Epoch 29/80\n",
            "9140/9140 [==============================] - 52s 6ms/step - loss: 0.7338 - acc: 0.7484 - val_loss: 0.7847 - val_acc: 0.7615\n",
            "Epoch 30/80\n",
            "9140/9140 [==============================] - 52s 6ms/step - loss: 0.7025 - acc: 0.7623 - val_loss: 0.7470 - val_acc: 0.7799\n",
            "Epoch 31/80\n",
            "9140/9140 [==============================] - 52s 6ms/step - loss: 0.6686 - acc: 0.7739 - val_loss: 0.7426 - val_acc: 0.7698\n",
            "Epoch 32/80\n",
            "9140/9140 [==============================] - 52s 6ms/step - loss: 0.6528 - acc: 0.7787 - val_loss: 0.7021 - val_acc: 0.8031\n",
            "Epoch 33/80\n",
            "9140/9140 [==============================] - 51s 6ms/step - loss: 0.6409 - acc: 0.7947 - val_loss: 0.6993 - val_acc: 0.7961\n",
            "Epoch 34/80\n",
            "9140/9140 [==============================] - 51s 6ms/step - loss: 0.5901 - acc: 0.8068 - val_loss: 0.6833 - val_acc: 0.8162\n",
            "Epoch 35/80\n",
            "9140/9140 [==============================] - 51s 6ms/step - loss: 0.6418 - acc: 0.7894 - val_loss: 0.8840 - val_acc: 0.6691\n",
            "Epoch 36/80\n",
            "9140/9140 [==============================] - 52s 6ms/step - loss: 0.7349 - acc: 0.7384 - val_loss: 0.7263 - val_acc: 0.7641\n",
            "Epoch 37/80\n",
            "9140/9140 [==============================] - 51s 6ms/step - loss: 0.6154 - acc: 0.8005 - val_loss: 0.6629 - val_acc: 0.7891\n",
            "Epoch 38/80\n",
            "9140/9140 [==============================] - 52s 6ms/step - loss: 0.6177 - acc: 0.8004 - val_loss: 0.5981 - val_acc: 0.8403\n",
            "Epoch 39/80\n",
            "9140/9140 [==============================] - 51s 6ms/step - loss: 0.5661 - acc: 0.8200 - val_loss: 0.6410 - val_acc: 0.7934\n",
            "Epoch 40/80\n",
            "9140/9140 [==============================] - 52s 6ms/step - loss: 0.5211 - acc: 0.8358 - val_loss: 0.5511 - val_acc: 0.8503\n",
            "Epoch 41/80\n",
            "9140/9140 [==============================] - 52s 6ms/step - loss: 0.4919 - acc: 0.8463 - val_loss: 0.5919 - val_acc: 0.8429\n",
            "Epoch 42/80\n",
            "9140/9140 [==============================] - 52s 6ms/step - loss: 0.5285 - acc: 0.8350 - val_loss: 0.6150 - val_acc: 0.8105\n",
            "Epoch 43/80\n",
            "9140/9140 [==============================] - 52s 6ms/step - loss: 0.5567 - acc: 0.8177 - val_loss: 0.6185 - val_acc: 0.8048\n",
            "Epoch 44/80\n",
            "9140/9140 [==============================] - 52s 6ms/step - loss: 0.5317 - acc: 0.8300 - val_loss: 0.5396 - val_acc: 0.8595\n",
            "Epoch 45/80\n",
            "9140/9140 [==============================] - 51s 6ms/step - loss: 0.4630 - acc: 0.8563 - val_loss: 0.5589 - val_acc: 0.8451\n",
            "Epoch 46/80\n",
            "9140/9140 [==============================] - 51s 6ms/step - loss: 0.4427 - acc: 0.8646 - val_loss: 0.4975 - val_acc: 0.8779\n",
            "Epoch 47/80\n",
            "9140/9140 [==============================] - 52s 6ms/step - loss: 0.4681 - acc: 0.8521 - val_loss: 0.5900 - val_acc: 0.8381\n",
            "Epoch 48/80\n",
            "9140/9140 [==============================] - 52s 6ms/step - loss: 0.4866 - acc: 0.8516 - val_loss: 0.5050 - val_acc: 0.8617\n",
            "Epoch 49/80\n",
            "9140/9140 [==============================] - 51s 6ms/step - loss: 0.4212 - acc: 0.8790 - val_loss: 0.5198 - val_acc: 0.8503\n",
            "Epoch 50/80\n",
            "9140/9140 [==============================] - 52s 6ms/step - loss: 0.4218 - acc: 0.8742 - val_loss: 0.6073 - val_acc: 0.8171\n",
            "Epoch 51/80\n",
            "9140/9140 [==============================] - 52s 6ms/step - loss: 0.4602 - acc: 0.8540 - val_loss: 0.5352 - val_acc: 0.8516\n",
            "2285/2285 [==============================] - 7s 3ms/step\n"
          ],
          "name": "stdout"
        }
      ]
    },
    {
      "cell_type": "code",
      "metadata": {
        "id": "EfDuy3lwS7z3",
        "colab_type": "code",
        "colab": {}
      },
      "source": [
        "y = model_L12_AssignmentGroups.predict(X_train_Zero)\n",
        "predictedClass = np.argmax(y,axis=1).tolist()\n",
        "actualClass = np.argmax(Y_train_Zero,axis=1).tolist()\n",
        "    \n",
        "tempDf_L12_AssignmentGroups = pd.DataFrame()\n",
        "tempDf_L12_AssignmentGroups['ActualValue'] = pd.Series(actualClass)\n",
        "tempDf_L12_AssignmentGroups['PredictedClass'] = pd.Series(predictedClass)"
      ],
      "execution_count": 0,
      "outputs": []
    },
    {
      "cell_type": "code",
      "metadata": {
        "id": "DcjKqsI4TFXd",
        "colab_type": "code",
        "outputId": "bf027f01-062c-4c0c-c13a-f33134402c7e",
        "colab": {
          "base_uri": "https://localhost:8080/",
          "height": 34
        }
      },
      "source": [
        "print(len(L3))"
      ],
      "execution_count": 38,
      "outputs": [
        {
          "output_type": "stream",
          "text": [
            "7\n"
          ],
          "name": "stdout"
        }
      ]
    },
    {
      "cell_type": "code",
      "metadata": {
        "id": "wf3TCA3pMOYw",
        "colab_type": "code",
        "colab": {}
      },
      "source": [
        "# SECOND MODEL BEGINS HERE FOR GROUP 2  - All assignment groups that falls under L3 defined above\n",
        "\n",
        "model_L3_AssignmentGroups = Sequential()\n",
        "embedding = Embedding(len(embeddings),300,weights=[embeddings], input_length=maxlen, trainable=False)\n",
        "\n",
        "model_L3_AssignmentGroups.add(embedding)\n",
        "model_L3_AssignmentGroups.add(LSTM(maxlen))\n",
        "model_L3_AssignmentGroups.add(Dense(100, activation='relu'))\n",
        "model_L3_AssignmentGroups.add(Dense(90, activation='relu'))\n",
        "model_L3_AssignmentGroups.add(Dense(70, activation='relu'))\n",
        "# model_L3_AssignmentGroups.add(Dropout(0.25) )\n",
        "\n",
        "#L3 subgroups\n",
        "model_L3_AssignmentGroups.add(Dense(len(L3), activation='softmax'))\n",
        "#model_L3_AssignmentGroups.compile(loss='binary_crossentropy',optimizer='adam',metrics=['accuracy'])\n",
        "model_L3_AssignmentGroups.compile(loss='categorical_crossentropy',optimizer='adam',metrics=['accuracy'])"
      ],
      "execution_count": 0,
      "outputs": []
    },
    {
      "cell_type": "code",
      "metadata": {
        "id": "Ajb5vjl6TpOn",
        "colab_type": "code",
        "outputId": "68fbc087-6217-46ea-9493-9baaa3704302",
        "colab": {
          "base_uri": "https://localhost:8080/",
          "height": 901
        }
      },
      "source": [
        "history=model_L3_AssignmentGroups.fit(X_train_One,Y_train_One, batch_size=10,epochs=50, class_weight = 'auto',\n",
        "                                      validation_data=(X_validation_One,Y_validation_One),\n",
        "                                      callbacks=[early], \n",
        "                                      verbose=1)\n",
        "\n",
        "scores = model_L3_AssignmentGroups.evaluate(X_validation_One, Y_validation_One, verbose=1)\n",
        "\n",
        "model_L3_AssignmentGroups.save(\"model_L3_AssignmentGroups.h5\")"
      ],
      "execution_count": 40,
      "outputs": [
        {
          "output_type": "stream",
          "text": [
            "Train on 4437 samples, validate on 1109 samples\n",
            "Epoch 1/50\n",
            "4437/4437 [==============================] - 140s 32ms/step - loss: 1.9351 - acc: 0.1783 - val_loss: 1.9234 - val_acc: 0.1794\n",
            "Epoch 2/50\n",
            "4437/4437 [==============================] - 122s 28ms/step - loss: 1.9106 - acc: 0.1830 - val_loss: 1.8797 - val_acc: 0.2191\n",
            "Epoch 3/50\n",
            "4437/4437 [==============================] - 122s 28ms/step - loss: 1.8323 - acc: 0.2270 - val_loss: 1.7920 - val_acc: 0.2480\n",
            "Epoch 4/50\n",
            "4437/4437 [==============================] - 123s 28ms/step - loss: 1.6208 - acc: 0.3164 - val_loss: 1.4803 - val_acc: 0.3697\n",
            "Epoch 5/50\n",
            "4437/4437 [==============================] - 123s 28ms/step - loss: 1.3806 - acc: 0.4411 - val_loss: 1.3160 - val_acc: 0.4716\n",
            "Epoch 6/50\n",
            "4437/4437 [==============================] - 124s 28ms/step - loss: 1.2107 - acc: 0.5152 - val_loss: 1.1905 - val_acc: 0.5203\n",
            "Epoch 7/50\n",
            "4437/4437 [==============================] - 124s 28ms/step - loss: 0.9281 - acc: 0.6441 - val_loss: 0.9225 - val_acc: 0.6456\n",
            "Epoch 8/50\n",
            "4437/4437 [==============================] - 124s 28ms/step - loss: 0.6648 - acc: 0.7532 - val_loss: 0.6958 - val_acc: 0.7547\n",
            "Epoch 9/50\n",
            "4437/4437 [==============================] - 125s 28ms/step - loss: 0.4967 - acc: 0.8161 - val_loss: 0.7976 - val_acc: 0.7178\n",
            "Epoch 10/50\n",
            "4437/4437 [==============================] - 124s 28ms/step - loss: 0.4733 - acc: 0.8220 - val_loss: 0.6410 - val_acc: 0.7773\n",
            "Epoch 11/50\n",
            "4437/4437 [==============================] - 126s 28ms/step - loss: 0.3392 - acc: 0.8664 - val_loss: 0.4891 - val_acc: 0.8088\n",
            "Epoch 12/50\n",
            "4437/4437 [==============================] - 126s 28ms/step - loss: 0.2799 - acc: 0.8796 - val_loss: 0.5357 - val_acc: 0.8088\n",
            "Epoch 13/50\n",
            "4437/4437 [==============================] - 126s 28ms/step - loss: 0.2834 - acc: 0.8855 - val_loss: 0.5474 - val_acc: 0.8251\n",
            "Epoch 14/50\n",
            "4437/4437 [==============================] - 126s 28ms/step - loss: 0.2707 - acc: 0.8884 - val_loss: 0.5714 - val_acc: 0.8016\n",
            "Epoch 15/50\n",
            "4437/4437 [==============================] - 124s 28ms/step - loss: 0.2478 - acc: 0.9008 - val_loss: 0.4795 - val_acc: 0.8287\n",
            "Epoch 16/50\n",
            "4437/4437 [==============================] - 124s 28ms/step - loss: 0.2024 - acc: 0.9121 - val_loss: 0.5794 - val_acc: 0.8251\n",
            "Epoch 17/50\n",
            "4437/4437 [==============================] - 123s 28ms/step - loss: 0.2022 - acc: 0.9180 - val_loss: 0.4628 - val_acc: 0.8503\n",
            "Epoch 18/50\n",
            "4437/4437 [==============================] - 123s 28ms/step - loss: 0.1987 - acc: 0.9249 - val_loss: 0.5580 - val_acc: 0.8404\n",
            "Epoch 19/50\n",
            "4437/4437 [==============================] - 124s 28ms/step - loss: 0.1586 - acc: 0.9371 - val_loss: 0.5365 - val_acc: 0.8485\n",
            "Epoch 20/50\n",
            "4437/4437 [==============================] - 123s 28ms/step - loss: 0.2126 - acc: 0.9182 - val_loss: 0.4556 - val_acc: 0.8413\n",
            "Epoch 21/50\n",
            "4437/4437 [==============================] - 124s 28ms/step - loss: 0.1747 - acc: 0.9355 - val_loss: 0.4821 - val_acc: 0.8485\n",
            "Epoch 22/50\n",
            "4437/4437 [==============================] - 123s 28ms/step - loss: 0.1309 - acc: 0.9488 - val_loss: 0.5183 - val_acc: 0.8458\n",
            "Epoch 23/50\n",
            "4437/4437 [==============================] - 122s 28ms/step - loss: 0.1877 - acc: 0.9310 - val_loss: 0.5464 - val_acc: 0.8386\n",
            "Epoch 24/50\n",
            "4437/4437 [==============================] - 123s 28ms/step - loss: 0.1680 - acc: 0.9362 - val_loss: 0.5588 - val_acc: 0.8305\n",
            "Epoch 25/50\n",
            "4437/4437 [==============================] - 122s 28ms/step - loss: 0.1149 - acc: 0.9583 - val_loss: 0.5249 - val_acc: 0.8557\n",
            "1109/1109 [==============================] - 3s 3ms/step\n"
          ],
          "name": "stdout"
        }
      ]
    },
    {
      "cell_type": "code",
      "metadata": {
        "id": "RXkFrR-mTpA-",
        "colab_type": "code",
        "colab": {}
      },
      "source": [
        "y = model_L3_AssignmentGroups.predict(X_train_One)\n",
        "predictedClass = np.argmax(y,axis=1).tolist()\n",
        "actualClass = np.argmax(Y_train_One,axis=1).tolist()\n",
        "    \n",
        "tempDf_L3_AssignmentGroups = pd.DataFrame()\n",
        "tempDf_L3_AssignmentGroups['ActualValue'] = pd.Series(actualClass)\n",
        "tempDf_L3_AssignmentGroups['PredictedClass'] = pd.Series(predictedClass)"
      ],
      "execution_count": 0,
      "outputs": []
    },
    {
      "cell_type": "code",
      "metadata": {
        "id": "KMjPZXAhT5nZ",
        "colab_type": "code",
        "colab": {}
      },
      "source": [
        "PickleCustomObjects(embeddings,vocabulary,inverse_vocabulary)"
      ],
      "execution_count": 0,
      "outputs": []
    },
    {
      "cell_type": "markdown",
      "metadata": {
        "id": "DFYxk03xWH9_",
        "colab_type": "text"
      },
      "source": [
        "### Section to print the Accuracy, Classification Report and Confusion Matrix"
      ]
    },
    {
      "cell_type": "code",
      "metadata": {
        "id": "jH3_mXwKg7iC",
        "colab_type": "code",
        "colab": {}
      },
      "source": [
        "def multiclass_roc_auc_score(y_test, y_pred, average=\"macro\"):\n",
        "  lb = preprocessing.LabelBinarizer()\n",
        "  lb.fit(y_test)\n",
        "  y_test = lb.transform(y_test)\n",
        "  y_pred = lb.transform(y_pred)\n",
        "  return roc_auc_score(y_test, y_pred, average=average)"
      ],
      "execution_count": 0,
      "outputs": []
    },
    {
      "cell_type": "markdown",
      "metadata": {
        "id": "N4t8QOgY_UHi",
        "colab_type": "text"
      },
      "source": [
        "Showing Confusion Matrix for the Model trained over first level grouping of L12 and L3"
      ]
    },
    {
      "cell_type": "code",
      "metadata": {
        "id": "hWMS8JX0PAzv",
        "colab_type": "code",
        "outputId": "5a5659dd-fefe-464b-f44d-654f472f8ac5",
        "colab": {
          "base_uri": "https://localhost:8080/",
          "height": 537
        }
      },
      "source": [
        "print_scores(tempDf['ActualValue'], tempDf['PredictedClass'])\n",
        "print(\"ROC_AUC_Score: \", multiclass_roc_auc_score(tempDf['ActualValue'],tempDf['PredictedClass']))"
      ],
      "execution_count": 44,
      "outputs": [
        {
          "output_type": "stream",
          "text": [
            "Accuracy score: \n",
            " 0.977756499963173\n",
            "Test-set confusion matrix:\n",
            " [[9111   46]\n",
            " [ 256 4164]]\n",
            "Classification report:\n",
            "               precision    recall  f1-score   support\n",
            "\n",
            "           0       0.97      0.99      0.98      9157\n",
            "           1       0.99      0.94      0.97      4420\n",
            "\n",
            "    accuracy                           0.98     13577\n",
            "   macro avg       0.98      0.97      0.97     13577\n",
            "weighted avg       0.98      0.98      0.98     13577\n",
            "\n",
            "ROC_AUC_Score:  0.9685289843291758\n"
          ],
          "name": "stdout"
        },
        {
          "output_type": "display_data",
          "data": {
            "image/png": "[encoded data removed]",
            "text/plain": [
              "<Figure size 432x288 with 2 Axes>"
            ]
          },
          "metadata": {
            "tags": []
          }
        }
      ]
    },
    {
      "cell_type": "code",
      "metadata": {
        "id": "fmXx260B-8eB",
        "colab_type": "code",
        "colab": {}
      },
      "source": [
        ""
      ],
      "execution_count": 0,
      "outputs": []
    },
    {
      "cell_type": "markdown",
      "metadata": {
        "id": "MJ28A2aN_iu_",
        "colab_type": "text"
      },
      "source": [
        "Showing Confusion Matrix for the First Group L12 and within that Assignment Groups clubbed"
      ]
    },
    {
      "cell_type": "code",
      "metadata": {
        "id": "9rC_Usem-7yz",
        "colab_type": "code",
        "outputId": "70502996-2649-4c47-b9a9-88ccff09e9c8",
        "colab": {
          "base_uri": "https://localhost:8080/",
          "height": 741
        }
      },
      "source": [
        "# tempDf_L12_AssignmentGroups\n",
        "print_scores(tempDf_L12_AssignmentGroups['ActualValue'], tempDf_L12_AssignmentGroups['PredictedClass'])\n",
        "print(\"ROC_AUC_Score: \", multiclass_roc_auc_score(tempDf_L12_AssignmentGroups['ActualValue'],tempDf_L12_AssignmentGroups['PredictedClass']))"
      ],
      "execution_count": 45,
      "outputs": [
        {
          "output_type": "stream",
          "text": [
            "Accuracy score: \n",
            " 0.9060175054704596\n",
            "Test-set confusion matrix:\n",
            " [[2460   29   82   18    5   28    2    5]\n",
            " [   0 1128    0    0    0    0    0    0]\n",
            " [  57    4  758    4   20   81    0    6]\n",
            " [   0   92    0 1045   18    3    0    9]\n",
            " [   0    4    0    0  788    9    0   11]\n",
            " [   6    9   19    0   83  796    0    4]\n",
            " [   2   83    1    0    1    1  619   10]\n",
            " [   0  153    0    0    0    0    0  687]]\n",
            "Classification report:\n",
            "               precision    recall  f1-score   support\n",
            "\n",
            "           0       0.97      0.94      0.95      2629\n",
            "           1       0.75      1.00      0.86      1128\n",
            "           2       0.88      0.82      0.85       930\n",
            "           3       0.98      0.90      0.94      1167\n",
            "           4       0.86      0.97      0.91       812\n",
            "           5       0.87      0.87      0.87       917\n",
            "           6       1.00      0.86      0.93       717\n",
            "           7       0.94      0.82      0.87       840\n",
            "\n",
            "    accuracy                           0.91      9140\n",
            "   macro avg       0.91      0.90      0.90      9140\n",
            "weighted avg       0.92      0.91      0.91      9140\n",
            "\n",
            "ROC_AUC_Score:  0.9411440919011855\n"
          ],
          "name": "stdout"
        },
        {
          "output_type": "display_data",
          "data": {
            "image/png": "[encoded data removed]",
            "text/plain": [
              "<Figure size 432x288 with 2 Axes>"
            ]
          },
          "metadata": {
            "tags": []
          }
        }
      ]
    },
    {
      "cell_type": "code",
      "metadata": {
        "id": "0wnTUmoG-7uS",
        "colab_type": "code",
        "colab": {}
      },
      "source": [
        ""
      ],
      "execution_count": 0,
      "outputs": []
    },
    {
      "cell_type": "markdown",
      "metadata": {
        "id": "l8iqoBQm_sgB",
        "colab_type": "text"
      },
      "source": [
        "Showing Confusion Matrix for the Second Group L3 and within that Assignment Groups clubbed"
      ]
    },
    {
      "cell_type": "code",
      "metadata": {
        "id": "C8xt8rtl-7qK",
        "colab_type": "code",
        "outputId": "01dd688d-ea09-47d8-e198-03731b722453",
        "colab": {
          "base_uri": "https://localhost:8080/",
          "height": 707
        }
      },
      "source": [
        "print_scores(tempDf_L3_AssignmentGroups['ActualValue'], tempDf_L3_AssignmentGroups['PredictedClass'])\n",
        "print(\"ROC_AUC_Score: \", multiclass_roc_auc_score(tempDf_L3_AssignmentGroups['ActualValue'],tempDf_L3_AssignmentGroups['PredictedClass']))"
      ],
      "execution_count": 46,
      "outputs": [
        {
          "output_type": "stream",
          "text": [
            "Accuracy score: \n",
            " 0.9725039441063782\n",
            "Test-set confusion matrix:\n",
            " [[662   0   0   0   4   0   0]\n",
            " [  0 778   0   0   0   0   0]\n",
            " [  0   0 629   0   0   0   0]\n",
            " [  0   0   0 614   0   0   0]\n",
            " [  0   0   0   0 580   0   0]\n",
            " [  0   2   1   0   6 556  76]\n",
            " [  0   0   9   2   7  15 496]]\n",
            "Classification report:\n",
            "               precision    recall  f1-score   support\n",
            "\n",
            "           0       1.00      0.99      1.00       666\n",
            "           1       1.00      1.00      1.00       778\n",
            "           2       0.98      1.00      0.99       629\n",
            "           3       1.00      1.00      1.00       614\n",
            "           4       0.97      1.00      0.99       580\n",
            "           5       0.97      0.87      0.92       641\n",
            "           6       0.87      0.94      0.90       529\n",
            "\n",
            "    accuracy                           0.97      4437\n",
            "   macro avg       0.97      0.97      0.97      4437\n",
            "weighted avg       0.97      0.97      0.97      4437\n",
            "\n",
            "ROC_AUC_Score:  0.9833931895592495\n"
          ],
          "name": "stdout"
        },
        {
          "output_type": "display_data",
          "data": {
            "image/png": "[encoded data removed]",
            "text/plain": [
              "<Figure size 432x288 with 2 Axes>"
            ]
          },
          "metadata": {
            "tags": []
          }
        }
      ]
    }
  ]
}